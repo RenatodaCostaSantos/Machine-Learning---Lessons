{
  "nbformat": 4,
  "nbformat_minor": 0,
  "metadata": {
    "colab": {
      "provenance": [],
      "authorship_tag": "ABX9TyPv76k8ExTr01LRuL00IC+x",
      "include_colab_link": true
    },
    "kernelspec": {
      "name": "python3",
      "display_name": "Python 3"
    },
    "language_info": {
      "name": "python"
    }
  },
  "cells": [
    {
      "cell_type": "markdown",
      "metadata": {
        "id": "view-in-github",
        "colab_type": "text"
      },
      "source": [
        "<a href=\"https://colab.research.google.com/github/RenatodaCostaSantos/Machine-Learning---Lessons/blob/main/Supervised%20ML/k-NN/K_Nearest_Neighbors.ipynb\" target=\"_parent\"><img src=\"https://colab.research.google.com/assets/colab-badge.svg\" alt=\"Open In Colab\"/></a>"
      ]
    },
    {
      "cell_type": "markdown",
      "source": [
        "# Predicting if a client will sign up for a term deposit\n",
        "\n",
        "In this lesson, we will introduce the machine learning workflow and use the K-nearest neighbors algorithm to predict if clients of a bank will sign up for a term deposit.\n",
        "\n",
        "We will use the [Banking Market Dataset](https://archive.ics.uci.edu/ml/datasets/bank+marketing). It contains data from a Portuguese bank institution that runs marketing programs to target clients to sign up for the investment program. \n",
        "\n",
        "Note:\n",
        "\n",
        "- We start this lesson without the assistance of scikitlearn packages. It will make the coding less convenient but will illustrate how scikitlearn works under the hood. As the complexity of the workflow increases, we will appeal to the sklearn libraries.\n",
        "\n",
        "- This lesson will be very repetitive and that's just to show explicitly how the workflow in a machine learning model building works in practice. There are a lot of fine tuning to be done and that takes time and plenty of repetitive tasks.\n",
        "\n",
        "Let's import and read the file:"
      ],
      "metadata": {
        "id": "3mZV3-T30AVu"
      }
    },
    {
      "cell_type": "code",
      "execution_count": 1,
      "metadata": {
        "colab": {
          "base_uri": "https://localhost:8080/"
        },
        "id": "RjdDBhsDzYm4",
        "outputId": "623c5d32-2a47-4847-f170-21413a336cb6"
      },
      "outputs": [
        {
          "output_type": "stream",
          "name": "stdout",
          "text": [
            "Drive already mounted at /content/drive; to attempt to forcibly remount, call drive.mount(\"/content/drive\", force_remount=True).\n"
          ]
        }
      ],
      "source": [
        "import pandas as pd\n",
        "import numpy as np\n",
        "from google.colab import drive\n",
        "\n",
        "drive.mount('/content/drive') \n"
      ]
    },
    {
      "cell_type": "code",
      "source": [
        "banking_df = pd.read_csv('/content/drive/MyDrive/Colab Notebooks/subscription_prediction.csv')"
      ],
      "metadata": {
        "id": "cJ1MmALTz_ic"
      },
      "execution_count": 2,
      "outputs": []
    },
    {
      "cell_type": "code",
      "source": [
        "banking_df.shape"
      ],
      "metadata": {
        "colab": {
          "base_uri": "https://localhost:8080/"
        },
        "id": "S5omOBav5Plt",
        "outputId": "9188fc9a-1613-4de7-9d60-b53c7c4b5424"
      },
      "execution_count": 3,
      "outputs": [
        {
          "output_type": "execute_result",
          "data": {
            "text/plain": [
              "(10122, 21)"
            ]
          },
          "metadata": {},
          "execution_count": 3
        }
      ]
    },
    {
      "cell_type": "markdown",
      "source": [
        "There are 10122 observations and 21 features, including the target column named $y$."
      ],
      "metadata": {
        "id": "moHu1EVN6Knb"
      }
    },
    {
      "cell_type": "code",
      "source": [
        "banking_df.head()"
      ],
      "metadata": {
        "colab": {
          "base_uri": "https://localhost:8080/",
          "height": 236
        },
        "id": "-BfgL5gR5Vm9",
        "outputId": "61cba780-a399-4520-ea66-e1269dffe25a"
      },
      "execution_count": 4,
      "outputs": [
        {
          "output_type": "execute_result",
          "data": {
            "text/plain": [
              "   age          job   marital    education  default housing loan    contact  \\\n",
              "0   40       admin.   married     basic.6y       no      no   no  telephone   \n",
              "1   56     services   married  high.school       no      no  yes  telephone   \n",
              "2   41  blue-collar   married      unknown  unknown      no   no  telephone   \n",
              "3   57    housemaid  divorced     basic.4y       no     yes   no  telephone   \n",
              "4   39   management    single     basic.9y  unknown      no   no  telephone   \n",
              "\n",
              "  month day_of_week  ...  campaign  pdays  previous     poutcome emp.var.rate  \\\n",
              "0   may         mon  ...         1    999         0  nonexistent          1.1   \n",
              "1   may         mon  ...         1    999         0  nonexistent          1.1   \n",
              "2   may         mon  ...         1    999         0  nonexistent          1.1   \n",
              "3   may         mon  ...         1    999         0  nonexistent          1.1   \n",
              "4   may         mon  ...         1    999         0  nonexistent          1.1   \n",
              "\n",
              "   cons.price.idx  cons.conf.idx  euribor3m  nr.employed   y  \n",
              "0          93.994          -36.4      4.857       5191.0  no  \n",
              "1          93.994          -36.4      4.857       5191.0  no  \n",
              "2          93.994          -36.4      4.857       5191.0  no  \n",
              "3          93.994          -36.4      4.857       5191.0  no  \n",
              "4          93.994          -36.4      4.857       5191.0  no  \n",
              "\n",
              "[5 rows x 21 columns]"
            ],
            "text/html": [
              "\n",
              "  <div id=\"df-824c37c8-0629-4d64-b796-6752f454d994\">\n",
              "    <div class=\"colab-df-container\">\n",
              "      <div>\n",
              "<style scoped>\n",
              "    .dataframe tbody tr th:only-of-type {\n",
              "        vertical-align: middle;\n",
              "    }\n",
              "\n",
              "    .dataframe tbody tr th {\n",
              "        vertical-align: top;\n",
              "    }\n",
              "\n",
              "    .dataframe thead th {\n",
              "        text-align: right;\n",
              "    }\n",
              "</style>\n",
              "<table border=\"1\" class=\"dataframe\">\n",
              "  <thead>\n",
              "    <tr style=\"text-align: right;\">\n",
              "      <th></th>\n",
              "      <th>age</th>\n",
              "      <th>job</th>\n",
              "      <th>marital</th>\n",
              "      <th>education</th>\n",
              "      <th>default</th>\n",
              "      <th>housing</th>\n",
              "      <th>loan</th>\n",
              "      <th>contact</th>\n",
              "      <th>month</th>\n",
              "      <th>day_of_week</th>\n",
              "      <th>...</th>\n",
              "      <th>campaign</th>\n",
              "      <th>pdays</th>\n",
              "      <th>previous</th>\n",
              "      <th>poutcome</th>\n",
              "      <th>emp.var.rate</th>\n",
              "      <th>cons.price.idx</th>\n",
              "      <th>cons.conf.idx</th>\n",
              "      <th>euribor3m</th>\n",
              "      <th>nr.employed</th>\n",
              "      <th>y</th>\n",
              "    </tr>\n",
              "  </thead>\n",
              "  <tbody>\n",
              "    <tr>\n",
              "      <th>0</th>\n",
              "      <td>40</td>\n",
              "      <td>admin.</td>\n",
              "      <td>married</td>\n",
              "      <td>basic.6y</td>\n",
              "      <td>no</td>\n",
              "      <td>no</td>\n",
              "      <td>no</td>\n",
              "      <td>telephone</td>\n",
              "      <td>may</td>\n",
              "      <td>mon</td>\n",
              "      <td>...</td>\n",
              "      <td>1</td>\n",
              "      <td>999</td>\n",
              "      <td>0</td>\n",
              "      <td>nonexistent</td>\n",
              "      <td>1.1</td>\n",
              "      <td>93.994</td>\n",
              "      <td>-36.4</td>\n",
              "      <td>4.857</td>\n",
              "      <td>5191.0</td>\n",
              "      <td>no</td>\n",
              "    </tr>\n",
              "    <tr>\n",
              "      <th>1</th>\n",
              "      <td>56</td>\n",
              "      <td>services</td>\n",
              "      <td>married</td>\n",
              "      <td>high.school</td>\n",
              "      <td>no</td>\n",
              "      <td>no</td>\n",
              "      <td>yes</td>\n",
              "      <td>telephone</td>\n",
              "      <td>may</td>\n",
              "      <td>mon</td>\n",
              "      <td>...</td>\n",
              "      <td>1</td>\n",
              "      <td>999</td>\n",
              "      <td>0</td>\n",
              "      <td>nonexistent</td>\n",
              "      <td>1.1</td>\n",
              "      <td>93.994</td>\n",
              "      <td>-36.4</td>\n",
              "      <td>4.857</td>\n",
              "      <td>5191.0</td>\n",
              "      <td>no</td>\n",
              "    </tr>\n",
              "    <tr>\n",
              "      <th>2</th>\n",
              "      <td>41</td>\n",
              "      <td>blue-collar</td>\n",
              "      <td>married</td>\n",
              "      <td>unknown</td>\n",
              "      <td>unknown</td>\n",
              "      <td>no</td>\n",
              "      <td>no</td>\n",
              "      <td>telephone</td>\n",
              "      <td>may</td>\n",
              "      <td>mon</td>\n",
              "      <td>...</td>\n",
              "      <td>1</td>\n",
              "      <td>999</td>\n",
              "      <td>0</td>\n",
              "      <td>nonexistent</td>\n",
              "      <td>1.1</td>\n",
              "      <td>93.994</td>\n",
              "      <td>-36.4</td>\n",
              "      <td>4.857</td>\n",
              "      <td>5191.0</td>\n",
              "      <td>no</td>\n",
              "    </tr>\n",
              "    <tr>\n",
              "      <th>3</th>\n",
              "      <td>57</td>\n",
              "      <td>housemaid</td>\n",
              "      <td>divorced</td>\n",
              "      <td>basic.4y</td>\n",
              "      <td>no</td>\n",
              "      <td>yes</td>\n",
              "      <td>no</td>\n",
              "      <td>telephone</td>\n",
              "      <td>may</td>\n",
              "      <td>mon</td>\n",
              "      <td>...</td>\n",
              "      <td>1</td>\n",
              "      <td>999</td>\n",
              "      <td>0</td>\n",
              "      <td>nonexistent</td>\n",
              "      <td>1.1</td>\n",
              "      <td>93.994</td>\n",
              "      <td>-36.4</td>\n",
              "      <td>4.857</td>\n",
              "      <td>5191.0</td>\n",
              "      <td>no</td>\n",
              "    </tr>\n",
              "    <tr>\n",
              "      <th>4</th>\n",
              "      <td>39</td>\n",
              "      <td>management</td>\n",
              "      <td>single</td>\n",
              "      <td>basic.9y</td>\n",
              "      <td>unknown</td>\n",
              "      <td>no</td>\n",
              "      <td>no</td>\n",
              "      <td>telephone</td>\n",
              "      <td>may</td>\n",
              "      <td>mon</td>\n",
              "      <td>...</td>\n",
              "      <td>1</td>\n",
              "      <td>999</td>\n",
              "      <td>0</td>\n",
              "      <td>nonexistent</td>\n",
              "      <td>1.1</td>\n",
              "      <td>93.994</td>\n",
              "      <td>-36.4</td>\n",
              "      <td>4.857</td>\n",
              "      <td>5191.0</td>\n",
              "      <td>no</td>\n",
              "    </tr>\n",
              "  </tbody>\n",
              "</table>\n",
              "<p>5 rows × 21 columns</p>\n",
              "</div>\n",
              "      <button class=\"colab-df-convert\" onclick=\"convertToInteractive('df-824c37c8-0629-4d64-b796-6752f454d994')\"\n",
              "              title=\"Convert this dataframe to an interactive table.\"\n",
              "              style=\"display:none;\">\n",
              "        \n",
              "  <svg xmlns=\"http://www.w3.org/2000/svg\" height=\"24px\"viewBox=\"0 0 24 24\"\n",
              "       width=\"24px\">\n",
              "    <path d=\"M0 0h24v24H0V0z\" fill=\"none\"/>\n",
              "    <path d=\"M18.56 5.44l.94 2.06.94-2.06 2.06-.94-2.06-.94-.94-2.06-.94 2.06-2.06.94zm-11 1L8.5 8.5l.94-2.06 2.06-.94-2.06-.94L8.5 2.5l-.94 2.06-2.06.94zm10 10l.94 2.06.94-2.06 2.06-.94-2.06-.94-.94-2.06-.94 2.06-2.06.94z\"/><path d=\"M17.41 7.96l-1.37-1.37c-.4-.4-.92-.59-1.43-.59-.52 0-1.04.2-1.43.59L10.3 9.45l-7.72 7.72c-.78.78-.78 2.05 0 2.83L4 21.41c.39.39.9.59 1.41.59.51 0 1.02-.2 1.41-.59l7.78-7.78 2.81-2.81c.8-.78.8-2.07 0-2.86zM5.41 20L4 18.59l7.72-7.72 1.47 1.35L5.41 20z\"/>\n",
              "  </svg>\n",
              "      </button>\n",
              "      \n",
              "  <style>\n",
              "    .colab-df-container {\n",
              "      display:flex;\n",
              "      flex-wrap:wrap;\n",
              "      gap: 12px;\n",
              "    }\n",
              "\n",
              "    .colab-df-convert {\n",
              "      background-color: #E8F0FE;\n",
              "      border: none;\n",
              "      border-radius: 50%;\n",
              "      cursor: pointer;\n",
              "      display: none;\n",
              "      fill: #1967D2;\n",
              "      height: 32px;\n",
              "      padding: 0 0 0 0;\n",
              "      width: 32px;\n",
              "    }\n",
              "\n",
              "    .colab-df-convert:hover {\n",
              "      background-color: #E2EBFA;\n",
              "      box-shadow: 0px 1px 2px rgba(60, 64, 67, 0.3), 0px 1px 3px 1px rgba(60, 64, 67, 0.15);\n",
              "      fill: #174EA6;\n",
              "    }\n",
              "\n",
              "    [theme=dark] .colab-df-convert {\n",
              "      background-color: #3B4455;\n",
              "      fill: #D2E3FC;\n",
              "    }\n",
              "\n",
              "    [theme=dark] .colab-df-convert:hover {\n",
              "      background-color: #434B5C;\n",
              "      box-shadow: 0px 1px 3px 1px rgba(0, 0, 0, 0.15);\n",
              "      filter: drop-shadow(0px 1px 2px rgba(0, 0, 0, 0.3));\n",
              "      fill: #FFFFFF;\n",
              "    }\n",
              "  </style>\n",
              "\n",
              "      <script>\n",
              "        const buttonEl =\n",
              "          document.querySelector('#df-824c37c8-0629-4d64-b796-6752f454d994 button.colab-df-convert');\n",
              "        buttonEl.style.display =\n",
              "          google.colab.kernel.accessAllowed ? 'block' : 'none';\n",
              "\n",
              "        async function convertToInteractive(key) {\n",
              "          const element = document.querySelector('#df-824c37c8-0629-4d64-b796-6752f454d994');\n",
              "          const dataTable =\n",
              "            await google.colab.kernel.invokeFunction('convertToInteractive',\n",
              "                                                     [key], {});\n",
              "          if (!dataTable) return;\n",
              "\n",
              "          const docLinkHtml = 'Like what you see? Visit the ' +\n",
              "            '<a target=\"_blank\" href=https://colab.research.google.com/notebooks/data_table.ipynb>data table notebook</a>'\n",
              "            + ' to learn more about interactive tables.';\n",
              "          element.innerHTML = '';\n",
              "          dataTable['output_type'] = 'display_data';\n",
              "          await google.colab.output.renderOutput(dataTable, element);\n",
              "          const docLink = document.createElement('div');\n",
              "          docLink.innerHTML = docLinkHtml;\n",
              "          element.appendChild(docLink);\n",
              "        }\n",
              "      </script>\n",
              "    </div>\n",
              "  </div>\n",
              "  "
            ]
          },
          "metadata": {},
          "execution_count": 4
        }
      ]
    },
    {
      "cell_type": "code",
      "source": [
        "banking_df.info()"
      ],
      "metadata": {
        "colab": {
          "base_uri": "https://localhost:8080/"
        },
        "id": "bdF8iFsg5YRl",
        "outputId": "681c8388-2343-4b63-ecca-03fd63a33b4e"
      },
      "execution_count": 5,
      "outputs": [
        {
          "output_type": "stream",
          "name": "stdout",
          "text": [
            "<class 'pandas.core.frame.DataFrame'>\n",
            "RangeIndex: 10122 entries, 0 to 10121\n",
            "Data columns (total 21 columns):\n",
            " #   Column          Non-Null Count  Dtype  \n",
            "---  ------          --------------  -----  \n",
            " 0   age             10122 non-null  int64  \n",
            " 1   job             10122 non-null  object \n",
            " 2   marital         10122 non-null  object \n",
            " 3   education       10122 non-null  object \n",
            " 4   default         10122 non-null  object \n",
            " 5   housing         10122 non-null  object \n",
            " 6   loan            10122 non-null  object \n",
            " 7   contact         10122 non-null  object \n",
            " 8   month           10122 non-null  object \n",
            " 9   day_of_week     10122 non-null  object \n",
            " 10  duration        10122 non-null  int64  \n",
            " 11  campaign        10122 non-null  int64  \n",
            " 12  pdays           10122 non-null  int64  \n",
            " 13  previous        10122 non-null  int64  \n",
            " 14  poutcome        10122 non-null  object \n",
            " 15  emp.var.rate    10122 non-null  float64\n",
            " 16  cons.price.idx  10122 non-null  float64\n",
            " 17  cons.conf.idx   10122 non-null  float64\n",
            " 18  euribor3m       10122 non-null  float64\n",
            " 19  nr.employed     10122 non-null  float64\n",
            " 20  y               10122 non-null  object \n",
            "dtypes: float64(5), int64(5), object(11)\n",
            "memory usage: 1.6+ MB\n"
          ]
        }
      ]
    },
    {
      "cell_type": "markdown",
      "source": [
        "There are no null values but 11 categorical columns that have to transformed before proceeding with machine learning."
      ],
      "metadata": {
        "id": "ybW9FDCj5ifk"
      }
    },
    {
      "cell_type": "code",
      "source": [
        "banking_df['y'].value_counts(normalize = True)"
      ],
      "metadata": {
        "colab": {
          "base_uri": "https://localhost:8080/"
        },
        "id": "oL8BASPY6WOc",
        "outputId": "13491250-23ac-4ff5-9ea7-211ef9074279"
      },
      "execution_count": 6,
      "outputs": [
        {
          "output_type": "execute_result",
          "data": {
            "text/plain": [
              "no     0.541593\n",
              "yes    0.458407\n",
              "Name: y, dtype: float64"
            ]
          },
          "metadata": {},
          "execution_count": 6
        }
      ]
    },
    {
      "cell_type": "markdown",
      "source": [
        "The distribution of 'yes' and 'no' are fairly symmetrical. This is good because it reduces the tendency of the model to be biased."
      ],
      "metadata": {
        "id": "_YXjztAt6byZ"
      }
    },
    {
      "cell_type": "code",
      "source": [
        "banking_df.describe()"
      ],
      "metadata": {
        "colab": {
          "base_uri": "https://localhost:8080/",
          "height": 300
        },
        "id": "To7ckiva6hob",
        "outputId": "845417d5-c890-4755-b862-476fa2993333"
      },
      "execution_count": 7,
      "outputs": [
        {
          "output_type": "execute_result",
          "data": {
            "text/plain": [
              "                age      duration      campaign         pdays      previous  \\\n",
              "count  10122.000000  10122.000000  10122.000000  10122.000000  10122.000000   \n",
              "mean      40.313673    373.414049      2.369789    896.476882      0.297471   \n",
              "std       11.855014    353.277755      2.472392    302.175859      0.680535   \n",
              "min       17.000000      0.000000      1.000000      0.000000      0.000000   \n",
              "25%       31.000000    140.000000      1.000000    999.000000      0.000000   \n",
              "50%       38.000000    252.000000      2.000000    999.000000      0.000000   \n",
              "75%       48.000000    498.000000      3.000000    999.000000      0.000000   \n",
              "max       98.000000   4199.000000     42.000000    999.000000      6.000000   \n",
              "\n",
              "       emp.var.rate  cons.price.idx  cons.conf.idx     euribor3m   nr.employed  \n",
              "count  10122.000000    10122.000000   10122.000000  10122.000000  10122.000000  \n",
              "mean      -0.432671       93.492407     -40.250573      3.035134   5138.838975  \n",
              "std        1.714657        0.628615       5.271326      1.884191     85.859595  \n",
              "min       -3.400000       92.201000     -50.800000      0.634000   4963.600000  \n",
              "25%       -1.800000       92.963000     -42.700000      1.252000   5076.200000  \n",
              "50%       -0.100000       93.444000     -41.800000      4.076000   5191.000000  \n",
              "75%        1.400000       93.994000     -36.400000      4.959000   5228.100000  \n",
              "max        1.400000       94.767000     -26.900000      5.045000   5228.100000  "
            ],
            "text/html": [
              "\n",
              "  <div id=\"df-292443a5-5fbe-4492-a280-3dc572d36c6e\">\n",
              "    <div class=\"colab-df-container\">\n",
              "      <div>\n",
              "<style scoped>\n",
              "    .dataframe tbody tr th:only-of-type {\n",
              "        vertical-align: middle;\n",
              "    }\n",
              "\n",
              "    .dataframe tbody tr th {\n",
              "        vertical-align: top;\n",
              "    }\n",
              "\n",
              "    .dataframe thead th {\n",
              "        text-align: right;\n",
              "    }\n",
              "</style>\n",
              "<table border=\"1\" class=\"dataframe\">\n",
              "  <thead>\n",
              "    <tr style=\"text-align: right;\">\n",
              "      <th></th>\n",
              "      <th>age</th>\n",
              "      <th>duration</th>\n",
              "      <th>campaign</th>\n",
              "      <th>pdays</th>\n",
              "      <th>previous</th>\n",
              "      <th>emp.var.rate</th>\n",
              "      <th>cons.price.idx</th>\n",
              "      <th>cons.conf.idx</th>\n",
              "      <th>euribor3m</th>\n",
              "      <th>nr.employed</th>\n",
              "    </tr>\n",
              "  </thead>\n",
              "  <tbody>\n",
              "    <tr>\n",
              "      <th>count</th>\n",
              "      <td>10122.000000</td>\n",
              "      <td>10122.000000</td>\n",
              "      <td>10122.000000</td>\n",
              "      <td>10122.000000</td>\n",
              "      <td>10122.000000</td>\n",
              "      <td>10122.000000</td>\n",
              "      <td>10122.000000</td>\n",
              "      <td>10122.000000</td>\n",
              "      <td>10122.000000</td>\n",
              "      <td>10122.000000</td>\n",
              "    </tr>\n",
              "    <tr>\n",
              "      <th>mean</th>\n",
              "      <td>40.313673</td>\n",
              "      <td>373.414049</td>\n",
              "      <td>2.369789</td>\n",
              "      <td>896.476882</td>\n",
              "      <td>0.297471</td>\n",
              "      <td>-0.432671</td>\n",
              "      <td>93.492407</td>\n",
              "      <td>-40.250573</td>\n",
              "      <td>3.035134</td>\n",
              "      <td>5138.838975</td>\n",
              "    </tr>\n",
              "    <tr>\n",
              "      <th>std</th>\n",
              "      <td>11.855014</td>\n",
              "      <td>353.277755</td>\n",
              "      <td>2.472392</td>\n",
              "      <td>302.175859</td>\n",
              "      <td>0.680535</td>\n",
              "      <td>1.714657</td>\n",
              "      <td>0.628615</td>\n",
              "      <td>5.271326</td>\n",
              "      <td>1.884191</td>\n",
              "      <td>85.859595</td>\n",
              "    </tr>\n",
              "    <tr>\n",
              "      <th>min</th>\n",
              "      <td>17.000000</td>\n",
              "      <td>0.000000</td>\n",
              "      <td>1.000000</td>\n",
              "      <td>0.000000</td>\n",
              "      <td>0.000000</td>\n",
              "      <td>-3.400000</td>\n",
              "      <td>92.201000</td>\n",
              "      <td>-50.800000</td>\n",
              "      <td>0.634000</td>\n",
              "      <td>4963.600000</td>\n",
              "    </tr>\n",
              "    <tr>\n",
              "      <th>25%</th>\n",
              "      <td>31.000000</td>\n",
              "      <td>140.000000</td>\n",
              "      <td>1.000000</td>\n",
              "      <td>999.000000</td>\n",
              "      <td>0.000000</td>\n",
              "      <td>-1.800000</td>\n",
              "      <td>92.963000</td>\n",
              "      <td>-42.700000</td>\n",
              "      <td>1.252000</td>\n",
              "      <td>5076.200000</td>\n",
              "    </tr>\n",
              "    <tr>\n",
              "      <th>50%</th>\n",
              "      <td>38.000000</td>\n",
              "      <td>252.000000</td>\n",
              "      <td>2.000000</td>\n",
              "      <td>999.000000</td>\n",
              "      <td>0.000000</td>\n",
              "      <td>-0.100000</td>\n",
              "      <td>93.444000</td>\n",
              "      <td>-41.800000</td>\n",
              "      <td>4.076000</td>\n",
              "      <td>5191.000000</td>\n",
              "    </tr>\n",
              "    <tr>\n",
              "      <th>75%</th>\n",
              "      <td>48.000000</td>\n",
              "      <td>498.000000</td>\n",
              "      <td>3.000000</td>\n",
              "      <td>999.000000</td>\n",
              "      <td>0.000000</td>\n",
              "      <td>1.400000</td>\n",
              "      <td>93.994000</td>\n",
              "      <td>-36.400000</td>\n",
              "      <td>4.959000</td>\n",
              "      <td>5228.100000</td>\n",
              "    </tr>\n",
              "    <tr>\n",
              "      <th>max</th>\n",
              "      <td>98.000000</td>\n",
              "      <td>4199.000000</td>\n",
              "      <td>42.000000</td>\n",
              "      <td>999.000000</td>\n",
              "      <td>6.000000</td>\n",
              "      <td>1.400000</td>\n",
              "      <td>94.767000</td>\n",
              "      <td>-26.900000</td>\n",
              "      <td>5.045000</td>\n",
              "      <td>5228.100000</td>\n",
              "    </tr>\n",
              "  </tbody>\n",
              "</table>\n",
              "</div>\n",
              "      <button class=\"colab-df-convert\" onclick=\"convertToInteractive('df-292443a5-5fbe-4492-a280-3dc572d36c6e')\"\n",
              "              title=\"Convert this dataframe to an interactive table.\"\n",
              "              style=\"display:none;\">\n",
              "        \n",
              "  <svg xmlns=\"http://www.w3.org/2000/svg\" height=\"24px\"viewBox=\"0 0 24 24\"\n",
              "       width=\"24px\">\n",
              "    <path d=\"M0 0h24v24H0V0z\" fill=\"none\"/>\n",
              "    <path d=\"M18.56 5.44l.94 2.06.94-2.06 2.06-.94-2.06-.94-.94-2.06-.94 2.06-2.06.94zm-11 1L8.5 8.5l.94-2.06 2.06-.94-2.06-.94L8.5 2.5l-.94 2.06-2.06.94zm10 10l.94 2.06.94-2.06 2.06-.94-2.06-.94-.94-2.06-.94 2.06-2.06.94z\"/><path d=\"M17.41 7.96l-1.37-1.37c-.4-.4-.92-.59-1.43-.59-.52 0-1.04.2-1.43.59L10.3 9.45l-7.72 7.72c-.78.78-.78 2.05 0 2.83L4 21.41c.39.39.9.59 1.41.59.51 0 1.02-.2 1.41-.59l7.78-7.78 2.81-2.81c.8-.78.8-2.07 0-2.86zM5.41 20L4 18.59l7.72-7.72 1.47 1.35L5.41 20z\"/>\n",
              "  </svg>\n",
              "      </button>\n",
              "      \n",
              "  <style>\n",
              "    .colab-df-container {\n",
              "      display:flex;\n",
              "      flex-wrap:wrap;\n",
              "      gap: 12px;\n",
              "    }\n",
              "\n",
              "    .colab-df-convert {\n",
              "      background-color: #E8F0FE;\n",
              "      border: none;\n",
              "      border-radius: 50%;\n",
              "      cursor: pointer;\n",
              "      display: none;\n",
              "      fill: #1967D2;\n",
              "      height: 32px;\n",
              "      padding: 0 0 0 0;\n",
              "      width: 32px;\n",
              "    }\n",
              "\n",
              "    .colab-df-convert:hover {\n",
              "      background-color: #E2EBFA;\n",
              "      box-shadow: 0px 1px 2px rgba(60, 64, 67, 0.3), 0px 1px 3px 1px rgba(60, 64, 67, 0.15);\n",
              "      fill: #174EA6;\n",
              "    }\n",
              "\n",
              "    [theme=dark] .colab-df-convert {\n",
              "      background-color: #3B4455;\n",
              "      fill: #D2E3FC;\n",
              "    }\n",
              "\n",
              "    [theme=dark] .colab-df-convert:hover {\n",
              "      background-color: #434B5C;\n",
              "      box-shadow: 0px 1px 3px 1px rgba(0, 0, 0, 0.15);\n",
              "      filter: drop-shadow(0px 1px 2px rgba(0, 0, 0, 0.3));\n",
              "      fill: #FFFFFF;\n",
              "    }\n",
              "  </style>\n",
              "\n",
              "      <script>\n",
              "        const buttonEl =\n",
              "          document.querySelector('#df-292443a5-5fbe-4492-a280-3dc572d36c6e button.colab-df-convert');\n",
              "        buttonEl.style.display =\n",
              "          google.colab.kernel.accessAllowed ? 'block' : 'none';\n",
              "\n",
              "        async function convertToInteractive(key) {\n",
              "          const element = document.querySelector('#df-292443a5-5fbe-4492-a280-3dc572d36c6e');\n",
              "          const dataTable =\n",
              "            await google.colab.kernel.invokeFunction('convertToInteractive',\n",
              "                                                     [key], {});\n",
              "          if (!dataTable) return;\n",
              "\n",
              "          const docLinkHtml = 'Like what you see? Visit the ' +\n",
              "            '<a target=\"_blank\" href=https://colab.research.google.com/notebooks/data_table.ipynb>data table notebook</a>'\n",
              "            + ' to learn more about interactive tables.';\n",
              "          element.innerHTML = '';\n",
              "          dataTable['output_type'] = 'display_data';\n",
              "          await google.colab.output.renderOutput(dataTable, element);\n",
              "          const docLink = document.createElement('div');\n",
              "          docLink.innerHTML = docLinkHtml;\n",
              "          element.appendChild(docLink);\n",
              "        }\n",
              "      </script>\n",
              "    </div>\n",
              "  </div>\n",
              "  "
            ]
          },
          "metadata": {},
          "execution_count": 7
        }
      ]
    },
    {
      "cell_type": "markdown",
      "source": [
        "## Data preparation\n",
        "\n",
        "First, we will convert the target column to 1 instead of 'yes' and 0 instead of 'no'."
      ],
      "metadata": {
        "id": "hpordFel7G4y"
      }
    },
    {
      "cell_type": "code",
      "source": [
        "# Transforming outcomes into a numerical variable\n",
        "banking_df['y'].replace(['yes','no'], [1,0], inplace = True)"
      ],
      "metadata": {
        "id": "H0Zpempl9PW3"
      },
      "execution_count": 8,
      "outputs": []
    },
    {
      "cell_type": "markdown",
      "source": [
        "To be sure that the sample used as the train and test datasets will keep the proportions of the original data, we will use the [sample](https://pandas.pydata.org/docs/reference/api/pandas.DataFrame.sample.html) method:\n",
        "\n"
      ],
      "metadata": {
        "id": "ukP66yWw9rB8"
      }
    },
    {
      "cell_type": "code",
      "source": [
        "# Splitting the dataframe into train and test\n",
        "train_df = banking_df.sample(frac = 0.85, random_state = 417)\n",
        "test_df = banking_df.drop(index = train_df.index)"
      ],
      "metadata": {
        "id": "4mzT2_WW-eHZ"
      },
      "execution_count": 9,
      "outputs": []
    },
    {
      "cell_type": "code",
      "source": [
        "# Checking proportions of outcome values on the train set\n",
        "train_df['y'].value_counts(normalize=True)"
      ],
      "metadata": {
        "colab": {
          "base_uri": "https://localhost:8080/"
        },
        "id": "ZZZlkqsn-18T",
        "outputId": "3222af30-a081-4621-9664-7213698e0269"
      },
      "execution_count": 10,
      "outputs": [
        {
          "output_type": "execute_result",
          "data": {
            "text/plain": [
              "0    0.540098\n",
              "1    0.459902\n",
              "Name: y, dtype: float64"
            ]
          },
          "metadata": {},
          "execution_count": 10
        }
      ]
    },
    {
      "cell_type": "code",
      "source": [
        "# Checking proportions of outcome values on the test set\n",
        "test_df['y'].value_counts(normalize = True)"
      ],
      "metadata": {
        "colab": {
          "base_uri": "https://localhost:8080/"
        },
        "id": "QNYvOCDlAFA2",
        "outputId": "8a0017ad-6a97-4754-80db-c03da92fc04a"
      },
      "execution_count": 11,
      "outputs": [
        {
          "output_type": "execute_result",
          "data": {
            "text/plain": [
              "0    0.550066\n",
              "1    0.449934\n",
              "Name: y, dtype: float64"
            ]
          },
          "metadata": {},
          "execution_count": 11
        }
      ]
    },
    {
      "cell_type": "code",
      "source": [
        "# Separate train features and target\n",
        "X_train = train_df.drop('y', axis = 1)\n",
        "y_train = train_df['y']"
      ],
      "metadata": {
        "id": "U7Lj5HtmAUWW"
      },
      "execution_count": 12,
      "outputs": []
    },
    {
      "cell_type": "code",
      "source": [
        "# Separate test features and target\n",
        "X_test = test_df.drop('y', axis = 1)\n",
        "y_test = test_df['y']"
      ],
      "metadata": {
        "id": "LprbdFiuBNEP"
      },
      "execution_count": 13,
      "outputs": []
    },
    {
      "cell_type": "markdown",
      "source": [
        "## KNN algorithm: fundamentals\n",
        "\n",
        "The K-nearest neighbors algorithm starts by considering an arbitrary data point and calculating its distance from all additional observations. The user sets a number K which the algorithm will use to answer the following questions:\n",
        "\n",
        "- What is the outcome for the K nearest neighbors to this point?\n",
        "- Which value for the outcome is more prevalent?\n",
        "\n",
        "Once it knows the answers, it assigns the most common value as the prediction for the randomly chosen data point.\n",
        "\n",
        "To illustrate how the KNN algorithm works, let's build a function that does exactly that and test it in one of the data points of the banking_df dataframe."
      ],
      "metadata": {
        "id": "pf_ZLl6TBpkJ"
      }
    },
    {
      "cell_type": "code",
      "source": [
        "def knn(feature, test_input, K):\n",
        "  distances = []\n",
        "\n",
        "  for row in feature:\n",
        "    distance = np.sqrt((test_input - row)**2)\n",
        "    distances.append(distance)\n",
        "  \n",
        "  X_train['distance'] = distances\n",
        "\n",
        "  # Get indices of the K nearest neighbours of the test input\n",
        "  indices = X_train['distance'].nsmallest(n = K).index\n",
        "  # Filter the labels to contain only the knn and get the most common value\n",
        "  prediction = y_train.filter(indices).mode()\n",
        "\n",
        "  return prediction "
      ],
      "metadata": {
        "id": "w6OHiZUjD0k5"
      },
      "execution_count": 14,
      "outputs": []
    },
    {
      "cell_type": "code",
      "source": [
        "# Testing knn function\n",
        "test_input = X_test['age'].iloc[9]\n",
        "knn(X_train['age'], test_input, 3)"
      ],
      "metadata": {
        "colab": {
          "base_uri": "https://localhost:8080/"
        },
        "id": "fRwYZMuPJEga",
        "outputId": "37b432c6-881c-4f3a-b849-7a6b4ee56db8"
      },
      "execution_count": 15,
      "outputs": [
        {
          "output_type": "execute_result",
          "data": {
            "text/plain": [
              "0    0\n",
              "dtype: int64"
            ]
          },
          "metadata": {},
          "execution_count": 15
        }
      ]
    },
    {
      "cell_type": "markdown",
      "source": [
        "The function predicted 0 for the test_input. It was done by looking at the mode of the $y$ labels of the 3 nearest neighbors in the training set. Let's check if the value in the test set is actually that one:"
      ],
      "metadata": {
        "id": "s69drWofJse3"
      }
    },
    {
      "cell_type": "code",
      "source": [
        "y_test.iloc[9]"
      ],
      "metadata": {
        "colab": {
          "base_uri": "https://localhost:8080/"
        },
        "id": "H5W5NIBuNLEg",
        "outputId": "8c85dfeb-29a7-4ede-b763-e55a0c1528ad"
      },
      "execution_count": 16,
      "outputs": [
        {
          "output_type": "execute_result",
          "data": {
            "text/plain": [
              "0"
            ]
          },
          "metadata": {},
          "execution_count": 16
        }
      ]
    },
    {
      "cell_type": "markdown",
      "source": [
        "The prediction was correct for this random choice of y_test data point. A quick play with other values will lead to some wrong predictions as expected."
      ],
      "metadata": {
        "id": "BuGI8_IENdR0"
      }
    },
    {
      "cell_type": "markdown",
      "source": [
        "## Evaluating the model\n",
        "\n",
        "To check whether a model is performing well, we need a metric. Since we are interested in predicting clients that will sign up as much as the ones that will not sign up for a marketing campaign, we will use accuracy as the metric for this problem. \n",
        "\n",
        "The accuracy measures the proportion of correct predictions. In other words:\n",
        "$$\n",
        "accuracy = \\frac{TP + TN}{TP + FP + TN + FN},\n",
        "$$\n",
        "where $TP, TN, FP$, and $FN$ stand for true positives, true negatives, false positives and false negatives, respectively.\n",
        "\n",
        "\n",
        "For that, we need to know the total number of correct predictions. Let's apply the knn function on the test set and check it out:"
      ],
      "metadata": {
        "id": "UdDBgPmVN40K"
      }
    },
    {
      "cell_type": "code",
      "source": [
        "# Calculating accuracy for the knn function\n",
        "predictions = []\n",
        "for i in range(len(y_test)):\n",
        "  test_input = X_test['age'].iloc[i]\n",
        "  prediction = knn(X_train['age'], test_input, 3).iloc[0]\n",
        "  predictions.append(prediction)\n",
        "\n",
        "X_test['age_predicted_y'] = predictions"
      ],
      "metadata": {
        "id": "Er_QpYwBOteR"
      },
      "execution_count": 17,
      "outputs": []
    },
    {
      "cell_type": "code",
      "source": [
        "results = y_test == X_test['age_predicted_y']"
      ],
      "metadata": {
        "id": "iBg31en0PWln"
      },
      "execution_count": 18,
      "outputs": []
    },
    {
      "cell_type": "code",
      "source": [
        "results.value_counts(normalize = True)"
      ],
      "metadata": {
        "colab": {
          "base_uri": "https://localhost:8080/"
        },
        "id": "Rs9GJnUIQpz2",
        "outputId": "0da7a1ee-aff9-48db-f591-7cb0c0f8b551"
      },
      "execution_count": 19,
      "outputs": [
        {
          "output_type": "execute_result",
          "data": {
            "text/plain": [
              "True     0.538867\n",
              "False    0.461133\n",
              "dtype: float64"
            ]
          },
          "metadata": {},
          "execution_count": 19
        }
      ]
    },
    {
      "cell_type": "markdown",
      "source": [
        "The model is not doing very well since only ~53.8% were correctly identified. \n",
        "\n",
        "Let's see if it improves if we choose a different feature:"
      ],
      "metadata": {
        "id": "0qneV3HaQ4bw"
      }
    },
    {
      "cell_type": "code",
      "source": [
        "predictions = []\n",
        "for i in range(len(y_test)):\n",
        "  test_input = X_test['campaign'].iloc[i]\n",
        "  prediction = knn(X_train['campaign'], test_input, 3).iloc[0]\n",
        "  predictions.append(prediction)\n",
        "\n",
        "X_test['campaign_predicted_y'] = predictions"
      ],
      "metadata": {
        "id": "NVNb1IWXShjE"
      },
      "execution_count": 20,
      "outputs": []
    },
    {
      "cell_type": "code",
      "source": [
        "results_campaign = y_test == X_test['campaign_predicted_y']"
      ],
      "metadata": {
        "id": "wJ3hgViKTksZ"
      },
      "execution_count": 21,
      "outputs": []
    },
    {
      "cell_type": "code",
      "source": [
        "results_campaign.value_counts(normalize = True)"
      ],
      "metadata": {
        "colab": {
          "base_uri": "https://localhost:8080/"
        },
        "id": "eEdXRDmbTvKC",
        "outputId": "3cf96a67-5e5a-4f40-e04a-b90bff96c0a2"
      },
      "execution_count": 22,
      "outputs": [
        {
          "output_type": "execute_result",
          "data": {
            "text/plain": [
              "True     0.551383\n",
              "False    0.448617\n",
              "dtype: float64"
            ]
          },
          "metadata": {},
          "execution_count": 22
        }
      ]
    },
    {
      "cell_type": "markdown",
      "source": [
        "The 'campaign' feature improved the model's prediction by 2%. That can happen in machine learning. Sometimes some features have a stronger correlation with the target variable than others. That alone does not guarantees a better performance but can lead to better predictions."
      ],
      "metadata": {
        "id": "PKrblEUoTyxn"
      }
    },
    {
      "cell_type": "markdown",
      "source": [
        "# Feature engineering\n",
        "\n",
        "There are some categorical features in the data set. In this lesson we will not try to use all of them, but just a few to clarify how the KNN works. \n",
        "\n",
        " We will use one-hot-enconding to transform the 'marital' feature in dummy indices."
      ],
      "metadata": {
        "id": "tKhOpY7vT6eE"
      }
    },
    {
      "cell_type": "code",
      "source": [
        "banking_df_copy = banking_df.copy()"
      ],
      "metadata": {
        "id": "OgK-TQXzWqkc"
      },
      "execution_count": 23,
      "outputs": []
    },
    {
      "cell_type": "code",
      "source": [
        "# Transforming 'marital' categorical feature into a numerical feature\n",
        "banking_df_copy= pd.get_dummies(banking_df_copy,columns = ['marital'], drop_first= True)"
      ],
      "metadata": {
        "id": "irFc-nnzWup5"
      },
      "execution_count": 24,
      "outputs": []
    },
    {
      "cell_type": "code",
      "source": [
        "banking_df_copy"
      ],
      "metadata": {
        "colab": {
          "base_uri": "https://localhost:8080/",
          "height": 488
        },
        "id": "FkrR3ScIbm_y",
        "outputId": "eea3a430-171c-4acd-cc06-8c066a5c0e9f"
      },
      "execution_count": 25,
      "outputs": [
        {
          "output_type": "execute_result",
          "data": {
            "text/plain": [
              "       age          job            education  default housing loan    contact  \\\n",
              "0       40       admin.             basic.6y       no      no   no  telephone   \n",
              "1       56     services          high.school       no      no  yes  telephone   \n",
              "2       41  blue-collar              unknown  unknown      no   no  telephone   \n",
              "3       57    housemaid             basic.4y       no     yes   no  telephone   \n",
              "4       39   management             basic.9y  unknown      no   no  telephone   \n",
              "...    ...          ...                  ...      ...     ...  ...        ...   \n",
              "10117   64      retired  professional.course       no     yes   no   cellular   \n",
              "10118   37       admin.    university.degree       no     yes   no   cellular   \n",
              "10119   73      retired  professional.course       no     yes   no   cellular   \n",
              "10120   44   technician  professional.course       no      no   no   cellular   \n",
              "10121   74      retired  professional.course       no     yes   no   cellular   \n",
              "\n",
              "      month day_of_week  duration  ...     poutcome  emp.var.rate  \\\n",
              "0       may         mon       151  ...  nonexistent           1.1   \n",
              "1       may         mon       307  ...  nonexistent           1.1   \n",
              "2       may         mon       217  ...  nonexistent           1.1   \n",
              "3       may         mon       293  ...  nonexistent           1.1   \n",
              "4       may         mon       195  ...  nonexistent           1.1   \n",
              "...     ...         ...       ...  ...          ...           ...   \n",
              "10117   nov         fri       151  ...  nonexistent          -1.1   \n",
              "10118   nov         fri       281  ...  nonexistent          -1.1   \n",
              "10119   nov         fri       334  ...  nonexistent          -1.1   \n",
              "10120   nov         fri       442  ...  nonexistent          -1.1   \n",
              "10121   nov         fri       239  ...      failure          -1.1   \n",
              "\n",
              "       cons.price.idx cons.conf.idx  euribor3m  nr.employed  y  \\\n",
              "0              93.994         -36.4      4.857       5191.0  0   \n",
              "1              93.994         -36.4      4.857       5191.0  0   \n",
              "2              93.994         -36.4      4.857       5191.0  0   \n",
              "3              93.994         -36.4      4.857       5191.0  0   \n",
              "4              93.994         -36.4      4.857       5191.0  0   \n",
              "...               ...           ...        ...          ... ..   \n",
              "10117          94.767         -50.8      1.028       4963.6  0   \n",
              "10118          94.767         -50.8      1.028       4963.6  1   \n",
              "10119          94.767         -50.8      1.028       4963.6  1   \n",
              "10120          94.767         -50.8      1.028       4963.6  1   \n",
              "10121          94.767         -50.8      1.028       4963.6  0   \n",
              "\n",
              "       marital_married  marital_single  marital_unknown  \n",
              "0                    1               0                0  \n",
              "1                    1               0                0  \n",
              "2                    1               0                0  \n",
              "3                    0               0                0  \n",
              "4                    0               1                0  \n",
              "...                ...             ...              ...  \n",
              "10117                0               0                0  \n",
              "10118                1               0                0  \n",
              "10119                1               0                0  \n",
              "10120                1               0                0  \n",
              "10121                1               0                0  \n",
              "\n",
              "[10122 rows x 23 columns]"
            ],
            "text/html": [
              "\n",
              "  <div id=\"df-a07b9189-d7ba-49f5-9d1e-9e5639ea4f1d\">\n",
              "    <div class=\"colab-df-container\">\n",
              "      <div>\n",
              "<style scoped>\n",
              "    .dataframe tbody tr th:only-of-type {\n",
              "        vertical-align: middle;\n",
              "    }\n",
              "\n",
              "    .dataframe tbody tr th {\n",
              "        vertical-align: top;\n",
              "    }\n",
              "\n",
              "    .dataframe thead th {\n",
              "        text-align: right;\n",
              "    }\n",
              "</style>\n",
              "<table border=\"1\" class=\"dataframe\">\n",
              "  <thead>\n",
              "    <tr style=\"text-align: right;\">\n",
              "      <th></th>\n",
              "      <th>age</th>\n",
              "      <th>job</th>\n",
              "      <th>education</th>\n",
              "      <th>default</th>\n",
              "      <th>housing</th>\n",
              "      <th>loan</th>\n",
              "      <th>contact</th>\n",
              "      <th>month</th>\n",
              "      <th>day_of_week</th>\n",
              "      <th>duration</th>\n",
              "      <th>...</th>\n",
              "      <th>poutcome</th>\n",
              "      <th>emp.var.rate</th>\n",
              "      <th>cons.price.idx</th>\n",
              "      <th>cons.conf.idx</th>\n",
              "      <th>euribor3m</th>\n",
              "      <th>nr.employed</th>\n",
              "      <th>y</th>\n",
              "      <th>marital_married</th>\n",
              "      <th>marital_single</th>\n",
              "      <th>marital_unknown</th>\n",
              "    </tr>\n",
              "  </thead>\n",
              "  <tbody>\n",
              "    <tr>\n",
              "      <th>0</th>\n",
              "      <td>40</td>\n",
              "      <td>admin.</td>\n",
              "      <td>basic.6y</td>\n",
              "      <td>no</td>\n",
              "      <td>no</td>\n",
              "      <td>no</td>\n",
              "      <td>telephone</td>\n",
              "      <td>may</td>\n",
              "      <td>mon</td>\n",
              "      <td>151</td>\n",
              "      <td>...</td>\n",
              "      <td>nonexistent</td>\n",
              "      <td>1.1</td>\n",
              "      <td>93.994</td>\n",
              "      <td>-36.4</td>\n",
              "      <td>4.857</td>\n",
              "      <td>5191.0</td>\n",
              "      <td>0</td>\n",
              "      <td>1</td>\n",
              "      <td>0</td>\n",
              "      <td>0</td>\n",
              "    </tr>\n",
              "    <tr>\n",
              "      <th>1</th>\n",
              "      <td>56</td>\n",
              "      <td>services</td>\n",
              "      <td>high.school</td>\n",
              "      <td>no</td>\n",
              "      <td>no</td>\n",
              "      <td>yes</td>\n",
              "      <td>telephone</td>\n",
              "      <td>may</td>\n",
              "      <td>mon</td>\n",
              "      <td>307</td>\n",
              "      <td>...</td>\n",
              "      <td>nonexistent</td>\n",
              "      <td>1.1</td>\n",
              "      <td>93.994</td>\n",
              "      <td>-36.4</td>\n",
              "      <td>4.857</td>\n",
              "      <td>5191.0</td>\n",
              "      <td>0</td>\n",
              "      <td>1</td>\n",
              "      <td>0</td>\n",
              "      <td>0</td>\n",
              "    </tr>\n",
              "    <tr>\n",
              "      <th>2</th>\n",
              "      <td>41</td>\n",
              "      <td>blue-collar</td>\n",
              "      <td>unknown</td>\n",
              "      <td>unknown</td>\n",
              "      <td>no</td>\n",
              "      <td>no</td>\n",
              "      <td>telephone</td>\n",
              "      <td>may</td>\n",
              "      <td>mon</td>\n",
              "      <td>217</td>\n",
              "      <td>...</td>\n",
              "      <td>nonexistent</td>\n",
              "      <td>1.1</td>\n",
              "      <td>93.994</td>\n",
              "      <td>-36.4</td>\n",
              "      <td>4.857</td>\n",
              "      <td>5191.0</td>\n",
              "      <td>0</td>\n",
              "      <td>1</td>\n",
              "      <td>0</td>\n",
              "      <td>0</td>\n",
              "    </tr>\n",
              "    <tr>\n",
              "      <th>3</th>\n",
              "      <td>57</td>\n",
              "      <td>housemaid</td>\n",
              "      <td>basic.4y</td>\n",
              "      <td>no</td>\n",
              "      <td>yes</td>\n",
              "      <td>no</td>\n",
              "      <td>telephone</td>\n",
              "      <td>may</td>\n",
              "      <td>mon</td>\n",
              "      <td>293</td>\n",
              "      <td>...</td>\n",
              "      <td>nonexistent</td>\n",
              "      <td>1.1</td>\n",
              "      <td>93.994</td>\n",
              "      <td>-36.4</td>\n",
              "      <td>4.857</td>\n",
              "      <td>5191.0</td>\n",
              "      <td>0</td>\n",
              "      <td>0</td>\n",
              "      <td>0</td>\n",
              "      <td>0</td>\n",
              "    </tr>\n",
              "    <tr>\n",
              "      <th>4</th>\n",
              "      <td>39</td>\n",
              "      <td>management</td>\n",
              "      <td>basic.9y</td>\n",
              "      <td>unknown</td>\n",
              "      <td>no</td>\n",
              "      <td>no</td>\n",
              "      <td>telephone</td>\n",
              "      <td>may</td>\n",
              "      <td>mon</td>\n",
              "      <td>195</td>\n",
              "      <td>...</td>\n",
              "      <td>nonexistent</td>\n",
              "      <td>1.1</td>\n",
              "      <td>93.994</td>\n",
              "      <td>-36.4</td>\n",
              "      <td>4.857</td>\n",
              "      <td>5191.0</td>\n",
              "      <td>0</td>\n",
              "      <td>0</td>\n",
              "      <td>1</td>\n",
              "      <td>0</td>\n",
              "    </tr>\n",
              "    <tr>\n",
              "      <th>...</th>\n",
              "      <td>...</td>\n",
              "      <td>...</td>\n",
              "      <td>...</td>\n",
              "      <td>...</td>\n",
              "      <td>...</td>\n",
              "      <td>...</td>\n",
              "      <td>...</td>\n",
              "      <td>...</td>\n",
              "      <td>...</td>\n",
              "      <td>...</td>\n",
              "      <td>...</td>\n",
              "      <td>...</td>\n",
              "      <td>...</td>\n",
              "      <td>...</td>\n",
              "      <td>...</td>\n",
              "      <td>...</td>\n",
              "      <td>...</td>\n",
              "      <td>...</td>\n",
              "      <td>...</td>\n",
              "      <td>...</td>\n",
              "      <td>...</td>\n",
              "    </tr>\n",
              "    <tr>\n",
              "      <th>10117</th>\n",
              "      <td>64</td>\n",
              "      <td>retired</td>\n",
              "      <td>professional.course</td>\n",
              "      <td>no</td>\n",
              "      <td>yes</td>\n",
              "      <td>no</td>\n",
              "      <td>cellular</td>\n",
              "      <td>nov</td>\n",
              "      <td>fri</td>\n",
              "      <td>151</td>\n",
              "      <td>...</td>\n",
              "      <td>nonexistent</td>\n",
              "      <td>-1.1</td>\n",
              "      <td>94.767</td>\n",
              "      <td>-50.8</td>\n",
              "      <td>1.028</td>\n",
              "      <td>4963.6</td>\n",
              "      <td>0</td>\n",
              "      <td>0</td>\n",
              "      <td>0</td>\n",
              "      <td>0</td>\n",
              "    </tr>\n",
              "    <tr>\n",
              "      <th>10118</th>\n",
              "      <td>37</td>\n",
              "      <td>admin.</td>\n",
              "      <td>university.degree</td>\n",
              "      <td>no</td>\n",
              "      <td>yes</td>\n",
              "      <td>no</td>\n",
              "      <td>cellular</td>\n",
              "      <td>nov</td>\n",
              "      <td>fri</td>\n",
              "      <td>281</td>\n",
              "      <td>...</td>\n",
              "      <td>nonexistent</td>\n",
              "      <td>-1.1</td>\n",
              "      <td>94.767</td>\n",
              "      <td>-50.8</td>\n",
              "      <td>1.028</td>\n",
              "      <td>4963.6</td>\n",
              "      <td>1</td>\n",
              "      <td>1</td>\n",
              "      <td>0</td>\n",
              "      <td>0</td>\n",
              "    </tr>\n",
              "    <tr>\n",
              "      <th>10119</th>\n",
              "      <td>73</td>\n",
              "      <td>retired</td>\n",
              "      <td>professional.course</td>\n",
              "      <td>no</td>\n",
              "      <td>yes</td>\n",
              "      <td>no</td>\n",
              "      <td>cellular</td>\n",
              "      <td>nov</td>\n",
              "      <td>fri</td>\n",
              "      <td>334</td>\n",
              "      <td>...</td>\n",
              "      <td>nonexistent</td>\n",
              "      <td>-1.1</td>\n",
              "      <td>94.767</td>\n",
              "      <td>-50.8</td>\n",
              "      <td>1.028</td>\n",
              "      <td>4963.6</td>\n",
              "      <td>1</td>\n",
              "      <td>1</td>\n",
              "      <td>0</td>\n",
              "      <td>0</td>\n",
              "    </tr>\n",
              "    <tr>\n",
              "      <th>10120</th>\n",
              "      <td>44</td>\n",
              "      <td>technician</td>\n",
              "      <td>professional.course</td>\n",
              "      <td>no</td>\n",
              "      <td>no</td>\n",
              "      <td>no</td>\n",
              "      <td>cellular</td>\n",
              "      <td>nov</td>\n",
              "      <td>fri</td>\n",
              "      <td>442</td>\n",
              "      <td>...</td>\n",
              "      <td>nonexistent</td>\n",
              "      <td>-1.1</td>\n",
              "      <td>94.767</td>\n",
              "      <td>-50.8</td>\n",
              "      <td>1.028</td>\n",
              "      <td>4963.6</td>\n",
              "      <td>1</td>\n",
              "      <td>1</td>\n",
              "      <td>0</td>\n",
              "      <td>0</td>\n",
              "    </tr>\n",
              "    <tr>\n",
              "      <th>10121</th>\n",
              "      <td>74</td>\n",
              "      <td>retired</td>\n",
              "      <td>professional.course</td>\n",
              "      <td>no</td>\n",
              "      <td>yes</td>\n",
              "      <td>no</td>\n",
              "      <td>cellular</td>\n",
              "      <td>nov</td>\n",
              "      <td>fri</td>\n",
              "      <td>239</td>\n",
              "      <td>...</td>\n",
              "      <td>failure</td>\n",
              "      <td>-1.1</td>\n",
              "      <td>94.767</td>\n",
              "      <td>-50.8</td>\n",
              "      <td>1.028</td>\n",
              "      <td>4963.6</td>\n",
              "      <td>0</td>\n",
              "      <td>1</td>\n",
              "      <td>0</td>\n",
              "      <td>0</td>\n",
              "    </tr>\n",
              "  </tbody>\n",
              "</table>\n",
              "<p>10122 rows × 23 columns</p>\n",
              "</div>\n",
              "      <button class=\"colab-df-convert\" onclick=\"convertToInteractive('df-a07b9189-d7ba-49f5-9d1e-9e5639ea4f1d')\"\n",
              "              title=\"Convert this dataframe to an interactive table.\"\n",
              "              style=\"display:none;\">\n",
              "        \n",
              "  <svg xmlns=\"http://www.w3.org/2000/svg\" height=\"24px\"viewBox=\"0 0 24 24\"\n",
              "       width=\"24px\">\n",
              "    <path d=\"M0 0h24v24H0V0z\" fill=\"none\"/>\n",
              "    <path d=\"M18.56 5.44l.94 2.06.94-2.06 2.06-.94-2.06-.94-.94-2.06-.94 2.06-2.06.94zm-11 1L8.5 8.5l.94-2.06 2.06-.94-2.06-.94L8.5 2.5l-.94 2.06-2.06.94zm10 10l.94 2.06.94-2.06 2.06-.94-2.06-.94-.94-2.06-.94 2.06-2.06.94z\"/><path d=\"M17.41 7.96l-1.37-1.37c-.4-.4-.92-.59-1.43-.59-.52 0-1.04.2-1.43.59L10.3 9.45l-7.72 7.72c-.78.78-.78 2.05 0 2.83L4 21.41c.39.39.9.59 1.41.59.51 0 1.02-.2 1.41-.59l7.78-7.78 2.81-2.81c.8-.78.8-2.07 0-2.86zM5.41 20L4 18.59l7.72-7.72 1.47 1.35L5.41 20z\"/>\n",
              "  </svg>\n",
              "      </button>\n",
              "      \n",
              "  <style>\n",
              "    .colab-df-container {\n",
              "      display:flex;\n",
              "      flex-wrap:wrap;\n",
              "      gap: 12px;\n",
              "    }\n",
              "\n",
              "    .colab-df-convert {\n",
              "      background-color: #E8F0FE;\n",
              "      border: none;\n",
              "      border-radius: 50%;\n",
              "      cursor: pointer;\n",
              "      display: none;\n",
              "      fill: #1967D2;\n",
              "      height: 32px;\n",
              "      padding: 0 0 0 0;\n",
              "      width: 32px;\n",
              "    }\n",
              "\n",
              "    .colab-df-convert:hover {\n",
              "      background-color: #E2EBFA;\n",
              "      box-shadow: 0px 1px 2px rgba(60, 64, 67, 0.3), 0px 1px 3px 1px rgba(60, 64, 67, 0.15);\n",
              "      fill: #174EA6;\n",
              "    }\n",
              "\n",
              "    [theme=dark] .colab-df-convert {\n",
              "      background-color: #3B4455;\n",
              "      fill: #D2E3FC;\n",
              "    }\n",
              "\n",
              "    [theme=dark] .colab-df-convert:hover {\n",
              "      background-color: #434B5C;\n",
              "      box-shadow: 0px 1px 3px 1px rgba(0, 0, 0, 0.15);\n",
              "      filter: drop-shadow(0px 1px 2px rgba(0, 0, 0, 0.3));\n",
              "      fill: #FFFFFF;\n",
              "    }\n",
              "  </style>\n",
              "\n",
              "      <script>\n",
              "        const buttonEl =\n",
              "          document.querySelector('#df-a07b9189-d7ba-49f5-9d1e-9e5639ea4f1d button.colab-df-convert');\n",
              "        buttonEl.style.display =\n",
              "          google.colab.kernel.accessAllowed ? 'block' : 'none';\n",
              "\n",
              "        async function convertToInteractive(key) {\n",
              "          const element = document.querySelector('#df-a07b9189-d7ba-49f5-9d1e-9e5639ea4f1d');\n",
              "          const dataTable =\n",
              "            await google.colab.kernel.invokeFunction('convertToInteractive',\n",
              "                                                     [key], {});\n",
              "          if (!dataTable) return;\n",
              "\n",
              "          const docLinkHtml = 'Like what you see? Visit the ' +\n",
              "            '<a target=\"_blank\" href=https://colab.research.google.com/notebooks/data_table.ipynb>data table notebook</a>'\n",
              "            + ' to learn more about interactive tables.';\n",
              "          element.innerHTML = '';\n",
              "          dataTable['output_type'] = 'display_data';\n",
              "          await google.colab.output.renderOutput(dataTable, element);\n",
              "          const docLink = document.createElement('div');\n",
              "          docLink.innerHTML = docLinkHtml;\n",
              "          element.appendChild(docLink);\n",
              "        }\n",
              "      </script>\n",
              "    </div>\n",
              "  </div>\n",
              "  "
            ]
          },
          "metadata": {},
          "execution_count": 25
        }
      ]
    },
    {
      "cell_type": "markdown",
      "source": [
        "Let's include more features in the knn function and see if the performance of the model improves. Again, we use the Pandas.DataFrame.sample method to separate the dataset into train and test sets (note that we are using the copy of the dataset that includes some of the converted categorical variables here):"
      ],
      "metadata": {
        "id": "tg4n8OEHXCD2"
      }
    },
    {
      "cell_type": "code",
      "source": [
        "# Defining train and test sets\n",
        "train_df_copy = banking_df_copy.sample(frac = 0.85, random_state = 417)\n",
        "test_df_copy = banking_df_copy.drop(index = train_df.index)"
      ],
      "metadata": {
        "id": "MBhiQQ2Vacqq"
      },
      "execution_count": 26,
      "outputs": []
    },
    {
      "cell_type": "code",
      "source": [
        "# Checking proportions of target outcomes for the train set\n",
        "train_df_copy['y'].value_counts(normalize=True)"
      ],
      "metadata": {
        "colab": {
          "base_uri": "https://localhost:8080/"
        },
        "outputId": "b483991c-ae4e-415b-ee8a-ee6ec5b4f1be",
        "id": "ZWhiGGbNacqs"
      },
      "execution_count": 27,
      "outputs": [
        {
          "output_type": "execute_result",
          "data": {
            "text/plain": [
              "0    0.540098\n",
              "1    0.459902\n",
              "Name: y, dtype: float64"
            ]
          },
          "metadata": {},
          "execution_count": 27
        }
      ]
    },
    {
      "cell_type": "code",
      "source": [
        "# Checking proportions of target outcomes for the test set\n",
        "test_df_copy['y'].value_counts(normalize = True)"
      ],
      "metadata": {
        "colab": {
          "base_uri": "https://localhost:8080/"
        },
        "outputId": "f7d45f27-a2b5-4a05-f34b-50a01f94a26a",
        "id": "k6DGg6y0acqu"
      },
      "execution_count": 28,
      "outputs": [
        {
          "output_type": "execute_result",
          "data": {
            "text/plain": [
              "0    0.550066\n",
              "1    0.449934\n",
              "Name: y, dtype: float64"
            ]
          },
          "metadata": {},
          "execution_count": 28
        }
      ]
    },
    {
      "cell_type": "code",
      "source": [
        "# Separate train features and target\n",
        "X_train_copy = train_df_copy.drop('y', axis = 1)\n",
        "y_train_copy = train_df_copy['y']"
      ],
      "metadata": {
        "id": "QeYh8cxpacqx"
      },
      "execution_count": 29,
      "outputs": []
    },
    {
      "cell_type": "code",
      "source": [
        "# Separate test features and target\n",
        "X_test_copy = test_df_copy.drop('y', axis = 1)\n",
        "y_test_copy = test_df_copy['y']"
      ],
      "metadata": {
        "id": "9twWupTmacqz"
      },
      "execution_count": 30,
      "outputs": []
    },
    {
      "cell_type": "markdown",
      "source": [
        "Let's generalize the KNN function to include more features:"
      ],
      "metadata": {
        "id": "y-3Fj78racq1"
      }
    },
    {
      "cell_type": "code",
      "source": [
        "def knn(feature, test_input, K):\n",
        "\n",
        "  distance = np.sqrt(((X_train_copy[feature] - test_input)**2).sum(axis=1))\n",
        "  \n",
        "  X_train_copy['distance'] = distance\n",
        "\n",
        "  # Get indices of the K nearest neighbours of the test input\n",
        "  indices = X_train_copy['distance'].nsmallest(n = K).index\n",
        "  # Filter the labels to contain only the knn and get the most common value\n",
        "  prediction = y_train_copy.filter(indices).mode()\n",
        "\n",
        "  return  prediction "
      ],
      "metadata": {
        "id": "kiPIuPYJacq2"
      },
      "execution_count": 31,
      "outputs": []
    },
    {
      "cell_type": "code",
      "source": [
        "# Testing knn function\n",
        "test_input = X_test_copy[[\"age\", \"campaign\", \"marital_married\", \"marital_single\"]].iloc[9]\n",
        "knn([\"age\", \"campaign\", \"marital_married\", \"marital_single\"], test_input, 3)"
      ],
      "metadata": {
        "colab": {
          "base_uri": "https://localhost:8080/"
        },
        "id": "AiRFPHFCQ3Wc",
        "outputId": "63fdebd2-7b19-4b27-cc5e-a6760e069a7f"
      },
      "execution_count": 32,
      "outputs": [
        {
          "output_type": "execute_result",
          "data": {
            "text/plain": [
              "0    0\n",
              "dtype: int64"
            ]
          },
          "metadata": {},
          "execution_count": 32
        }
      ]
    },
    {
      "cell_type": "markdown",
      "source": [
        "Let's evaluate the model:"
      ],
      "metadata": {
        "id": "3e9QgppcSJd4"
      }
    },
    {
      "cell_type": "code",
      "source": [
        "predictions = []\n",
        "for i in range(len(y_test_copy)):\n",
        "  test_input = X_test_copy[[\"age\", \"campaign\", \"marital_married\", \"marital_single\"]].iloc[i]\n",
        "  prediction = knn([\"age\", \"campaign\", \"marital_married\", \"marital_single\"], test_input, 3).iloc[0]\n",
        "  predictions.append(prediction)\n",
        "\n",
        "X_test_copy['predicted_y'] = predictions"
      ],
      "metadata": {
        "id": "l6DG9OxeUYg1"
      },
      "execution_count": 33,
      "outputs": []
    },
    {
      "cell_type": "code",
      "source": [
        "results_campaign_copy = y_test_copy == X_test_copy['predicted_y']"
      ],
      "metadata": {
        "id": "0NCqr2DTUopm"
      },
      "execution_count": 34,
      "outputs": []
    },
    {
      "cell_type": "code",
      "source": [
        "results_campaign_copy.value_counts(normalize = True)"
      ],
      "metadata": {
        "colab": {
          "base_uri": "https://localhost:8080/"
        },
        "id": "HVmQXJ5PVQJf",
        "outputId": "81299dfb-15ab-4fd0-89fd-745aa67c9f33"
      },
      "execution_count": 35,
      "outputs": [
        {
          "output_type": "execute_result",
          "data": {
            "text/plain": [
              "True     0.554677\n",
              "False    0.445323\n",
              "dtype: float64"
            ]
          },
          "metadata": {},
          "execution_count": 35
        }
      ]
    },
    {
      "cell_type": "markdown",
      "source": [
        "The model, with 4 features, had basically the same performance as the model using only the 'campaign' feature. This is not an improvement but illustrates how one can generalize the KNN algorithm."
      ],
      "metadata": {
        "id": "Z7QX0bkOjOYx"
      }
    },
    {
      "cell_type": "markdown",
      "source": [
        "## Feature engineering II\n",
        "\n",
        "A very important step in the KNN algorithm is to normalize all values for the features. Since the classification is done by computing distances, features with values that are too spread apart can induce a non-representative higher distance between data points, leading to misclassifications.\n",
        "\n",
        "A way to avoid that is to normalize the features before computing the distances.\n",
        "\n",
        "We will normalize the age and campaign features and compute the accuracy of the model again. Since both features do not have values that are too spread apart, we do not expect a significant improvement in accuracy.\n",
        "\n",
        "We use the following equation to normalize a feature:\n",
        "\n",
        "$$x' = \\frac{x - min(x)}{max(x) - min(x)}.$$"
      ],
      "metadata": {
        "id": "8D9AQtt4VgOb"
      }
    },
    {
      "cell_type": "code",
      "source": [
        "# Normalizing 'age' feature of train and test sets\n",
        "X_train_copy['age'] = (X_train_copy['age'] - X_train_copy['age'].min())/(max(X_train_copy['age'])-min(X_train_copy['age']))\n",
        "X_test_copy['age'] = (X_test_copy['age'] - X_test_copy['age'].min())/(max(X_test_copy['age'])-min(X_test_copy['age']))"
      ],
      "metadata": {
        "id": "MXHyTeHKZ_Im"
      },
      "execution_count": 36,
      "outputs": []
    },
    {
      "cell_type": "code",
      "source": [
        "# Normalizing 'campaign' feature of train and test sets\n",
        "X_train_copy['campaign'] = (X_train_copy['campaign'] - X_train_copy['campaign'].min())/(max(X_train_copy['campaign'])-min(X_train_copy['campaign']))\n",
        "X_test_copy['campaign'] = (X_test_copy['campaign'] - X_test_copy['campaign'].min())/(max(X_test_copy['campaign'])-min(X_test_copy['campaign']))"
      ],
      "metadata": {
        "id": "5LAb6OXzfM_S"
      },
      "execution_count": 37,
      "outputs": []
    },
    {
      "cell_type": "code",
      "source": [
        "# Check normalized values\n",
        "X_train_copy[['age','campaign']].head()"
      ],
      "metadata": {
        "colab": {
          "base_uri": "https://localhost:8080/",
          "height": 206
        },
        "id": "_woImWdzfs2B",
        "outputId": "1f7f6fe9-100e-4a8b-8f5a-a7b658a73737"
      },
      "execution_count": 38,
      "outputs": [
        {
          "output_type": "execute_result",
          "data": {
            "text/plain": [
              "           age  campaign\n",
              "7472  0.259259   0.02439\n",
              "3408  0.469136   0.04878\n",
              "5851  0.148148   0.00000\n",
              "9132  0.777778   0.02439\n",
              "3790  0.345679   0.02439"
            ],
            "text/html": [
              "\n",
              "  <div id=\"df-5126a606-136c-4ad9-9147-69d0e4325034\">\n",
              "    <div class=\"colab-df-container\">\n",
              "      <div>\n",
              "<style scoped>\n",
              "    .dataframe tbody tr th:only-of-type {\n",
              "        vertical-align: middle;\n",
              "    }\n",
              "\n",
              "    .dataframe tbody tr th {\n",
              "        vertical-align: top;\n",
              "    }\n",
              "\n",
              "    .dataframe thead th {\n",
              "        text-align: right;\n",
              "    }\n",
              "</style>\n",
              "<table border=\"1\" class=\"dataframe\">\n",
              "  <thead>\n",
              "    <tr style=\"text-align: right;\">\n",
              "      <th></th>\n",
              "      <th>age</th>\n",
              "      <th>campaign</th>\n",
              "    </tr>\n",
              "  </thead>\n",
              "  <tbody>\n",
              "    <tr>\n",
              "      <th>7472</th>\n",
              "      <td>0.259259</td>\n",
              "      <td>0.02439</td>\n",
              "    </tr>\n",
              "    <tr>\n",
              "      <th>3408</th>\n",
              "      <td>0.469136</td>\n",
              "      <td>0.04878</td>\n",
              "    </tr>\n",
              "    <tr>\n",
              "      <th>5851</th>\n",
              "      <td>0.148148</td>\n",
              "      <td>0.00000</td>\n",
              "    </tr>\n",
              "    <tr>\n",
              "      <th>9132</th>\n",
              "      <td>0.777778</td>\n",
              "      <td>0.02439</td>\n",
              "    </tr>\n",
              "    <tr>\n",
              "      <th>3790</th>\n",
              "      <td>0.345679</td>\n",
              "      <td>0.02439</td>\n",
              "    </tr>\n",
              "  </tbody>\n",
              "</table>\n",
              "</div>\n",
              "      <button class=\"colab-df-convert\" onclick=\"convertToInteractive('df-5126a606-136c-4ad9-9147-69d0e4325034')\"\n",
              "              title=\"Convert this dataframe to an interactive table.\"\n",
              "              style=\"display:none;\">\n",
              "        \n",
              "  <svg xmlns=\"http://www.w3.org/2000/svg\" height=\"24px\"viewBox=\"0 0 24 24\"\n",
              "       width=\"24px\">\n",
              "    <path d=\"M0 0h24v24H0V0z\" fill=\"none\"/>\n",
              "    <path d=\"M18.56 5.44l.94 2.06.94-2.06 2.06-.94-2.06-.94-.94-2.06-.94 2.06-2.06.94zm-11 1L8.5 8.5l.94-2.06 2.06-.94-2.06-.94L8.5 2.5l-.94 2.06-2.06.94zm10 10l.94 2.06.94-2.06 2.06-.94-2.06-.94-.94-2.06-.94 2.06-2.06.94z\"/><path d=\"M17.41 7.96l-1.37-1.37c-.4-.4-.92-.59-1.43-.59-.52 0-1.04.2-1.43.59L10.3 9.45l-7.72 7.72c-.78.78-.78 2.05 0 2.83L4 21.41c.39.39.9.59 1.41.59.51 0 1.02-.2 1.41-.59l7.78-7.78 2.81-2.81c.8-.78.8-2.07 0-2.86zM5.41 20L4 18.59l7.72-7.72 1.47 1.35L5.41 20z\"/>\n",
              "  </svg>\n",
              "      </button>\n",
              "      \n",
              "  <style>\n",
              "    .colab-df-container {\n",
              "      display:flex;\n",
              "      flex-wrap:wrap;\n",
              "      gap: 12px;\n",
              "    }\n",
              "\n",
              "    .colab-df-convert {\n",
              "      background-color: #E8F0FE;\n",
              "      border: none;\n",
              "      border-radius: 50%;\n",
              "      cursor: pointer;\n",
              "      display: none;\n",
              "      fill: #1967D2;\n",
              "      height: 32px;\n",
              "      padding: 0 0 0 0;\n",
              "      width: 32px;\n",
              "    }\n",
              "\n",
              "    .colab-df-convert:hover {\n",
              "      background-color: #E2EBFA;\n",
              "      box-shadow: 0px 1px 2px rgba(60, 64, 67, 0.3), 0px 1px 3px 1px rgba(60, 64, 67, 0.15);\n",
              "      fill: #174EA6;\n",
              "    }\n",
              "\n",
              "    [theme=dark] .colab-df-convert {\n",
              "      background-color: #3B4455;\n",
              "      fill: #D2E3FC;\n",
              "    }\n",
              "\n",
              "    [theme=dark] .colab-df-convert:hover {\n",
              "      background-color: #434B5C;\n",
              "      box-shadow: 0px 1px 3px 1px rgba(0, 0, 0, 0.15);\n",
              "      filter: drop-shadow(0px 1px 2px rgba(0, 0, 0, 0.3));\n",
              "      fill: #FFFFFF;\n",
              "    }\n",
              "  </style>\n",
              "\n",
              "      <script>\n",
              "        const buttonEl =\n",
              "          document.querySelector('#df-5126a606-136c-4ad9-9147-69d0e4325034 button.colab-df-convert');\n",
              "        buttonEl.style.display =\n",
              "          google.colab.kernel.accessAllowed ? 'block' : 'none';\n",
              "\n",
              "        async function convertToInteractive(key) {\n",
              "          const element = document.querySelector('#df-5126a606-136c-4ad9-9147-69d0e4325034');\n",
              "          const dataTable =\n",
              "            await google.colab.kernel.invokeFunction('convertToInteractive',\n",
              "                                                     [key], {});\n",
              "          if (!dataTable) return;\n",
              "\n",
              "          const docLinkHtml = 'Like what you see? Visit the ' +\n",
              "            '<a target=\"_blank\" href=https://colab.research.google.com/notebooks/data_table.ipynb>data table notebook</a>'\n",
              "            + ' to learn more about interactive tables.';\n",
              "          element.innerHTML = '';\n",
              "          dataTable['output_type'] = 'display_data';\n",
              "          await google.colab.output.renderOutput(dataTable, element);\n",
              "          const docLink = document.createElement('div');\n",
              "          docLink.innerHTML = docLinkHtml;\n",
              "          element.appendChild(docLink);\n",
              "        }\n",
              "      </script>\n",
              "    </div>\n",
              "  </div>\n",
              "  "
            ]
          },
          "metadata": {},
          "execution_count": 38
        }
      ]
    },
    {
      "cell_type": "code",
      "source": [
        "# Testing predictions with normalized variables\n",
        "predictions = []\n",
        "for i in range(len(y_test_copy)):\n",
        "  test_input = X_test_copy[[\"age\", \"campaign\", \"marital_married\", \"marital_single\"]].iloc[i]\n",
        "  prediction = knn([\"age\", \"campaign\", \"marital_married\", \"marital_single\"], test_input, 3).iloc[0]\n",
        "  predictions.append(prediction)\n",
        "\n",
        "X_test_copy['predicted_y'] = predictions"
      ],
      "metadata": {
        "id": "2evPUgUcf29u"
      },
      "execution_count": 39,
      "outputs": []
    },
    {
      "cell_type": "code",
      "source": [
        "results_campaign_copy = y_test_copy == X_test_copy['predicted_y']"
      ],
      "metadata": {
        "id": "-9LSTRhxgBTr"
      },
      "execution_count": 40,
      "outputs": []
    },
    {
      "cell_type": "code",
      "source": [
        "results_campaign_copy.value_counts(normalize = True)"
      ],
      "metadata": {
        "colab": {
          "base_uri": "https://localhost:8080/"
        },
        "id": "4AFIXRQRgK81",
        "outputId": "ea1c39d6-5b8b-44a9-aa46-db70b97f0c0d"
      },
      "execution_count": 41,
      "outputs": [
        {
          "output_type": "execute_result",
          "data": {
            "text/plain": [
              "True     0.550066\n",
              "False    0.449934\n",
              "dtype: float64"
            ]
          },
          "metadata": {},
          "execution_count": 41
        }
      ]
    },
    {
      "cell_type": "markdown",
      "source": [
        "As expected, the accuracy remains roughly the same."
      ],
      "metadata": {
        "id": "RK2yJjSXgLoh"
      }
    },
    {
      "cell_type": "markdown",
      "source": [
        "# Validation set\n",
        "\n",
        "Using the test set too often can lead to bias in model predictions. The model learns from the test set and can start becoming very efficient in predicting the current dataset outcomes but that would not be the case once new data is introduced. To avoid that, it is good practice to introduce a validation set. In this section we will split the dataset into three parts:\n",
        "\n",
        "- Train (60% of the dataset)\n",
        "- Validation (20% of the dataset)\n",
        "- Test (20% of the dataset)."
      ],
      "metadata": {
        "id": "t-c-TmekiAFZ"
      }
    },
    {
      "cell_type": "code",
      "source": [
        "from sklearn.model_selection import train_test_split\n",
        "# Split features and outcome\n",
        "X = banking_df_copy.drop('y', axis=1)\n",
        "y = banking_df_copy['y']"
      ],
      "metadata": {
        "id": "r3NF0bLc639r"
      },
      "execution_count": 42,
      "outputs": []
    },
    {
      "cell_type": "code",
      "source": [
        "# Defining X_val and y_val as 20% of X and y\n",
        "X_train, X_val, y_train, y_val = train_test_split(X, y, test_size = 0.2, random_state= 417)"
      ],
      "metadata": {
        "id": "jJEra79d7SXk"
      },
      "execution_count": 43,
      "outputs": []
    },
    {
      "cell_type": "code",
      "source": [
        "# Defining X_train, y_train as 60% of X and X_test and y_test as 20% of X and y\n",
        "X_train, X_test, y_train, y_test = train_test_split(X_train,y_train, test_size = 0.2*X.shape[0]/X_train.shape[0], random_state = 417)"
      ],
      "metadata": {
        "id": "q8vbimh58G8X"
      },
      "execution_count": 44,
      "outputs": []
    },
    {
      "cell_type": "markdown",
      "source": [
        "## Building and training a k-NN model\n",
        "\n",
        "Now that we know how k-NN algorithm works, we will import the scikitlearn library and start building a more realistic machine-learning workflow for the banking_df dataframe. We will transform and include the 'default' feature and train the model once again:"
      ],
      "metadata": {
        "id": "LjS7_tQZ8Z7B"
      }
    },
    {
      "cell_type": "code",
      "source": [
        "from sklearn import neighbors\n",
        "from sklearn.neighbors import KNeighborsClassifier\n",
        "\n",
        "# Instantiate a classifier\n",
        "model = KNeighborsClassifier(n_neighbors = 5)"
      ],
      "metadata": {
        "id": "HUpKd79oBPI7"
      },
      "execution_count": 45,
      "outputs": []
    },
    {
      "cell_type": "code",
      "source": [
        "# Transforming 'default' feature as dummy variables\n",
        "X = pd.get_dummies( banking_df_copy,columns = ['default'], drop_first= True)"
      ],
      "metadata": {
        "id": "qQwMIrbNB-jV"
      },
      "execution_count": 46,
      "outputs": []
    },
    {
      "cell_type": "code",
      "source": [
        "# define X_val and y_val as 20% of X and y\n",
        "X_train, X_val, y_train, y_val = train_test_split(X, y, test_size = 0.2, random_state= 417)"
      ],
      "metadata": {
        "id": "aombFtcCFSyB"
      },
      "execution_count": 47,
      "outputs": []
    },
    {
      "cell_type": "code",
      "source": [
        "# Defines X_train, y_train as 60% of X and X_test and y_test as 20% of X and y\n",
        "X_train, X_test, y_train, y_test = train_test_split(X_train,y_train, test_size = 0.2*X.shape[0]/X_train.shape[0], random_state = 417)"
      ],
      "metadata": {
        "id": "5xmGQ51eFSyK"
      },
      "execution_count": 48,
      "outputs": []
    },
    {
      "cell_type": "code",
      "source": [
        "from sklearn.preprocessing import MinMaxScaler\n",
        "# Instantiate a scaler to normalize some of the features\n",
        "scaler = MinMaxScaler()"
      ],
      "metadata": {
        "id": "iErApqboCEDL"
      },
      "execution_count": 49,
      "outputs": []
    },
    {
      "cell_type": "code",
      "source": [
        "# Use the scaler to transform all features that wil be used for this model\n",
        "X_train_scaled = scaler.fit_transform(X_train[[\"marital_married\", \"marital_single\", \"marital_unknown\", \"default_unknown\", \"age\", \"duration\"]])"
      ],
      "metadata": {
        "id": "20ATQCf5ECbL"
      },
      "execution_count": 50,
      "outputs": []
    },
    {
      "cell_type": "markdown",
      "source": [
        "# Underfitting and overfitting on k-NN\n",
        "\n",
        "We follow the standard workflow of ML once again. However, we use the validation set to evaluate the model performance before presenting it to the test set. That will prevent introducing bias to the model once new data is presented.\n",
        "\n",
        "To show how the number of neighbors impact the model predictions, let's check the accuracy of the predictions using $k=1$ and $k=2000$:"
      ],
      "metadata": {
        "id": "LreDAd16FJ8r"
      }
    },
    {
      "cell_type": "code",
      "source": [
        "# Instantiate a classifier and fit the data (training the model)\n",
        "knn = KNeighborsClassifier(n_neighbors=1)\n",
        "knn.fit(X_train_scaled,y_train)"
      ],
      "metadata": {
        "colab": {
          "base_uri": "https://localhost:8080/"
        },
        "id": "3S59yLjEGU_V",
        "outputId": "863525eb-4cfd-4e79-8d8a-fd0075f5d17d"
      },
      "execution_count": 51,
      "outputs": [
        {
          "output_type": "execute_result",
          "data": {
            "text/plain": [
              "KNeighborsClassifier(n_neighbors=1)"
            ]
          },
          "metadata": {},
          "execution_count": 51
        }
      ]
    },
    {
      "cell_type": "code",
      "source": [
        "# Normalizing the features\n",
        "X_val_scaled = scaler.fit_transform(X_val[[\"marital_married\", \"marital_single\", \"marital_unknown\", \"default_unknown\", \"age\", \"duration\"]])"
      ],
      "metadata": {
        "id": "oUgvT8z5G2eF"
      },
      "execution_count": 52,
      "outputs": []
    },
    {
      "cell_type": "code",
      "source": [
        "# Calculating a score using the validation set\n",
        "val_score = knn.score(X_val_scaled,y_val)"
      ],
      "metadata": {
        "id": "ZEP58vp4Hhjs"
      },
      "execution_count": 53,
      "outputs": []
    },
    {
      "cell_type": "code",
      "source": [
        "val_score"
      ],
      "metadata": {
        "colab": {
          "base_uri": "https://localhost:8080/"
        },
        "id": "LSh39LXjIDTS",
        "outputId": "f6079b44-c2d5-49a9-cb55-26af03dd4946"
      },
      "execution_count": 54,
      "outputs": [
        {
          "output_type": "execute_result",
          "data": {
            "text/plain": [
              "0.7002469135802469"
            ]
          },
          "metadata": {},
          "execution_count": 54
        }
      ]
    },
    {
      "cell_type": "markdown",
      "source": [
        "The accuracy considering only one neighbor and six features improved the model considerably, from ~ 55% to 70%."
      ],
      "metadata": {
        "id": "P84ufh2BrSlR"
      }
    },
    {
      "cell_type": "markdown",
      "source": [
        "Let's check what impact on the score if we increase the number of neighbors drastically:"
      ],
      "metadata": {
        "id": "odRFUiUwIJ0o"
      }
    },
    {
      "cell_type": "code",
      "source": [
        "# Build a knn classifier using 2000 nearest neighbors\n",
        "knn = KNeighborsClassifier(n_neighbors=2000)\n",
        "knn.fit(X_train_scaled,y_train)\n",
        "val_score = knn.score(X_val_scaled,y_val)\n",
        "print(val_score)"
      ],
      "metadata": {
        "colab": {
          "base_uri": "https://localhost:8080/"
        },
        "outputId": "19b3b75b-5605-4b4a-8ea9-96c75715a6d9",
        "id": "Fcr70J-mIpsI"
      },
      "execution_count": 55,
      "outputs": [
        {
          "output_type": "stream",
          "name": "stdout",
          "text": [
            "0.5837037037037037\n"
          ]
        }
      ]
    },
    {
      "cell_type": "markdown",
      "source": [
        "As we see, drastically increasing the number of neighbors made our model underperform. In the first case, it is overfitting by creating a complex boundary to classify the data by only looking at the closest neighbor. In the second case, it is underfitting. It has to deal with so much information from so many neighbors that it struggles to learn about patterns in the data.\n",
        "\n",
        "## Evaluating the model on the test set\n",
        "\n",
        "To avoid underfitting or overfitting, let's choose an intermediate value for $k$, fit a model using the training set and check how it performs on the test set:"
      ],
      "metadata": {
        "id": "xHEK1Yu6SzP_"
      }
    },
    {
      "cell_type": "code",
      "source": [
        "# Scaling the test set features\n",
        "X_test_scaled = scaler.fit_transform(X_test[[\"marital_married\", \"marital_single\", \"marital_unknown\", \"default_unknown\", \"age\", \"duration\"]])"
      ],
      "metadata": {
        "id": "Jm-hvAt2SfLt"
      },
      "execution_count": 56,
      "outputs": []
    },
    {
      "cell_type": "code",
      "source": [
        "# Building a knn classifier using 45 neighbors and testing it on the test set\n",
        "knn = KNeighborsClassifier(n_neighbors=45)\n",
        "knn.fit(X_train_scaled,y_train)\n",
        "val_score = knn.score(X_val_scaled,y_val)\n",
        "test_score = knn.score(X_test_scaled,y_test)\n",
        "print(val_score)"
      ],
      "metadata": {
        "colab": {
          "base_uri": "https://localhost:8080/"
        },
        "outputId": "51beb007-74b6-4961-8410-0f16c97c4104",
        "id": "vBbxtn7MIpsP"
      },
      "execution_count": 57,
      "outputs": [
        {
          "output_type": "stream",
          "name": "stdout",
          "text": [
            "0.7570370370370371\n"
          ]
        }
      ]
    },
    {
      "cell_type": "code",
      "source": [
        "print(test_score)"
      ],
      "metadata": {
        "colab": {
          "base_uri": "https://localhost:8080/"
        },
        "id": "MtjHRsYTMWeg",
        "outputId": "c03576f3-bcf9-44c5-ec8e-04d91b90c456"
      },
      "execution_count": 77,
      "outputs": [
        {
          "output_type": "stream",
          "name": "stdout",
          "text": [
            "0.7595061728395062\n"
          ]
        }
      ]
    },
    {
      "cell_type": "markdown",
      "source": [
        "The model delivery a ~76% accuracy on the test set with a resonable number of neighbors."
      ],
      "metadata": {
        "id": "24XEWOBNIyaM"
      }
    },
    {
      "cell_type": "markdown",
      "source": [
        "# Improving the model\n",
        "\n",
        "In order to exemplify a full ML workflow, we will convert all categorical features in dummy variables."
      ],
      "metadata": {
        "id": "SGNYysA-JCKf"
      }
    },
    {
      "cell_type": "code",
      "source": [
        "banking_df_copy.info()"
      ],
      "metadata": {
        "colab": {
          "base_uri": "https://localhost:8080/"
        },
        "id": "bMkJTHrUgHmb",
        "outputId": "f1d08e79-ba81-495f-a55b-baf3f7e86aa4"
      },
      "execution_count": 58,
      "outputs": [
        {
          "output_type": "stream",
          "name": "stdout",
          "text": [
            "<class 'pandas.core.frame.DataFrame'>\n",
            "RangeIndex: 10122 entries, 0 to 10121\n",
            "Data columns (total 23 columns):\n",
            " #   Column           Non-Null Count  Dtype  \n",
            "---  ------           --------------  -----  \n",
            " 0   age              10122 non-null  int64  \n",
            " 1   job              10122 non-null  object \n",
            " 2   education        10122 non-null  object \n",
            " 3   default          10122 non-null  object \n",
            " 4   housing          10122 non-null  object \n",
            " 5   loan             10122 non-null  object \n",
            " 6   contact          10122 non-null  object \n",
            " 7   month            10122 non-null  object \n",
            " 8   day_of_week      10122 non-null  object \n",
            " 9   duration         10122 non-null  int64  \n",
            " 10  campaign         10122 non-null  int64  \n",
            " 11  pdays            10122 non-null  int64  \n",
            " 12  previous         10122 non-null  int64  \n",
            " 13  poutcome         10122 non-null  object \n",
            " 14  emp.var.rate     10122 non-null  float64\n",
            " 15  cons.price.idx   10122 non-null  float64\n",
            " 16  cons.conf.idx    10122 non-null  float64\n",
            " 17  euribor3m        10122 non-null  float64\n",
            " 18  nr.employed      10122 non-null  float64\n",
            " 19  y                10122 non-null  int64  \n",
            " 20  marital_married  10122 non-null  uint8  \n",
            " 21  marital_single   10122 non-null  uint8  \n",
            " 22  marital_unknown  10122 non-null  uint8  \n",
            "dtypes: float64(5), int64(6), object(9), uint8(3)\n",
            "memory usage: 1.6+ MB\n"
          ]
        }
      ]
    },
    {
      "cell_type": "code",
      "source": [
        "# Converting all categorical variables into dummy ones\n",
        "banking_df_copy= pd.get_dummies(banking_df_copy,columns = ['job','education','default','housing','loan','contact','month','day_of_week','poutcome'], drop_first= True)"
      ],
      "metadata": {
        "id": "c4lStFpfgSGb"
      },
      "execution_count": 59,
      "outputs": []
    },
    {
      "cell_type": "markdown",
      "source": [
        "## Feature selection\n",
        "\n",
        "Previously, we did some random feature selection to build a model. There are many ways of doing it though. Two common approaches are:\n",
        "- To use domain knowledge to exclude features that are likely to not contribute to model accuracy or,\n",
        "- To find features that have a strong correlation with the target variable. \n",
        "\n",
        "Let's compute the Pearson's correlation coeficient to search for linear correlation between features and the target variable: "
      ],
      "metadata": {
        "id": "GTeBYLmcg0GO"
      }
    },
    {
      "cell_type": "code",
      "source": [
        "correlations = abs(banking_df_copy.corr())"
      ],
      "metadata": {
        "id": "j5IQ_DmGh_se"
      },
      "execution_count": 60,
      "outputs": []
    },
    {
      "cell_type": "code",
      "source": [
        "correlations['y'].nlargest(n=6)"
      ],
      "metadata": {
        "colab": {
          "base_uri": "https://localhost:8080/"
        },
        "id": "oYDTRW-RiimQ",
        "outputId": "ae244390-a459-4212-af1f-e31843a8eef2"
      },
      "execution_count": 61,
      "outputs": [
        {
          "output_type": "execute_result",
          "data": {
            "text/plain": [
              "y               1.000000\n",
              "nr.employed     0.468524\n",
              "duration        0.468197\n",
              "euribor3m       0.445328\n",
              "emp.var.rate    0.429680\n",
              "pdays           0.317997\n",
              "Name: y, dtype: float64"
            ]
          },
          "metadata": {},
          "execution_count": 61
        }
      ]
    },
    {
      "cell_type": "markdown",
      "source": [
        "It is import to be aware that the Pearson's coefficient picks up only linear correlations and any non-linear correlations would be left aside. So it helps to select features, but it is not a perfect approach. \n",
        "\n",
        "We could keep trying different features and check the model performance. We will leave that for another time and focus on other parameters that can change the model's performance. Let's check with more details how it changes with the number of neighbors $k$. \n",
        "\n",
        "We will split the data into train, validation and test once more and check the model's performance for different numbers of neighbors:"
      ],
      "metadata": {
        "id": "ZAId2j_lxQFh"
      }
    },
    {
      "cell_type": "code",
      "source": [
        "# Splitting the features and target variables\n",
        "X = banking_df_copy.drop('y', axis = 1)\n",
        "y = banking_df_copy['y']"
      ],
      "metadata": {
        "id": "OSgopZLBkaZK"
      },
      "execution_count": 62,
      "outputs": []
    },
    {
      "cell_type": "code",
      "source": [
        "# Spliting the dataset into training and validation sets\n",
        "X_train, X_val, y_train, y_val = train_test_split(X,y, test_size = 0.2, random_state = 417)"
      ],
      "metadata": {
        "id": "Dktydh4vjsf4"
      },
      "execution_count": 63,
      "outputs": []
    },
    {
      "cell_type": "code",
      "source": [
        "# Splitting the test set\n",
        "X_train, X_test, y_train, y_test = train_test_split(X_train, y_train, test_size= 0.2*X.shape[0]/X_train.shape[0], random_state = 417)"
      ],
      "metadata": {
        "id": "BL8dq9wvlCr2"
      },
      "execution_count": 64,
      "outputs": []
    },
    {
      "cell_type": "code",
      "source": [
        "# Scalling the train set\n",
        "X_train_scaled = scaler.fit_transform(X_train)"
      ],
      "metadata": {
        "id": "W1AIjbKUlZR4"
      },
      "execution_count": 65,
      "outputs": []
    },
    {
      "cell_type": "code",
      "source": [
        "# Scalling the validation set\n",
        "X_val_scaled = scaler.fit_transform(X_val)"
      ],
      "metadata": {
        "id": "X2Wu0YP-nRxl"
      },
      "execution_count": 66,
      "outputs": []
    },
    {
      "cell_type": "code",
      "source": [
        "# Training a knn model for different values of k\n",
        "k = [1,2,3,4,5]\n",
        "accuracies = {}\n",
        "\n",
        "for i in k:\n",
        "  knn = KNeighborsClassifier(n_neighbors=i)\n",
        "  knn.fit(X_train_scaled,y_train)\n",
        "  val_accuracy = knn.score(X_val_scaled,y_val)\n",
        "  accuracies[i] = val_accuracy"
      ],
      "metadata": {
        "id": "rJWpjo2qosnD"
      },
      "execution_count": 67,
      "outputs": []
    },
    {
      "cell_type": "code",
      "source": [
        "# Impact of k values on accuracy\n",
        "accuracies"
      ],
      "metadata": {
        "colab": {
          "base_uri": "https://localhost:8080/"
        },
        "id": "xED8q-LRFz03",
        "outputId": "9de52c68-1f51-4663-dd5a-2c5ca1cec05a"
      },
      "execution_count": 68,
      "outputs": [
        {
          "output_type": "execute_result",
          "data": {
            "text/plain": [
              "{1: 0.694320987654321,\n",
              " 2: 0.6834567901234568,\n",
              " 3: 0.7229629629629629,\n",
              " 4: 0.7303703703703703,\n",
              " 5: 0.7377777777777778}"
            ]
          },
          "metadata": {},
          "execution_count": 68
        }
      ]
    },
    {
      "cell_type": "markdown",
      "source": [
        "## Hyperparameter parametrization\n",
        "\n",
        "Every model has some parameters that we can tune. Those parameters are called hyperparameters and can influence the performance of a model, as we saw above, $k$ is one of them for the k-NN model.\n",
        "\n",
        "We will experiment with other values for the hyperparameters of the k-NN model. We change $p$ which changes the metric, [$weights$](https://scikit-learn.org/stable/modules/generated/sklearn.neighbors.KNeighborsClassifier.html) which changes the weight of the distance for each variable, and the number of neighbors:"
      ],
      "metadata": {
        "id": "0JnDVQsGF2Iv"
      }
    },
    {
      "cell_type": "code",
      "source": [
        "# Impact of different choices of some of the hyperparameters for the kNN\n",
        "k = [1,10,30,60,90]\n",
        "accuracies = {}\n",
        "\n",
        "for i in k:\n",
        "  # weight = 'distance' give a higher weight for points that are closer to the test point / p is the power of the Minkowski metric (when p=2 we recover the Euclidean metric)\n",
        "  knn = KNeighborsClassifier(n_neighbors=i, weights = 'distance', p = 5)\n",
        "  knn.fit(X_train_scaled,y_train)\n",
        "  val_accuracy = knn.score(X_val_scaled,y_val)\n",
        "  accuracies[i] = val_accuracy"
      ],
      "metadata": {
        "id": "uYycDxa1G_us"
      },
      "execution_count": 69,
      "outputs": []
    },
    {
      "cell_type": "code",
      "source": [
        "print(accuracies)"
      ],
      "metadata": {
        "colab": {
          "base_uri": "https://localhost:8080/"
        },
        "id": "NXf8xflTRvf5",
        "outputId": "43a18643-42ed-4e04-c779-20e5a8f64070"
      },
      "execution_count": 70,
      "outputs": [
        {
          "output_type": "stream",
          "name": "stdout",
          "text": [
            "{1: 0.6869135802469136, 10: 0.7279012345679012, 30: 0.7422222222222222, 60: 0.745679012345679, 90: 0.745679012345679}\n"
          ]
        }
      ]
    },
    {
      "cell_type": "markdown",
      "source": [
        "## Grid search\n",
        "\n",
        "Grid search is a way to fine-tuning a model faster and more rigorously. Sklearn has a library for that. One can include the range of some of the hyperparameters and GridSearchCV method will search for the best values. It will also perform some cross-validation, which splits the dataset into many different training and validation sets while searching for the best hyperparameters. Let's try it here:"
      ],
      "metadata": {
        "id": "e_Tq-UOVIXTF"
      }
    },
    {
      "cell_type": "code",
      "source": [
        "# Spliting the dataset into train and test sets and scaling the training set\n",
        "X_train, X_test, y_train, y_test = train_test_split(X,y, test_size = 0.2, random_state = 417)\n",
        "X_train_scaled = scaler.fit_transform(X_train)"
      ],
      "metadata": {
        "id": "xdWVx6r6TVnp"
      },
      "execution_count": 71,
      "outputs": []
    },
    {
      "cell_type": "code",
      "source": [
        "# Performing a gridsearch\n",
        "from sklearn.model_selection import GridSearchCV\n",
        "# Defining the grid\n",
        "parameters = {'n_neighbors': [1,3,5], 'weights': ['distance','uniform'], 'p' : [1,2]}\n",
        "# Instantiate a model\n",
        "knn = KNeighborsClassifier()\n",
        "# Instantiate a gridsearch classifier\n",
        "clf = GridSearchCV(estimator = knn, param_grid = parameters, scoring = 'accuracy')\n",
        "# Training the classifier\n",
        "clf.fit(X_train_scaled,y_train)\n",
        "# Finding best accuracy and best parameters\n",
        "best_score = clf.best_score_\n",
        "best_params = clf.best_params_"
      ],
      "metadata": {
        "id": "W9gdeu41Tmlp"
      },
      "execution_count": 72,
      "outputs": []
    },
    {
      "cell_type": "code",
      "source": [
        "print(f\"Best model's accuracy:  {best_score*100:.2f}%\")\n",
        "print(f\"Best model's parameters: {best_params}\")"
      ],
      "metadata": {
        "colab": {
          "base_uri": "https://localhost:8080/"
        },
        "id": "-E5jc2XjWTjf",
        "outputId": "60943591-b895-43b1-efd4-30095f5a43bf"
      },
      "execution_count": 73,
      "outputs": [
        {
          "output_type": "stream",
          "name": "stdout",
          "text": [
            "Best model's accuracy:  75.35%\n",
            "Best model's parameters: {'n_neighbors': 5, 'p': 1, 'weights': 'uniform'}\n"
          ]
        }
      ]
    },
    {
      "cell_type": "markdown",
      "source": [
        "## Evaluating the model on the test set\n",
        "\n",
        "The final step is to check if the model will perform similarly once new data is presented to it. Let's check it using the test set:"
      ],
      "metadata": {
        "id": "HCxbnpHMZVLF"
      }
    },
    {
      "cell_type": "code",
      "source": [
        "# Scaling the test set\n",
        "X_test_scaled = scaler.fit_transform(X_test)"
      ],
      "metadata": {
        "id": "j0C-Kk_eZmlq"
      },
      "execution_count": 74,
      "outputs": []
    },
    {
      "cell_type": "code",
      "source": [
        "# Finding the accuracy on test set\n",
        "accuracy = clf.best_estimator_.score(X_test_scaled,y_test)"
      ],
      "metadata": {
        "id": "SZ_M87qhag5D"
      },
      "execution_count": 75,
      "outputs": []
    },
    {
      "cell_type": "code",
      "source": [
        "print(f\"Model accuracy on test set: {accuracy*100:.2f}%\")"
      ],
      "metadata": {
        "colab": {
          "base_uri": "https://localhost:8080/"
        },
        "id": "fq_IcRzxbsFl",
        "outputId": "517d9aae-74b9-4a82-f455-2651962e73f0"
      },
      "execution_count": 76,
      "outputs": [
        {
          "output_type": "stream",
          "name": "stdout",
          "text": [
            "Model accuracy on test set: 74.37%\n"
          ]
        }
      ]
    },
    {
      "cell_type": "markdown",
      "source": [
        "The model did perform similarly on the train and test set. This is what one should expect of a good model.\n",
        "\n",
        "The best model we found had a ~74% accuracy. That means that we can predict correctly ~74% of the clients that will or will not sign up for a term deposit with the bank."
      ],
      "metadata": {
        "id": "-1XXJDWJ2hlD"
      }
    },
    {
      "cell_type": "markdown",
      "source": [
        "# Summary\n",
        "\n",
        "In this lesson we learned the steps for building a ML model:\n",
        "\n",
        "1 - Split the data into X (features) and y (target).\n",
        "\n",
        "1.1 - Convert categorical variables into dummy ones.\n",
        "\n",
        "1.2 - Instantiate a scaler and use the fit_transform() method to scale all values into the interval 0-1 (this reduces misclassification since K-NN look at distances to classify a new data point and larger distances will have a larger weight on the classification).\n",
        "\n",
        "2 - Split the X and y variable into train, validation and test sets.\n",
        "\n",
        "3 - Instantiate a model.\n",
        "\n",
        "3.1 - Use grid search to find a better model by changing its hyperparameters values.\n",
        "\n",
        "4 - Fit the model using the training set (X_train and y_train).\n",
        "\n",
        "4.1 - Get best values for the hyperparameters (GridSearchCV divides the training set into train and validation and perform cross-validation under the hood).\n",
        "\n",
        "5 - Use the best_estimator_ method from GridSearchCV find the score on the test set.\n"
      ],
      "metadata": {
        "id": "SLjMEj0ibxt9"
      }
    },
    {
      "cell_type": "code",
      "source": [],
      "metadata": {
        "id": "bt-d6tirdKt3"
      },
      "execution_count": 76,
      "outputs": []
    }
  ]
}