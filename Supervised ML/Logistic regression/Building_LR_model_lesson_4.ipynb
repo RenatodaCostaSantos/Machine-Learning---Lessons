{
  "nbformat": 4,
  "nbformat_minor": 0,
  "metadata": {
    "colab": {
      "provenance": [],
      "authorship_tag": "ABX9TyML4n/MoVloTlgeRQmst5JE",
      "include_colab_link": true
    },
    "kernelspec": {
      "name": "python3",
      "display_name": "Python 3"
    },
    "language_info": {
      "name": "python"
    }
  },
  "cells": [
    {
      "cell_type": "markdown",
      "metadata": {
        "id": "view-in-github",
        "colab_type": "text"
      },
      "source": [
        "<a href=\"https://colab.research.google.com/github/RenatodaCostaSantos/Machine-Learning---Lessons/blob/main/Supervised%20ML/Logistic%20regression/Building_LR_model_lesson_4.ipynb\" target=\"_parent\"><img src=\"https://colab.research.google.com/assets/colab-badge.svg\" alt=\"Open In Colab\"/></a>"
      ]
    },
    {
      "cell_type": "markdown",
      "source": [
        "# Building a logistic regression model\n",
        "\n",
        "It is finally time to apply what we learned in the previous lessons. We will build a logistic regression model and evaluate it on the test set and check how well our models will perform. That will guide us to go back and begin to iterate it and improve its predictive power.\n",
        "\n",
        "We will briefly introduce concepts such as sparsity, regularization (overfitting) and discuss multiclass classification problems. \n",
        "\n",
        "Let's start by loading the libraries and the auto dataset once more.\n",
        "\n"
      ],
      "metadata": {
        "id": "d5hAurLeTvkM"
      }
    },
    {
      "cell_type": "code",
      "source": [
        "import numpy as np\n",
        "import pandas as pd\n",
        "from sklearn.model_selection import train_test_split\n",
        "\n",
        "from google.colab import drive\n",
        "\n",
        "drive.mount('/content/drive')"
      ],
      "metadata": {
        "colab": {
          "base_uri": "https://localhost:8080/"
        },
        "id": "X9xWggR1Vu7_",
        "outputId": "66129ed1-b7ca-4a5a-f283-3b44c164482b"
      },
      "execution_count": 1,
      "outputs": [
        {
          "output_type": "stream",
          "name": "stdout",
          "text": [
            "Mounted at /content/drive\n"
          ]
        }
      ]
    },
    {
      "cell_type": "code",
      "source": [
        "auto = pd.read_csv('/content/drive/MyDrive/Colab Notebooks/Logistic regression/automobiles.csv')"
      ],
      "metadata": {
        "id": "xm8ImpAaWHzg"
      },
      "execution_count": 2,
      "outputs": []
    },
    {
      "cell_type": "code",
      "source": [
        "auto.head(8)"
      ],
      "metadata": {
        "colab": {
          "base_uri": "https://localhost:8080/",
          "height": 394
        },
        "id": "0W-EiUqBWeYk",
        "outputId": "7e85b92e-184c-4b3c-be84-2b47451d3a1b"
      },
      "execution_count": 3,
      "outputs": [
        {
          "output_type": "execute_result",
          "data": {
            "text/plain": [
              "   symboling  normalized_losses  make fuel_type aspiration num_of_doors  \\\n",
              "0          2                164  audi       gas        std         four   \n",
              "1          2                164  audi       gas        std         four   \n",
              "2          1                158  audi       gas        std         four   \n",
              "3          1                158  audi       gas      turbo         four   \n",
              "4          2                192   bmw       gas        std          two   \n",
              "5          0                192   bmw       gas        std         four   \n",
              "6          0                188   bmw       gas        std          two   \n",
              "7          0                188   bmw       gas        std         four   \n",
              "\n",
              "  body_style drive_wheels engine_location  wheel_base  ...  engine_size  \\\n",
              "0      sedan          fwd           front        99.8  ...          109   \n",
              "1      sedan          4wd           front        99.4  ...          136   \n",
              "2      sedan          fwd           front       105.8  ...          136   \n",
              "3      sedan          fwd           front       105.8  ...          131   \n",
              "4      sedan          rwd           front       101.2  ...          108   \n",
              "5      sedan          rwd           front       101.2  ...          108   \n",
              "6      sedan          rwd           front       101.2  ...          164   \n",
              "7      sedan          rwd           front       101.2  ...          164   \n",
              "\n",
              "   fuel_system  bore  stroke compression_ratio horsepower  peak_rpm city_mpg  \\\n",
              "0         mpfi  3.19    3.40              10.0        102      5500       24   \n",
              "1         mpfi  3.19    3.40               8.0        115      5500       18   \n",
              "2         mpfi  3.19    3.40               8.5        110      5500       19   \n",
              "3         mpfi  3.13    3.40               8.3        140      5500       17   \n",
              "4         mpfi  3.50    2.80               8.8        101      5800       23   \n",
              "5         mpfi  3.50    2.80               8.8        101      5800       23   \n",
              "6         mpfi  3.31    3.19               9.0        121      4250       21   \n",
              "7         mpfi  3.31    3.19               9.0        121      4250       21   \n",
              "\n",
              "   highway_mpg  price  \n",
              "0           30  13950  \n",
              "1           22  17450  \n",
              "2           25  17710  \n",
              "3           20  23875  \n",
              "4           29  16430  \n",
              "5           29  16925  \n",
              "6           28  20970  \n",
              "7           28  21105  \n",
              "\n",
              "[8 rows x 26 columns]"
            ],
            "text/html": [
              "\n",
              "  <div id=\"df-5f136dea-4a9f-4f44-b8ce-00e057a89aab\">\n",
              "    <div class=\"colab-df-container\">\n",
              "      <div>\n",
              "<style scoped>\n",
              "    .dataframe tbody tr th:only-of-type {\n",
              "        vertical-align: middle;\n",
              "    }\n",
              "\n",
              "    .dataframe tbody tr th {\n",
              "        vertical-align: top;\n",
              "    }\n",
              "\n",
              "    .dataframe thead th {\n",
              "        text-align: right;\n",
              "    }\n",
              "</style>\n",
              "<table border=\"1\" class=\"dataframe\">\n",
              "  <thead>\n",
              "    <tr style=\"text-align: right;\">\n",
              "      <th></th>\n",
              "      <th>symboling</th>\n",
              "      <th>normalized_losses</th>\n",
              "      <th>make</th>\n",
              "      <th>fuel_type</th>\n",
              "      <th>aspiration</th>\n",
              "      <th>num_of_doors</th>\n",
              "      <th>body_style</th>\n",
              "      <th>drive_wheels</th>\n",
              "      <th>engine_location</th>\n",
              "      <th>wheel_base</th>\n",
              "      <th>...</th>\n",
              "      <th>engine_size</th>\n",
              "      <th>fuel_system</th>\n",
              "      <th>bore</th>\n",
              "      <th>stroke</th>\n",
              "      <th>compression_ratio</th>\n",
              "      <th>horsepower</th>\n",
              "      <th>peak_rpm</th>\n",
              "      <th>city_mpg</th>\n",
              "      <th>highway_mpg</th>\n",
              "      <th>price</th>\n",
              "    </tr>\n",
              "  </thead>\n",
              "  <tbody>\n",
              "    <tr>\n",
              "      <th>0</th>\n",
              "      <td>2</td>\n",
              "      <td>164</td>\n",
              "      <td>audi</td>\n",
              "      <td>gas</td>\n",
              "      <td>std</td>\n",
              "      <td>four</td>\n",
              "      <td>sedan</td>\n",
              "      <td>fwd</td>\n",
              "      <td>front</td>\n",
              "      <td>99.8</td>\n",
              "      <td>...</td>\n",
              "      <td>109</td>\n",
              "      <td>mpfi</td>\n",
              "      <td>3.19</td>\n",
              "      <td>3.40</td>\n",
              "      <td>10.0</td>\n",
              "      <td>102</td>\n",
              "      <td>5500</td>\n",
              "      <td>24</td>\n",
              "      <td>30</td>\n",
              "      <td>13950</td>\n",
              "    </tr>\n",
              "    <tr>\n",
              "      <th>1</th>\n",
              "      <td>2</td>\n",
              "      <td>164</td>\n",
              "      <td>audi</td>\n",
              "      <td>gas</td>\n",
              "      <td>std</td>\n",
              "      <td>four</td>\n",
              "      <td>sedan</td>\n",
              "      <td>4wd</td>\n",
              "      <td>front</td>\n",
              "      <td>99.4</td>\n",
              "      <td>...</td>\n",
              "      <td>136</td>\n",
              "      <td>mpfi</td>\n",
              "      <td>3.19</td>\n",
              "      <td>3.40</td>\n",
              "      <td>8.0</td>\n",
              "      <td>115</td>\n",
              "      <td>5500</td>\n",
              "      <td>18</td>\n",
              "      <td>22</td>\n",
              "      <td>17450</td>\n",
              "    </tr>\n",
              "    <tr>\n",
              "      <th>2</th>\n",
              "      <td>1</td>\n",
              "      <td>158</td>\n",
              "      <td>audi</td>\n",
              "      <td>gas</td>\n",
              "      <td>std</td>\n",
              "      <td>four</td>\n",
              "      <td>sedan</td>\n",
              "      <td>fwd</td>\n",
              "      <td>front</td>\n",
              "      <td>105.8</td>\n",
              "      <td>...</td>\n",
              "      <td>136</td>\n",
              "      <td>mpfi</td>\n",
              "      <td>3.19</td>\n",
              "      <td>3.40</td>\n",
              "      <td>8.5</td>\n",
              "      <td>110</td>\n",
              "      <td>5500</td>\n",
              "      <td>19</td>\n",
              "      <td>25</td>\n",
              "      <td>17710</td>\n",
              "    </tr>\n",
              "    <tr>\n",
              "      <th>3</th>\n",
              "      <td>1</td>\n",
              "      <td>158</td>\n",
              "      <td>audi</td>\n",
              "      <td>gas</td>\n",
              "      <td>turbo</td>\n",
              "      <td>four</td>\n",
              "      <td>sedan</td>\n",
              "      <td>fwd</td>\n",
              "      <td>front</td>\n",
              "      <td>105.8</td>\n",
              "      <td>...</td>\n",
              "      <td>131</td>\n",
              "      <td>mpfi</td>\n",
              "      <td>3.13</td>\n",
              "      <td>3.40</td>\n",
              "      <td>8.3</td>\n",
              "      <td>140</td>\n",
              "      <td>5500</td>\n",
              "      <td>17</td>\n",
              "      <td>20</td>\n",
              "      <td>23875</td>\n",
              "    </tr>\n",
              "    <tr>\n",
              "      <th>4</th>\n",
              "      <td>2</td>\n",
              "      <td>192</td>\n",
              "      <td>bmw</td>\n",
              "      <td>gas</td>\n",
              "      <td>std</td>\n",
              "      <td>two</td>\n",
              "      <td>sedan</td>\n",
              "      <td>rwd</td>\n",
              "      <td>front</td>\n",
              "      <td>101.2</td>\n",
              "      <td>...</td>\n",
              "      <td>108</td>\n",
              "      <td>mpfi</td>\n",
              "      <td>3.50</td>\n",
              "      <td>2.80</td>\n",
              "      <td>8.8</td>\n",
              "      <td>101</td>\n",
              "      <td>5800</td>\n",
              "      <td>23</td>\n",
              "      <td>29</td>\n",
              "      <td>16430</td>\n",
              "    </tr>\n",
              "    <tr>\n",
              "      <th>5</th>\n",
              "      <td>0</td>\n",
              "      <td>192</td>\n",
              "      <td>bmw</td>\n",
              "      <td>gas</td>\n",
              "      <td>std</td>\n",
              "      <td>four</td>\n",
              "      <td>sedan</td>\n",
              "      <td>rwd</td>\n",
              "      <td>front</td>\n",
              "      <td>101.2</td>\n",
              "      <td>...</td>\n",
              "      <td>108</td>\n",
              "      <td>mpfi</td>\n",
              "      <td>3.50</td>\n",
              "      <td>2.80</td>\n",
              "      <td>8.8</td>\n",
              "      <td>101</td>\n",
              "      <td>5800</td>\n",
              "      <td>23</td>\n",
              "      <td>29</td>\n",
              "      <td>16925</td>\n",
              "    </tr>\n",
              "    <tr>\n",
              "      <th>6</th>\n",
              "      <td>0</td>\n",
              "      <td>188</td>\n",
              "      <td>bmw</td>\n",
              "      <td>gas</td>\n",
              "      <td>std</td>\n",
              "      <td>two</td>\n",
              "      <td>sedan</td>\n",
              "      <td>rwd</td>\n",
              "      <td>front</td>\n",
              "      <td>101.2</td>\n",
              "      <td>...</td>\n",
              "      <td>164</td>\n",
              "      <td>mpfi</td>\n",
              "      <td>3.31</td>\n",
              "      <td>3.19</td>\n",
              "      <td>9.0</td>\n",
              "      <td>121</td>\n",
              "      <td>4250</td>\n",
              "      <td>21</td>\n",
              "      <td>28</td>\n",
              "      <td>20970</td>\n",
              "    </tr>\n",
              "    <tr>\n",
              "      <th>7</th>\n",
              "      <td>0</td>\n",
              "      <td>188</td>\n",
              "      <td>bmw</td>\n",
              "      <td>gas</td>\n",
              "      <td>std</td>\n",
              "      <td>four</td>\n",
              "      <td>sedan</td>\n",
              "      <td>rwd</td>\n",
              "      <td>front</td>\n",
              "      <td>101.2</td>\n",
              "      <td>...</td>\n",
              "      <td>164</td>\n",
              "      <td>mpfi</td>\n",
              "      <td>3.31</td>\n",
              "      <td>3.19</td>\n",
              "      <td>9.0</td>\n",
              "      <td>121</td>\n",
              "      <td>4250</td>\n",
              "      <td>21</td>\n",
              "      <td>28</td>\n",
              "      <td>21105</td>\n",
              "    </tr>\n",
              "  </tbody>\n",
              "</table>\n",
              "<p>8 rows × 26 columns</p>\n",
              "</div>\n",
              "      <button class=\"colab-df-convert\" onclick=\"convertToInteractive('df-5f136dea-4a9f-4f44-b8ce-00e057a89aab')\"\n",
              "              title=\"Convert this dataframe to an interactive table.\"\n",
              "              style=\"display:none;\">\n",
              "        \n",
              "  <svg xmlns=\"http://www.w3.org/2000/svg\" height=\"24px\"viewBox=\"0 0 24 24\"\n",
              "       width=\"24px\">\n",
              "    <path d=\"M0 0h24v24H0V0z\" fill=\"none\"/>\n",
              "    <path d=\"M18.56 5.44l.94 2.06.94-2.06 2.06-.94-2.06-.94-.94-2.06-.94 2.06-2.06.94zm-11 1L8.5 8.5l.94-2.06 2.06-.94-2.06-.94L8.5 2.5l-.94 2.06-2.06.94zm10 10l.94 2.06.94-2.06 2.06-.94-2.06-.94-.94-2.06-.94 2.06-2.06.94z\"/><path d=\"M17.41 7.96l-1.37-1.37c-.4-.4-.92-.59-1.43-.59-.52 0-1.04.2-1.43.59L10.3 9.45l-7.72 7.72c-.78.78-.78 2.05 0 2.83L4 21.41c.39.39.9.59 1.41.59.51 0 1.02-.2 1.41-.59l7.78-7.78 2.81-2.81c.8-.78.8-2.07 0-2.86zM5.41 20L4 18.59l7.72-7.72 1.47 1.35L5.41 20z\"/>\n",
              "  </svg>\n",
              "      </button>\n",
              "      \n",
              "  <style>\n",
              "    .colab-df-container {\n",
              "      display:flex;\n",
              "      flex-wrap:wrap;\n",
              "      gap: 12px;\n",
              "    }\n",
              "\n",
              "    .colab-df-convert {\n",
              "      background-color: #E8F0FE;\n",
              "      border: none;\n",
              "      border-radius: 50%;\n",
              "      cursor: pointer;\n",
              "      display: none;\n",
              "      fill: #1967D2;\n",
              "      height: 32px;\n",
              "      padding: 0 0 0 0;\n",
              "      width: 32px;\n",
              "    }\n",
              "\n",
              "    .colab-df-convert:hover {\n",
              "      background-color: #E2EBFA;\n",
              "      box-shadow: 0px 1px 2px rgba(60, 64, 67, 0.3), 0px 1px 3px 1px rgba(60, 64, 67, 0.15);\n",
              "      fill: #174EA6;\n",
              "    }\n",
              "\n",
              "    [theme=dark] .colab-df-convert {\n",
              "      background-color: #3B4455;\n",
              "      fill: #D2E3FC;\n",
              "    }\n",
              "\n",
              "    [theme=dark] .colab-df-convert:hover {\n",
              "      background-color: #434B5C;\n",
              "      box-shadow: 0px 1px 3px 1px rgba(0, 0, 0, 0.15);\n",
              "      filter: drop-shadow(0px 1px 2px rgba(0, 0, 0, 0.3));\n",
              "      fill: #FFFFFF;\n",
              "    }\n",
              "  </style>\n",
              "\n",
              "      <script>\n",
              "        const buttonEl =\n",
              "          document.querySelector('#df-5f136dea-4a9f-4f44-b8ce-00e057a89aab button.colab-df-convert');\n",
              "        buttonEl.style.display =\n",
              "          google.colab.kernel.accessAllowed ? 'block' : 'none';\n",
              "\n",
              "        async function convertToInteractive(key) {\n",
              "          const element = document.querySelector('#df-5f136dea-4a9f-4f44-b8ce-00e057a89aab');\n",
              "          const dataTable =\n",
              "            await google.colab.kernel.invokeFunction('convertToInteractive',\n",
              "                                                     [key], {});\n",
              "          if (!dataTable) return;\n",
              "\n",
              "          const docLinkHtml = 'Like what you see? Visit the ' +\n",
              "            '<a target=\"_blank\" href=https://colab.research.google.com/notebooks/data_table.ipynb>data table notebook</a>'\n",
              "            + ' to learn more about interactive tables.';\n",
              "          element.innerHTML = '';\n",
              "          dataTable['output_type'] = 'display_data';\n",
              "          await google.colab.output.renderOutput(dataTable, element);\n",
              "          const docLink = document.createElement('div');\n",
              "          docLink.innerHTML = docLinkHtml;\n",
              "          element.appendChild(docLink);\n",
              "        }\n",
              "      </script>\n",
              "    </div>\n",
              "  </div>\n",
              "  "
            ]
          },
          "metadata": {},
          "execution_count": 3
        }
      ]
    },
    {
      "cell_type": "code",
      "source": [
        "auto.info()"
      ],
      "metadata": {
        "colab": {
          "base_uri": "https://localhost:8080/"
        },
        "id": "BXSmgK8VWfxr",
        "outputId": "dd15690f-782d-4f5e-90ed-37db23d96643"
      },
      "execution_count": 4,
      "outputs": [
        {
          "output_type": "stream",
          "name": "stdout",
          "text": [
            "<class 'pandas.core.frame.DataFrame'>\n",
            "RangeIndex: 159 entries, 0 to 158\n",
            "Data columns (total 26 columns):\n",
            " #   Column             Non-Null Count  Dtype  \n",
            "---  ------             --------------  -----  \n",
            " 0   symboling          159 non-null    int64  \n",
            " 1   normalized_losses  159 non-null    int64  \n",
            " 2   make               159 non-null    object \n",
            " 3   fuel_type          159 non-null    object \n",
            " 4   aspiration         159 non-null    object \n",
            " 5   num_of_doors       159 non-null    object \n",
            " 6   body_style         159 non-null    object \n",
            " 7   drive_wheels       159 non-null    object \n",
            " 8   engine_location    159 non-null    object \n",
            " 9   wheel_base         159 non-null    float64\n",
            " 10  length             159 non-null    float64\n",
            " 11  width              159 non-null    float64\n",
            " 12  height             159 non-null    float64\n",
            " 13  curb_weight        159 non-null    int64  \n",
            " 14  engine_type        159 non-null    object \n",
            " 15  num_of_cylinders   159 non-null    object \n",
            " 16  engine_size        159 non-null    int64  \n",
            " 17  fuel_system        159 non-null    object \n",
            " 18  bore               159 non-null    float64\n",
            " 19  stroke             159 non-null    float64\n",
            " 20  compression_ratio  159 non-null    float64\n",
            " 21  horsepower         159 non-null    int64  \n",
            " 22  peak_rpm           159 non-null    int64  \n",
            " 23  city_mpg           159 non-null    int64  \n",
            " 24  highway_mpg        159 non-null    int64  \n",
            " 25  price              159 non-null    int64  \n",
            "dtypes: float64(7), int64(9), object(10)\n",
            "memory usage: 32.4+ KB\n"
          ]
        }
      ]
    },
    {
      "cell_type": "code",
      "source": [
        "auto.describe()"
      ],
      "metadata": {
        "colab": {
          "base_uri": "https://localhost:8080/",
          "height": 300
        },
        "id": "GdBqhkWDWmuJ",
        "outputId": "00060c63-064d-4591-db6c-bee6ce45588e"
      },
      "execution_count": 5,
      "outputs": [
        {
          "output_type": "execute_result",
          "data": {
            "text/plain": [
              "        symboling  normalized_losses  wheel_base      length       width  \\\n",
              "count  159.000000         159.000000  159.000000  159.000000  159.000000   \n",
              "mean     0.735849         121.132075   98.264151  172.413836   65.607547   \n",
              "std      1.193086          35.651285    5.167416   11.523177    1.947883   \n",
              "min     -2.000000          65.000000   86.600000  141.100000   60.300000   \n",
              "25%      0.000000          94.000000   94.500000  165.650000   64.000000   \n",
              "50%      1.000000         113.000000   96.900000  172.400000   65.400000   \n",
              "75%      2.000000         148.000000  100.800000  177.800000   66.500000   \n",
              "max      3.000000         256.000000  115.600000  202.600000   71.700000   \n",
              "\n",
              "           height  curb_weight  engine_size        bore      stroke  \\\n",
              "count  159.000000   159.000000   159.000000  159.000000  159.000000   \n",
              "mean    53.899371  2461.138365   119.226415    3.300126    3.236352   \n",
              "std      2.268761   481.941321    30.460791    0.267336    0.294888   \n",
              "min     49.400000  1488.000000    61.000000    2.540000    2.070000   \n",
              "25%     52.250000  2065.500000    97.000000    3.050000    3.105000   \n",
              "50%     54.100000  2340.000000   110.000000    3.270000    3.270000   \n",
              "75%     55.500000  2809.500000   135.000000    3.560000    3.410000   \n",
              "max     59.800000  4066.000000   258.000000    3.940000    4.170000   \n",
              "\n",
              "       compression_ratio  horsepower     peak_rpm    city_mpg  highway_mpg  \\\n",
              "count         159.000000  159.000000   159.000000  159.000000   159.000000   \n",
              "mean           10.161132   95.836478  5113.836478   26.522013    32.081761   \n",
              "std             3.889475   30.718583   465.754864    6.097142     6.459189   \n",
              "min             7.000000   48.000000  4150.000000   15.000000    18.000000   \n",
              "25%             8.700000   69.000000  4800.000000   23.000000    28.000000   \n",
              "50%             9.000000   88.000000  5200.000000   26.000000    32.000000   \n",
              "75%             9.400000  114.000000  5500.000000   31.000000    37.000000   \n",
              "max            23.000000  200.000000  6600.000000   49.000000    54.000000   \n",
              "\n",
              "              price  \n",
              "count    159.000000  \n",
              "mean   11445.729560  \n",
              "std     5877.856195  \n",
              "min     5118.000000  \n",
              "25%     7372.000000  \n",
              "50%     9233.000000  \n",
              "75%    14719.500000  \n",
              "max    35056.000000  "
            ],
            "text/html": [
              "\n",
              "  <div id=\"df-675feed2-a003-4934-9e93-82c81f9d6d66\">\n",
              "    <div class=\"colab-df-container\">\n",
              "      <div>\n",
              "<style scoped>\n",
              "    .dataframe tbody tr th:only-of-type {\n",
              "        vertical-align: middle;\n",
              "    }\n",
              "\n",
              "    .dataframe tbody tr th {\n",
              "        vertical-align: top;\n",
              "    }\n",
              "\n",
              "    .dataframe thead th {\n",
              "        text-align: right;\n",
              "    }\n",
              "</style>\n",
              "<table border=\"1\" class=\"dataframe\">\n",
              "  <thead>\n",
              "    <tr style=\"text-align: right;\">\n",
              "      <th></th>\n",
              "      <th>symboling</th>\n",
              "      <th>normalized_losses</th>\n",
              "      <th>wheel_base</th>\n",
              "      <th>length</th>\n",
              "      <th>width</th>\n",
              "      <th>height</th>\n",
              "      <th>curb_weight</th>\n",
              "      <th>engine_size</th>\n",
              "      <th>bore</th>\n",
              "      <th>stroke</th>\n",
              "      <th>compression_ratio</th>\n",
              "      <th>horsepower</th>\n",
              "      <th>peak_rpm</th>\n",
              "      <th>city_mpg</th>\n",
              "      <th>highway_mpg</th>\n",
              "      <th>price</th>\n",
              "    </tr>\n",
              "  </thead>\n",
              "  <tbody>\n",
              "    <tr>\n",
              "      <th>count</th>\n",
              "      <td>159.000000</td>\n",
              "      <td>159.000000</td>\n",
              "      <td>159.000000</td>\n",
              "      <td>159.000000</td>\n",
              "      <td>159.000000</td>\n",
              "      <td>159.000000</td>\n",
              "      <td>159.000000</td>\n",
              "      <td>159.000000</td>\n",
              "      <td>159.000000</td>\n",
              "      <td>159.000000</td>\n",
              "      <td>159.000000</td>\n",
              "      <td>159.000000</td>\n",
              "      <td>159.000000</td>\n",
              "      <td>159.000000</td>\n",
              "      <td>159.000000</td>\n",
              "      <td>159.000000</td>\n",
              "    </tr>\n",
              "    <tr>\n",
              "      <th>mean</th>\n",
              "      <td>0.735849</td>\n",
              "      <td>121.132075</td>\n",
              "      <td>98.264151</td>\n",
              "      <td>172.413836</td>\n",
              "      <td>65.607547</td>\n",
              "      <td>53.899371</td>\n",
              "      <td>2461.138365</td>\n",
              "      <td>119.226415</td>\n",
              "      <td>3.300126</td>\n",
              "      <td>3.236352</td>\n",
              "      <td>10.161132</td>\n",
              "      <td>95.836478</td>\n",
              "      <td>5113.836478</td>\n",
              "      <td>26.522013</td>\n",
              "      <td>32.081761</td>\n",
              "      <td>11445.729560</td>\n",
              "    </tr>\n",
              "    <tr>\n",
              "      <th>std</th>\n",
              "      <td>1.193086</td>\n",
              "      <td>35.651285</td>\n",
              "      <td>5.167416</td>\n",
              "      <td>11.523177</td>\n",
              "      <td>1.947883</td>\n",
              "      <td>2.268761</td>\n",
              "      <td>481.941321</td>\n",
              "      <td>30.460791</td>\n",
              "      <td>0.267336</td>\n",
              "      <td>0.294888</td>\n",
              "      <td>3.889475</td>\n",
              "      <td>30.718583</td>\n",
              "      <td>465.754864</td>\n",
              "      <td>6.097142</td>\n",
              "      <td>6.459189</td>\n",
              "      <td>5877.856195</td>\n",
              "    </tr>\n",
              "    <tr>\n",
              "      <th>min</th>\n",
              "      <td>-2.000000</td>\n",
              "      <td>65.000000</td>\n",
              "      <td>86.600000</td>\n",
              "      <td>141.100000</td>\n",
              "      <td>60.300000</td>\n",
              "      <td>49.400000</td>\n",
              "      <td>1488.000000</td>\n",
              "      <td>61.000000</td>\n",
              "      <td>2.540000</td>\n",
              "      <td>2.070000</td>\n",
              "      <td>7.000000</td>\n",
              "      <td>48.000000</td>\n",
              "      <td>4150.000000</td>\n",
              "      <td>15.000000</td>\n",
              "      <td>18.000000</td>\n",
              "      <td>5118.000000</td>\n",
              "    </tr>\n",
              "    <tr>\n",
              "      <th>25%</th>\n",
              "      <td>0.000000</td>\n",
              "      <td>94.000000</td>\n",
              "      <td>94.500000</td>\n",
              "      <td>165.650000</td>\n",
              "      <td>64.000000</td>\n",
              "      <td>52.250000</td>\n",
              "      <td>2065.500000</td>\n",
              "      <td>97.000000</td>\n",
              "      <td>3.050000</td>\n",
              "      <td>3.105000</td>\n",
              "      <td>8.700000</td>\n",
              "      <td>69.000000</td>\n",
              "      <td>4800.000000</td>\n",
              "      <td>23.000000</td>\n",
              "      <td>28.000000</td>\n",
              "      <td>7372.000000</td>\n",
              "    </tr>\n",
              "    <tr>\n",
              "      <th>50%</th>\n",
              "      <td>1.000000</td>\n",
              "      <td>113.000000</td>\n",
              "      <td>96.900000</td>\n",
              "      <td>172.400000</td>\n",
              "      <td>65.400000</td>\n",
              "      <td>54.100000</td>\n",
              "      <td>2340.000000</td>\n",
              "      <td>110.000000</td>\n",
              "      <td>3.270000</td>\n",
              "      <td>3.270000</td>\n",
              "      <td>9.000000</td>\n",
              "      <td>88.000000</td>\n",
              "      <td>5200.000000</td>\n",
              "      <td>26.000000</td>\n",
              "      <td>32.000000</td>\n",
              "      <td>9233.000000</td>\n",
              "    </tr>\n",
              "    <tr>\n",
              "      <th>75%</th>\n",
              "      <td>2.000000</td>\n",
              "      <td>148.000000</td>\n",
              "      <td>100.800000</td>\n",
              "      <td>177.800000</td>\n",
              "      <td>66.500000</td>\n",
              "      <td>55.500000</td>\n",
              "      <td>2809.500000</td>\n",
              "      <td>135.000000</td>\n",
              "      <td>3.560000</td>\n",
              "      <td>3.410000</td>\n",
              "      <td>9.400000</td>\n",
              "      <td>114.000000</td>\n",
              "      <td>5500.000000</td>\n",
              "      <td>31.000000</td>\n",
              "      <td>37.000000</td>\n",
              "      <td>14719.500000</td>\n",
              "    </tr>\n",
              "    <tr>\n",
              "      <th>max</th>\n",
              "      <td>3.000000</td>\n",
              "      <td>256.000000</td>\n",
              "      <td>115.600000</td>\n",
              "      <td>202.600000</td>\n",
              "      <td>71.700000</td>\n",
              "      <td>59.800000</td>\n",
              "      <td>4066.000000</td>\n",
              "      <td>258.000000</td>\n",
              "      <td>3.940000</td>\n",
              "      <td>4.170000</td>\n",
              "      <td>23.000000</td>\n",
              "      <td>200.000000</td>\n",
              "      <td>6600.000000</td>\n",
              "      <td>49.000000</td>\n",
              "      <td>54.000000</td>\n",
              "      <td>35056.000000</td>\n",
              "    </tr>\n",
              "  </tbody>\n",
              "</table>\n",
              "</div>\n",
              "      <button class=\"colab-df-convert\" onclick=\"convertToInteractive('df-675feed2-a003-4934-9e93-82c81f9d6d66')\"\n",
              "              title=\"Convert this dataframe to an interactive table.\"\n",
              "              style=\"display:none;\">\n",
              "        \n",
              "  <svg xmlns=\"http://www.w3.org/2000/svg\" height=\"24px\"viewBox=\"0 0 24 24\"\n",
              "       width=\"24px\">\n",
              "    <path d=\"M0 0h24v24H0V0z\" fill=\"none\"/>\n",
              "    <path d=\"M18.56 5.44l.94 2.06.94-2.06 2.06-.94-2.06-.94-.94-2.06-.94 2.06-2.06.94zm-11 1L8.5 8.5l.94-2.06 2.06-.94-2.06-.94L8.5 2.5l-.94 2.06-2.06.94zm10 10l.94 2.06.94-2.06 2.06-.94-2.06-.94-.94-2.06-.94 2.06-2.06.94z\"/><path d=\"M17.41 7.96l-1.37-1.37c-.4-.4-.92-.59-1.43-.59-.52 0-1.04.2-1.43.59L10.3 9.45l-7.72 7.72c-.78.78-.78 2.05 0 2.83L4 21.41c.39.39.9.59 1.41.59.51 0 1.02-.2 1.41-.59l7.78-7.78 2.81-2.81c.8-.78.8-2.07 0-2.86zM5.41 20L4 18.59l7.72-7.72 1.47 1.35L5.41 20z\"/>\n",
              "  </svg>\n",
              "      </button>\n",
              "      \n",
              "  <style>\n",
              "    .colab-df-container {\n",
              "      display:flex;\n",
              "      flex-wrap:wrap;\n",
              "      gap: 12px;\n",
              "    }\n",
              "\n",
              "    .colab-df-convert {\n",
              "      background-color: #E8F0FE;\n",
              "      border: none;\n",
              "      border-radius: 50%;\n",
              "      cursor: pointer;\n",
              "      display: none;\n",
              "      fill: #1967D2;\n",
              "      height: 32px;\n",
              "      padding: 0 0 0 0;\n",
              "      width: 32px;\n",
              "    }\n",
              "\n",
              "    .colab-df-convert:hover {\n",
              "      background-color: #E2EBFA;\n",
              "      box-shadow: 0px 1px 2px rgba(60, 64, 67, 0.3), 0px 1px 3px 1px rgba(60, 64, 67, 0.15);\n",
              "      fill: #174EA6;\n",
              "    }\n",
              "\n",
              "    [theme=dark] .colab-df-convert {\n",
              "      background-color: #3B4455;\n",
              "      fill: #D2E3FC;\n",
              "    }\n",
              "\n",
              "    [theme=dark] .colab-df-convert:hover {\n",
              "      background-color: #434B5C;\n",
              "      box-shadow: 0px 1px 3px 1px rgba(0, 0, 0, 0.15);\n",
              "      filter: drop-shadow(0px 1px 2px rgba(0, 0, 0, 0.3));\n",
              "      fill: #FFFFFF;\n",
              "    }\n",
              "  </style>\n",
              "\n",
              "      <script>\n",
              "        const buttonEl =\n",
              "          document.querySelector('#df-675feed2-a003-4934-9e93-82c81f9d6d66 button.colab-df-convert');\n",
              "        buttonEl.style.display =\n",
              "          google.colab.kernel.accessAllowed ? 'block' : 'none';\n",
              "\n",
              "        async function convertToInteractive(key) {\n",
              "          const element = document.querySelector('#df-675feed2-a003-4934-9e93-82c81f9d6d66');\n",
              "          const dataTable =\n",
              "            await google.colab.kernel.invokeFunction('convertToInteractive',\n",
              "                                                     [key], {});\n",
              "          if (!dataTable) return;\n",
              "\n",
              "          const docLinkHtml = 'Like what you see? Visit the ' +\n",
              "            '<a target=\"_blank\" href=https://colab.research.google.com/notebooks/data_table.ipynb>data table notebook</a>'\n",
              "            + ' to learn more about interactive tables.';\n",
              "          element.innerHTML = '';\n",
              "          dataTable['output_type'] = 'display_data';\n",
              "          await google.colab.output.renderOutput(dataTable, element);\n",
              "          const docLink = document.createElement('div');\n",
              "          docLink.innerHTML = docLinkHtml;\n",
              "          element.appendChild(docLink);\n",
              "        }\n",
              "      </script>\n",
              "    </div>\n",
              "  </div>\n",
              "  "
            ]
          },
          "metadata": {},
          "execution_count": 5
        }
      ]
    },
    {
      "cell_type": "markdown",
      "source": [
        "As in the previous lessons, we will create a feature called 'high_price' and that will be our target column:"
      ],
      "metadata": {
        "id": "Lj5vbn-zWprR"
      }
    },
    {
      "cell_type": "code",
      "source": [
        "# Create high_price column\n",
        "auto['high_price'] = 0\n",
        "auto.loc[auto['price'] > 15000, 'high_price'] = 1"
      ],
      "metadata": {
        "id": "1e45qxOyWzs_"
      },
      "execution_count": 6,
      "outputs": []
    },
    {
      "cell_type": "code",
      "source": [
        "# Check for high_price column values\n",
        "auto['high_price'].value_counts()"
      ],
      "metadata": {
        "colab": {
          "base_uri": "https://localhost:8080/"
        },
        "id": "qJzhHojDXD-M",
        "outputId": "88271b50-d08c-4c64-e5c6-a8c7800a55ff"
      },
      "execution_count": 7,
      "outputs": [
        {
          "output_type": "execute_result",
          "data": {
            "text/plain": [
              "0    119\n",
              "1     40\n",
              "Name: high_price, dtype: int64"
            ]
          },
          "metadata": {},
          "execution_count": 7
        }
      ]
    },
    {
      "cell_type": "code",
      "source": [
        "# Create features dataframe\n",
        "X = auto.drop(['price','high_price'], axis = 1)\n",
        "# Create target\n",
        "y = auto['high_price']"
      ],
      "metadata": {
        "id": "4KIhdq7JXKTs"
      },
      "execution_count": 8,
      "outputs": []
    },
    {
      "cell_type": "code",
      "source": [
        "# Split data into train and test sets\n",
        "X_train, X_test, y_train, y_test = train_test_split(X, y, test_size = 0.2, random_state = 123, stratify = y)"
      ],
      "metadata": {
        "id": "_A4MTlBKXfVH"
      },
      "execution_count": 9,
      "outputs": []
    },
    {
      "cell_type": "markdown",
      "source": [
        "# Building two different models\n",
        "\n",
        "\n",
        "In order to give an idea of a machine learning workflow, we will build two different models by using two different features of our dataset and compare their accuracy first on the train set:"
      ],
      "metadata": {
        "id": "82LXHAqpX0O1"
      }
    },
    {
      "cell_type": "code",
      "source": [
        "# Define features for both models\n",
        "X1 = X_train[['horsepower','length']]\n",
        "X2 = X_train[['compression_ratio','stroke']]"
      ],
      "metadata": {
        "id": "OLezcTqOZYAW"
      },
      "execution_count": 10,
      "outputs": []
    },
    {
      "cell_type": "code",
      "source": [
        "from sklearn.linear_model import LogisticRegression\n",
        "\n",
        "# Instantiate two models\n",
        "model1 = LogisticRegression()\n",
        "model2 = LogisticRegression()\n",
        "\n",
        "# Fit the models\n",
        "model1.fit(X1,y_train)\n",
        "model2.fit(X2,y_train)"
      ],
      "metadata": {
        "colab": {
          "base_uri": "https://localhost:8080/"
        },
        "id": "b8IhA7HLY8Kh",
        "outputId": "e777e1ef-af13-484f-ee0a-0c6ff081475f"
      },
      "execution_count": 11,
      "outputs": [
        {
          "output_type": "execute_result",
          "data": {
            "text/plain": [
              "LogisticRegression()"
            ]
          },
          "metadata": {},
          "execution_count": 11
        }
      ]
    },
    {
      "cell_type": "code",
      "source": [
        "# Testing the accuracy of models on the training set\n",
        "accuracy_1 = model1.score(X1,y_train)\n",
        "print(f'The accuracy for model1 on the train set was: {accuracy_1*100:.2f}%')\n",
        "\n",
        "accuracy_2 = model2.score(X2,y_train)\n",
        "print(f'The accuracy for model2 on the train set was: {accuracy_2*100:.2f}%')"
      ],
      "metadata": {
        "colab": {
          "base_uri": "https://localhost:8080/"
        },
        "id": "Of2PccwvZux9",
        "outputId": "ba3e5efc-f45a-41f6-96ea-b03fb7d7ca44"
      },
      "execution_count": 12,
      "outputs": [
        {
          "output_type": "stream",
          "name": "stdout",
          "text": [
            "The accuracy for model1 on the train set was: 87.40%\n",
            "The accuracy for model2 on the train set was: 72.44%\n"
          ]
        }
      ]
    },
    {
      "cell_type": "markdown",
      "source": [
        "As we can see, model1 performed much better on the training set, with 87.4% of correct predictions, while model2 had an accuracy of 72.4%."
      ],
      "metadata": {
        "id": "jsOsnesGbk9L"
      }
    },
    {
      "cell_type": "markdown",
      "source": [
        "# Feature selection: Split-Apply-Combine\n",
        "\n",
        "So far, we've worked out how to build a logistic regression model and how to compute its accuracy given some features. However, when building a model, we would like to increase our chances to find the best model. We chose some random features above and saw that different features have a different impact on the accuracy of the model. In a realistic machine learning workflow, one important goal is to try to find the best set of features. This task is known as **feature selection**.\n",
        "\n",
        "In linear regression, one can use visualizations or compute Pearson's r coefficient in order to select features that are linearly correlated with the target column. That helps the model to increase its performance. We can implement a similar idea in a logistic regression model.\n",
        "\n",
        "In a logistic regression model, we can check if a feature will help the model to identify the outcomes more precisely by following the steps:\n",
        "\n",
        "1 - We **split** the dataset into two datasets by using the target column, as shown below:\n",
        "\n",
        "![split](https://raw.githubusercontent.com/RenatodaCostaSantos/Machine-Learning---Lessons/main/Supervised%20ML/Logistic%20regression/images/dataframe_split.png)\n",
        "\n",
        "2 - We aggregate the data using a specific feature and compute a quantity that can help us summarize the data for that feature, for example, the mean value for that column in both datasets. This procedure can be visualized in the figure below:\n",
        "\n",
        "![mean](https://raw.githubusercontent.com/RenatodaCostaSantos/Machine-Learning---Lessons/main/Supervised%20ML/Logistic%20regression/images/mean_agg.png)\n",
        "\n",
        "3 - The last step is to **combine** both outcomes in a single dataframe as we can see in the figure below:\n",
        "\n",
        "![combine](https://raw.githubusercontent.com/RenatodaCostaSantos/Machine-Learning---Lessons/main/Supervised%20ML/Logistic%20regression/images/combine.png)\n",
        "\n",
        "\n",
        "If the values for the means are very sparse, the distribution of values for that feature is significantly different for different values of the outcomes. That will help the model to make better predictions. \n",
        "\n",
        "We can implement the procedure above with the groupby() and agg() methods in Pandas. For example, groupby ('high_price') will split the dataset into two different dataframes, one containing only 0 values for the target variable, and one containing only 1 values. That's the first step of the procedure we described above.\n",
        "\n",
        "The next step is implemented with the agg() method that takes a dictionary containing the column names we want to select as keys and the operation we want to execute as values. The final result is combined and shown in a dataframe. These are steps 2 and 3 described above. \n",
        "\n",
        "Let's use this procedure to understand why the model1 had better accuracy than the model2 in the previous section.\n",
        "\n",
        "\n",
        "\n"
      ],
      "metadata": {
        "id": "ANw6vxYQcy8W"
      }
    },
    {
      "cell_type": "code",
      "source": [
        "# Perform the split-apply-combine in pandas\n",
        "auto.groupby('high_price').agg(\n",
        "    {\n",
        "        'horsepower': 'mean',\n",
        "        'compression_ratio': 'mean',\n",
        "        'stroke': 'mean',\n",
        "        'length': 'mean'\n",
        "    }\n",
        ")"
      ],
      "metadata": {
        "colab": {
          "base_uri": "https://localhost:8080/",
          "height": 143
        },
        "id": "CAvOwosnnrJ2",
        "outputId": "940b1b9a-23af-40bb-b8e6-b876c2383983"
      },
      "execution_count": 13,
      "outputs": [
        {
          "output_type": "execute_result",
          "data": {
            "text/plain": [
              "            horsepower  compression_ratio    stroke     length\n",
              "high_price                                                    \n",
              "0            83.907563           9.886723  3.241261  168.22605\n",
              "1           131.325000          10.977500  3.221750  184.87250"
            ],
            "text/html": [
              "\n",
              "  <div id=\"df-3e0831d8-48b0-4382-96f2-4f28fed055ff\">\n",
              "    <div class=\"colab-df-container\">\n",
              "      <div>\n",
              "<style scoped>\n",
              "    .dataframe tbody tr th:only-of-type {\n",
              "        vertical-align: middle;\n",
              "    }\n",
              "\n",
              "    .dataframe tbody tr th {\n",
              "        vertical-align: top;\n",
              "    }\n",
              "\n",
              "    .dataframe thead th {\n",
              "        text-align: right;\n",
              "    }\n",
              "</style>\n",
              "<table border=\"1\" class=\"dataframe\">\n",
              "  <thead>\n",
              "    <tr style=\"text-align: right;\">\n",
              "      <th></th>\n",
              "      <th>horsepower</th>\n",
              "      <th>compression_ratio</th>\n",
              "      <th>stroke</th>\n",
              "      <th>length</th>\n",
              "    </tr>\n",
              "    <tr>\n",
              "      <th>high_price</th>\n",
              "      <th></th>\n",
              "      <th></th>\n",
              "      <th></th>\n",
              "      <th></th>\n",
              "    </tr>\n",
              "  </thead>\n",
              "  <tbody>\n",
              "    <tr>\n",
              "      <th>0</th>\n",
              "      <td>83.907563</td>\n",
              "      <td>9.886723</td>\n",
              "      <td>3.241261</td>\n",
              "      <td>168.22605</td>\n",
              "    </tr>\n",
              "    <tr>\n",
              "      <th>1</th>\n",
              "      <td>131.325000</td>\n",
              "      <td>10.977500</td>\n",
              "      <td>3.221750</td>\n",
              "      <td>184.87250</td>\n",
              "    </tr>\n",
              "  </tbody>\n",
              "</table>\n",
              "</div>\n",
              "      <button class=\"colab-df-convert\" onclick=\"convertToInteractive('df-3e0831d8-48b0-4382-96f2-4f28fed055ff')\"\n",
              "              title=\"Convert this dataframe to an interactive table.\"\n",
              "              style=\"display:none;\">\n",
              "        \n",
              "  <svg xmlns=\"http://www.w3.org/2000/svg\" height=\"24px\"viewBox=\"0 0 24 24\"\n",
              "       width=\"24px\">\n",
              "    <path d=\"M0 0h24v24H0V0z\" fill=\"none\"/>\n",
              "    <path d=\"M18.56 5.44l.94 2.06.94-2.06 2.06-.94-2.06-.94-.94-2.06-.94 2.06-2.06.94zm-11 1L8.5 8.5l.94-2.06 2.06-.94-2.06-.94L8.5 2.5l-.94 2.06-2.06.94zm10 10l.94 2.06.94-2.06 2.06-.94-2.06-.94-.94-2.06-.94 2.06-2.06.94z\"/><path d=\"M17.41 7.96l-1.37-1.37c-.4-.4-.92-.59-1.43-.59-.52 0-1.04.2-1.43.59L10.3 9.45l-7.72 7.72c-.78.78-.78 2.05 0 2.83L4 21.41c.39.39.9.59 1.41.59.51 0 1.02-.2 1.41-.59l7.78-7.78 2.81-2.81c.8-.78.8-2.07 0-2.86zM5.41 20L4 18.59l7.72-7.72 1.47 1.35L5.41 20z\"/>\n",
              "  </svg>\n",
              "      </button>\n",
              "      \n",
              "  <style>\n",
              "    .colab-df-container {\n",
              "      display:flex;\n",
              "      flex-wrap:wrap;\n",
              "      gap: 12px;\n",
              "    }\n",
              "\n",
              "    .colab-df-convert {\n",
              "      background-color: #E8F0FE;\n",
              "      border: none;\n",
              "      border-radius: 50%;\n",
              "      cursor: pointer;\n",
              "      display: none;\n",
              "      fill: #1967D2;\n",
              "      height: 32px;\n",
              "      padding: 0 0 0 0;\n",
              "      width: 32px;\n",
              "    }\n",
              "\n",
              "    .colab-df-convert:hover {\n",
              "      background-color: #E2EBFA;\n",
              "      box-shadow: 0px 1px 2px rgba(60, 64, 67, 0.3), 0px 1px 3px 1px rgba(60, 64, 67, 0.15);\n",
              "      fill: #174EA6;\n",
              "    }\n",
              "\n",
              "    [theme=dark] .colab-df-convert {\n",
              "      background-color: #3B4455;\n",
              "      fill: #D2E3FC;\n",
              "    }\n",
              "\n",
              "    [theme=dark] .colab-df-convert:hover {\n",
              "      background-color: #434B5C;\n",
              "      box-shadow: 0px 1px 3px 1px rgba(0, 0, 0, 0.15);\n",
              "      filter: drop-shadow(0px 1px 2px rgba(0, 0, 0, 0.3));\n",
              "      fill: #FFFFFF;\n",
              "    }\n",
              "  </style>\n",
              "\n",
              "      <script>\n",
              "        const buttonEl =\n",
              "          document.querySelector('#df-3e0831d8-48b0-4382-96f2-4f28fed055ff button.colab-df-convert');\n",
              "        buttonEl.style.display =\n",
              "          google.colab.kernel.accessAllowed ? 'block' : 'none';\n",
              "\n",
              "        async function convertToInteractive(key) {\n",
              "          const element = document.querySelector('#df-3e0831d8-48b0-4382-96f2-4f28fed055ff');\n",
              "          const dataTable =\n",
              "            await google.colab.kernel.invokeFunction('convertToInteractive',\n",
              "                                                     [key], {});\n",
              "          if (!dataTable) return;\n",
              "\n",
              "          const docLinkHtml = 'Like what you see? Visit the ' +\n",
              "            '<a target=\"_blank\" href=https://colab.research.google.com/notebooks/data_table.ipynb>data table notebook</a>'\n",
              "            + ' to learn more about interactive tables.';\n",
              "          element.innerHTML = '';\n",
              "          dataTable['output_type'] = 'display_data';\n",
              "          await google.colab.output.renderOutput(dataTable, element);\n",
              "          const docLink = document.createElement('div');\n",
              "          docLink.innerHTML = docLinkHtml;\n",
              "          element.appendChild(docLink);\n",
              "        }\n",
              "      </script>\n",
              "    </div>\n",
              "  </div>\n",
              "  "
            ]
          },
          "metadata": {},
          "execution_count": 13
        }
      ]
    },
    {
      "cell_type": "markdown",
      "source": [
        "The values for the means for 'horsepower' and 'length' are significantly more different on different outcomes than the 'compression_ratio' and 'stroke' features. That explains why model1 was more accurate than model2 in the previous section.\n",
        "\n",
        "# Model complexity\n",
        "\n",
        "As we saw in the previous section, choosing features wisely is very important. If we decide to increase the number of features of a model, it will tend to become very good at predicting values on the training set, but it will struggle to find important patterns once we present new data to the model. That is the intuition behind overfitting. Too many features and the model can perform well on the training set and fail to be accurate in the test set. \n",
        "\n",
        "Let's build three different models of increasing complexity and evaluate them on the training and test sets in order to develop an intuition for the sentence above:"
      ],
      "metadata": {
        "id": "rPJmg2tPoRAI"
      }
    },
    {
      "cell_type": "code",
      "source": [
        "# Define training features for three different models\n",
        "X1 = X_train[['horsepower']]\n",
        "X2 = X_train[['horsepower','compression_ratio']]\n",
        "X3 = X_train[['horsepower','compression_ratio','city_mpg']]\n",
        "\n",
        "# Define test features for three different models\n",
        "X1_test = X_test[['horsepower']]\n",
        "X2_test = X_test[['horsepower','compression_ratio']]\n",
        "X3_test = X_test[['horsepower','compression_ratio','city_mpg']]"
      ],
      "metadata": {
        "id": "cwCbemJNAr0E"
      },
      "execution_count": 14,
      "outputs": []
    },
    {
      "cell_type": "code",
      "source": [
        "# Instantiate three models\n",
        "model1 = LogisticRegression()\n",
        "model2 = LogisticRegression()\n",
        "model3 = LogisticRegression()"
      ],
      "metadata": {
        "id": "76JqkkV3BQBa"
      },
      "execution_count": 15,
      "outputs": []
    },
    {
      "cell_type": "code",
      "source": [
        "# Fit models on train sets\n",
        "model1.fit(X1,y_train)\n",
        "model2.fit(X2,y_train)\n",
        "model3.fit(X3,y_train)"
      ],
      "metadata": {
        "colab": {
          "base_uri": "https://localhost:8080/"
        },
        "id": "JK1ZR7w0BmBT",
        "outputId": "6625ba7b-aada-4732-c343-7b52b3f0d4cd"
      },
      "execution_count": 16,
      "outputs": [
        {
          "output_type": "execute_result",
          "data": {
            "text/plain": [
              "LogisticRegression()"
            ]
          },
          "metadata": {},
          "execution_count": 16
        }
      ]
    },
    {
      "cell_type": "code",
      "source": [
        "# Compute accuracy on training set\n",
        "accuracy_1_train = model1.score(X1,y_train)\n",
        "accuracy_2_train = model2.score(X2,y_train)\n",
        "accuracy_3_train = model3.score(X3,y_train)"
      ],
      "metadata": {
        "id": "FiIw5_ryByeU"
      },
      "execution_count": 17,
      "outputs": []
    },
    {
      "cell_type": "code",
      "source": [
        "print(f'The accuracies for the three models on the training set were: {accuracy_1_train*100:.2f}%, {accuracy_2_train*100:.2f}% and, {accuracy_3_train*100:.2f}%.')"
      ],
      "metadata": {
        "colab": {
          "base_uri": "https://localhost:8080/"
        },
        "id": "DT_oNG5_C5Jf",
        "outputId": "7884759a-4438-4383-d98c-a94ef86c8eca"
      },
      "execution_count": 18,
      "outputs": [
        {
          "output_type": "stream",
          "name": "stdout",
          "text": [
            "The accuracies for the three models on the training set were: 87.40%, 88.19% and, 91.34%.\n"
          ]
        }
      ]
    },
    {
      "cell_type": "markdown",
      "source": [
        "As we can see, there is an increasing trend in the accuracies as we increase the model's complexity by adding more features. It is becoming better at finding the outcomes in the training set. However, let's check if it holds on the test set:"
      ],
      "metadata": {
        "id": "kKoZScpTC7Al"
      }
    },
    {
      "cell_type": "code",
      "source": [
        "# Compute accuracy on test set\n",
        "accuracy_1_test = model1.score(X1_test,y_test)\n",
        "accuracy_2_test = model2.score(X2_test,y_test)\n",
        "accuracy_3_test = model3.score(X3_test,y_test)"
      ],
      "metadata": {
        "id": "sEBxCxaLCKjd"
      },
      "execution_count": 19,
      "outputs": []
    },
    {
      "cell_type": "code",
      "source": [
        "print(f'The accuracies for the three models on the test set were: {accuracy_1_test*100:.2f}%, {accuracy_2_test*100:.2f}% and, {accuracy_3_test*100:.2f}%.')"
      ],
      "metadata": {
        "colab": {
          "base_uri": "https://localhost:8080/"
        },
        "id": "nBc_kW5wCYWi",
        "outputId": "6cd2763a-59e4-46c1-d6a7-ed1024b0145e"
      },
      "execution_count": 20,
      "outputs": [
        {
          "output_type": "stream",
          "name": "stdout",
          "text": [
            "The accuracies for the three models on the test set were: 84.38%, 81.25% and, 90.62%.\n"
          ]
        }
      ]
    },
    {
      "cell_type": "markdown",
      "source": [
        "This result illustrates that the increasing trend in the training set does not hold in the test set predictions. In fact, the model's performance decreased as we introduced the second feature and increased again once the third feature was introduced. \n",
        "\n",
        "The main message here is that we should be careful when assessing the training set results.\n",
        "\n",
        "# Multi-class classification\n",
        "\n",
        "Imagine that instead of a binary classification problem we had multiple categorical values in the target variable. That would make it a multi-class classification problem. Let's create a multi-class target column in the auto dataset before discussing what would change in a machine-learning workflow.\n"
      ],
      "metadata": {
        "id": "V_WwxzigCrMp"
      }
    },
    {
      "cell_type": "code",
      "source": [
        "# Create a multi-class target variable\n",
        "auto['price_category'] = 'Low'\n",
        "auto.loc[(auto['price'] >= 10000) & (auto['price'] < 15000), 'price_category'] = 'Mid'\n",
        "auto.loc[auto['price'] >= 15000, 'price_category'] = 'High'"
      ],
      "metadata": {
        "id": "isswSjKAEIfN"
      },
      "execution_count": 21,
      "outputs": []
    },
    {
      "cell_type": "markdown",
      "source": [
        "We had three different values for the outcomes, 'Low', 'Mid', and 'High'. What would change in the machine learning workflow in this case? \n",
        "\n",
        "The good news is that the LogisticRegression class from sklearn deals with it without any issues. Almost all methods are available for this problem. The accuracy as a metric is still well-defined. However, sensitivity and specificity only make sense in a binary classification problem, so they are not available in multi-class classification problems.\n",
        "\n",
        "In a multi-class classification problem, we can use the confusion matrix, which generalizes the concepts of sensitivity and specificity.\n",
        "\n",
        "![confusion](https://raw.githubusercontent.com/RenatodaCostaSantos/Machine-Learning---Lessons/main/Supervised%20ML/Logistic%20regression/images/confusion.png)\n",
        "\n",
        "\n",
        "It will always be a square $n \\times n$ matrix, where $n$ is the number of different outcomes. The off-diagonal terms are values that were incorrectly predicted by the model. These values can inform us if the model is having trouble identifying one class while doing fine in others.\n",
        "\n",
        "Let's implement the machine-learning workflow in a multi-class classification problem:"
      ],
      "metadata": {
        "id": "gugtJz79Ro4J"
      }
    },
    {
      "cell_type": "code",
      "source": [
        "# Split dataset into feature and target\n",
        "X = auto.drop(['price','price_category'],axis = 1)\n",
        "y = auto['price_category']"
      ],
      "metadata": {
        "id": "xkvgJpusXeoj"
      },
      "execution_count": 22,
      "outputs": []
    },
    {
      "cell_type": "code",
      "source": [
        "# Define train and test sets\n",
        "X_train, X_test, y_train, y_test = train_test_split(X, y, test_size = 0.2, random_state = 415)"
      ],
      "metadata": {
        "id": "nkWF1rvdX1YE"
      },
      "execution_count": 23,
      "outputs": []
    },
    {
      "cell_type": "code",
      "source": [
        "# Define a model using just a few features\n",
        "X1 = X_train[['engine_size','horsepower']]\n",
        "X1_test = X_test[['engine_size','horsepower']]"
      ],
      "metadata": {
        "id": "8roVlgRhYHsM"
      },
      "execution_count": 25,
      "outputs": []
    },
    {
      "cell_type": "code",
      "source": [
        "from sklearn.metrics import confusion_matrix\n",
        "\n",
        "# Instantiate a model\n",
        "model = LogisticRegression()\n",
        "\n",
        "# Fit the model\n",
        "model.fit(X1,y_train)\n",
        "\n",
        "# Find accuracy of the model on test set\n",
        "accuracy = model.score(X1_test, y_test)\n",
        "print(f'The accuracy of the model in the test set was: {accuracy*100:.2f}%')\n",
        "\n",
        "# Find test predictions\n",
        "predictions = model.predict(X1_test)\n",
        "\n",
        "# Calculate confusion matrix\n",
        "confusion = confusion_matrix(y_test, predictions)\n",
        "\n",
        "print(confusion)"
      ],
      "metadata": {
        "colab": {
          "base_uri": "https://localhost:8080/"
        },
        "id": "k31A_lXUYXMT",
        "outputId": "150815a1-99cf-4584-a94e-db1caba2eb88"
      },
      "execution_count": 28,
      "outputs": [
        {
          "output_type": "stream",
          "name": "stdout",
          "text": [
            "The accuracy of the model in the test set was: 65.62%\n",
            "[[ 8  3  1]\n",
            " [ 0 13  0]\n",
            " [ 3  4  0]]\n"
          ]
        }
      ]
    },
    {
      "cell_type": "markdown",
      "source": [
        "According to the accuracy and confusion matrix, the model is not very accurate and is having more trouble identifying high price cars.\n",
        "\n",
        "# Comunicating results\n",
        "\n",
        "When we finish a project, we have to be clear about the process used while manipulating the data. Here are a few non-exhaustive lists of questions we should be able to answer after finishing a project:\n",
        "\n",
        "- Which fractions of the data were used for the training and test sets?\n",
        "\n",
        "- Did we perform any transformations on the data? If so, why was that necessary/relevant?\n",
        "\n",
        "- Which features did we use to build the model? What is the reason we chose those features?\n",
        "\n",
        "- How did the model perform on new data?\n",
        "\n",
        "- Which metric did you choose to make those predictions? Why did you choose that metric?\n",
        "\n",
        "- Does the model perform better on some specific label? Which one?\n",
        "\n",
        "These questions are not only useful to other people to make decisions when using your model, but also to guide yourself on your choices while building the model itself.\n",
        "\n",
        "\n",
        "# Summary\n",
        "\n",
        "In this lesson we:\n",
        "\n",
        "- Built two logistic regression models using different features and checked their accuracy.\n",
        "\n",
        "- Used the split-apply-combine feature selection method to understand why one of the models was more accurate than the other.\n",
        "\n",
        "- Built three models with different levels of complexity and use them to discuss overfitting.\n",
        "\n",
        "- Built a multi-class classification model and introduced the confusion matrix metric.\n",
        "\n",
        "- Showed good practice communication skills when reporting your model to others."
      ],
      "metadata": {
        "id": "TxipqrCrZyl6"
      }
    },
    {
      "cell_type": "code",
      "source": [],
      "metadata": {
        "id": "r51M3ywWbFtk"
      },
      "execution_count": null,
      "outputs": []
    }
  ]
}