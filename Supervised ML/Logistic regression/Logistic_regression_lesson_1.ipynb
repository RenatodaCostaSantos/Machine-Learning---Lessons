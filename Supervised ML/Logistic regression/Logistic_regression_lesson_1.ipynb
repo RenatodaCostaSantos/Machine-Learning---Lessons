{
  "nbformat": 4,
  "nbformat_minor": 0,
  "metadata": {
    "colab": {
      "provenance": [],
      "authorship_tag": "ABX9TyN4t0B5YuTigryOugr5ajlU",
      "include_colab_link": true
    },
    "kernelspec": {
      "name": "python3",
      "display_name": "Python 3"
    },
    "language_info": {
      "name": "python"
    }
  },
  "cells": [
    {
      "cell_type": "markdown",
      "metadata": {
        "id": "view-in-github",
        "colab_type": "text"
      },
      "source": [
        "<a href=\"https://colab.research.google.com/github/RenatodaCostaSantos/Machine-Learning---Lessons/blob/main/Supervised%20ML/Logistic%20regression/Logistic_regression_lesson_1.ipynb\" target=\"_parent\"><img src=\"https://colab.research.google.com/assets/colab-badge.svg\" alt=\"Open In Colab\"/></a>"
      ]
    },
    {
      "cell_type": "markdown",
      "source": [
        "# Logistic regression\n",
        "\n",
        "A popular model used in classification problems is given by the logistic regression, it is the sister of linear regression, but for classification purposes (yes or no type of answers).\n",
        "\n",
        "In this lesson, we will learn how it works under the hood and make explicit the mathematical machinery behind it. To clarify the abstract concepts, we will use the UCI Machine Learning Repository's Automobile [dataset](https://archive.ics.uci.edu/ml/datasets/Automobile) and test it in practice.\n",
        "\n",
        "Let's start by loading the dataset:"
      ],
      "metadata": {
        "id": "IoAGLy6TfDCo"
      }
    },
    {
      "cell_type": "code",
      "source": [
        "import pandas as pd\n",
        "import numpy as np\n",
        "from sklearn.model_selection import train_test_split\n",
        "import matplotlib.pyplot as plt\n",
        "import seaborn as sns\n",
        "\n",
        "from google.colab import drive\n",
        "\n",
        "drive.mount('/content/drive')"
      ],
      "metadata": {
        "id": "ftQZDba9hfUM",
        "colab": {
          "base_uri": "https://localhost:8080/"
        },
        "outputId": "d1f674cf-a636-463e-d826-d47d399c53cc"
      },
      "execution_count": null,
      "outputs": [
        {
          "output_type": "stream",
          "name": "stdout",
          "text": [
            "Mounted at /content/drive\n"
          ]
        }
      ]
    },
    {
      "cell_type": "code",
      "source": [
        "auto = pd.read_csv('/content/drive/MyDrive/Colab Notebooks/automobiles.csv')"
      ],
      "metadata": {
        "id": "JxjN4q0uhuLb"
      },
      "execution_count": null,
      "outputs": []
    },
    {
      "cell_type": "code",
      "source": [
        "auto.head()"
      ],
      "metadata": {
        "id": "mc9aLO_yibjP",
        "colab": {
          "base_uri": "https://localhost:8080/",
          "height": 300
        },
        "outputId": "300a4666-5c27-45b0-9855-16a273c6b17f"
      },
      "execution_count": null,
      "outputs": [
        {
          "output_type": "execute_result",
          "data": {
            "text/plain": [
              "   symboling  normalized_losses  make fuel_type aspiration num_of_doors  \\\n",
              "0          2                164  audi       gas        std         four   \n",
              "1          2                164  audi       gas        std         four   \n",
              "2          1                158  audi       gas        std         four   \n",
              "3          1                158  audi       gas      turbo         four   \n",
              "4          2                192   bmw       gas        std          two   \n",
              "\n",
              "  body_style drive_wheels engine_location  wheel_base  ...  engine_size  \\\n",
              "0      sedan          fwd           front        99.8  ...          109   \n",
              "1      sedan          4wd           front        99.4  ...          136   \n",
              "2      sedan          fwd           front       105.8  ...          136   \n",
              "3      sedan          fwd           front       105.8  ...          131   \n",
              "4      sedan          rwd           front       101.2  ...          108   \n",
              "\n",
              "   fuel_system  bore  stroke compression_ratio horsepower  peak_rpm city_mpg  \\\n",
              "0         mpfi  3.19     3.4              10.0        102      5500       24   \n",
              "1         mpfi  3.19     3.4               8.0        115      5500       18   \n",
              "2         mpfi  3.19     3.4               8.5        110      5500       19   \n",
              "3         mpfi  3.13     3.4               8.3        140      5500       17   \n",
              "4         mpfi  3.50     2.8               8.8        101      5800       23   \n",
              "\n",
              "   highway_mpg  price  \n",
              "0           30  13950  \n",
              "1           22  17450  \n",
              "2           25  17710  \n",
              "3           20  23875  \n",
              "4           29  16430  \n",
              "\n",
              "[5 rows x 26 columns]"
            ],
            "text/html": [
              "\n",
              "  <div id=\"df-424fca42-82c8-4426-a915-6a48b299990b\">\n",
              "    <div class=\"colab-df-container\">\n",
              "      <div>\n",
              "<style scoped>\n",
              "    .dataframe tbody tr th:only-of-type {\n",
              "        vertical-align: middle;\n",
              "    }\n",
              "\n",
              "    .dataframe tbody tr th {\n",
              "        vertical-align: top;\n",
              "    }\n",
              "\n",
              "    .dataframe thead th {\n",
              "        text-align: right;\n",
              "    }\n",
              "</style>\n",
              "<table border=\"1\" class=\"dataframe\">\n",
              "  <thead>\n",
              "    <tr style=\"text-align: right;\">\n",
              "      <th></th>\n",
              "      <th>symboling</th>\n",
              "      <th>normalized_losses</th>\n",
              "      <th>make</th>\n",
              "      <th>fuel_type</th>\n",
              "      <th>aspiration</th>\n",
              "      <th>num_of_doors</th>\n",
              "      <th>body_style</th>\n",
              "      <th>drive_wheels</th>\n",
              "      <th>engine_location</th>\n",
              "      <th>wheel_base</th>\n",
              "      <th>...</th>\n",
              "      <th>engine_size</th>\n",
              "      <th>fuel_system</th>\n",
              "      <th>bore</th>\n",
              "      <th>stroke</th>\n",
              "      <th>compression_ratio</th>\n",
              "      <th>horsepower</th>\n",
              "      <th>peak_rpm</th>\n",
              "      <th>city_mpg</th>\n",
              "      <th>highway_mpg</th>\n",
              "      <th>price</th>\n",
              "    </tr>\n",
              "  </thead>\n",
              "  <tbody>\n",
              "    <tr>\n",
              "      <th>0</th>\n",
              "      <td>2</td>\n",
              "      <td>164</td>\n",
              "      <td>audi</td>\n",
              "      <td>gas</td>\n",
              "      <td>std</td>\n",
              "      <td>four</td>\n",
              "      <td>sedan</td>\n",
              "      <td>fwd</td>\n",
              "      <td>front</td>\n",
              "      <td>99.8</td>\n",
              "      <td>...</td>\n",
              "      <td>109</td>\n",
              "      <td>mpfi</td>\n",
              "      <td>3.19</td>\n",
              "      <td>3.4</td>\n",
              "      <td>10.0</td>\n",
              "      <td>102</td>\n",
              "      <td>5500</td>\n",
              "      <td>24</td>\n",
              "      <td>30</td>\n",
              "      <td>13950</td>\n",
              "    </tr>\n",
              "    <tr>\n",
              "      <th>1</th>\n",
              "      <td>2</td>\n",
              "      <td>164</td>\n",
              "      <td>audi</td>\n",
              "      <td>gas</td>\n",
              "      <td>std</td>\n",
              "      <td>four</td>\n",
              "      <td>sedan</td>\n",
              "      <td>4wd</td>\n",
              "      <td>front</td>\n",
              "      <td>99.4</td>\n",
              "      <td>...</td>\n",
              "      <td>136</td>\n",
              "      <td>mpfi</td>\n",
              "      <td>3.19</td>\n",
              "      <td>3.4</td>\n",
              "      <td>8.0</td>\n",
              "      <td>115</td>\n",
              "      <td>5500</td>\n",
              "      <td>18</td>\n",
              "      <td>22</td>\n",
              "      <td>17450</td>\n",
              "    </tr>\n",
              "    <tr>\n",
              "      <th>2</th>\n",
              "      <td>1</td>\n",
              "      <td>158</td>\n",
              "      <td>audi</td>\n",
              "      <td>gas</td>\n",
              "      <td>std</td>\n",
              "      <td>four</td>\n",
              "      <td>sedan</td>\n",
              "      <td>fwd</td>\n",
              "      <td>front</td>\n",
              "      <td>105.8</td>\n",
              "      <td>...</td>\n",
              "      <td>136</td>\n",
              "      <td>mpfi</td>\n",
              "      <td>3.19</td>\n",
              "      <td>3.4</td>\n",
              "      <td>8.5</td>\n",
              "      <td>110</td>\n",
              "      <td>5500</td>\n",
              "      <td>19</td>\n",
              "      <td>25</td>\n",
              "      <td>17710</td>\n",
              "    </tr>\n",
              "    <tr>\n",
              "      <th>3</th>\n",
              "      <td>1</td>\n",
              "      <td>158</td>\n",
              "      <td>audi</td>\n",
              "      <td>gas</td>\n",
              "      <td>turbo</td>\n",
              "      <td>four</td>\n",
              "      <td>sedan</td>\n",
              "      <td>fwd</td>\n",
              "      <td>front</td>\n",
              "      <td>105.8</td>\n",
              "      <td>...</td>\n",
              "      <td>131</td>\n",
              "      <td>mpfi</td>\n",
              "      <td>3.13</td>\n",
              "      <td>3.4</td>\n",
              "      <td>8.3</td>\n",
              "      <td>140</td>\n",
              "      <td>5500</td>\n",
              "      <td>17</td>\n",
              "      <td>20</td>\n",
              "      <td>23875</td>\n",
              "    </tr>\n",
              "    <tr>\n",
              "      <th>4</th>\n",
              "      <td>2</td>\n",
              "      <td>192</td>\n",
              "      <td>bmw</td>\n",
              "      <td>gas</td>\n",
              "      <td>std</td>\n",
              "      <td>two</td>\n",
              "      <td>sedan</td>\n",
              "      <td>rwd</td>\n",
              "      <td>front</td>\n",
              "      <td>101.2</td>\n",
              "      <td>...</td>\n",
              "      <td>108</td>\n",
              "      <td>mpfi</td>\n",
              "      <td>3.50</td>\n",
              "      <td>2.8</td>\n",
              "      <td>8.8</td>\n",
              "      <td>101</td>\n",
              "      <td>5800</td>\n",
              "      <td>23</td>\n",
              "      <td>29</td>\n",
              "      <td>16430</td>\n",
              "    </tr>\n",
              "  </tbody>\n",
              "</table>\n",
              "<p>5 rows × 26 columns</p>\n",
              "</div>\n",
              "      <button class=\"colab-df-convert\" onclick=\"convertToInteractive('df-424fca42-82c8-4426-a915-6a48b299990b')\"\n",
              "              title=\"Convert this dataframe to an interactive table.\"\n",
              "              style=\"display:none;\">\n",
              "        \n",
              "  <svg xmlns=\"http://www.w3.org/2000/svg\" height=\"24px\"viewBox=\"0 0 24 24\"\n",
              "       width=\"24px\">\n",
              "    <path d=\"M0 0h24v24H0V0z\" fill=\"none\"/>\n",
              "    <path d=\"M18.56 5.44l.94 2.06.94-2.06 2.06-.94-2.06-.94-.94-2.06-.94 2.06-2.06.94zm-11 1L8.5 8.5l.94-2.06 2.06-.94-2.06-.94L8.5 2.5l-.94 2.06-2.06.94zm10 10l.94 2.06.94-2.06 2.06-.94-2.06-.94-.94-2.06-.94 2.06-2.06.94z\"/><path d=\"M17.41 7.96l-1.37-1.37c-.4-.4-.92-.59-1.43-.59-.52 0-1.04.2-1.43.59L10.3 9.45l-7.72 7.72c-.78.78-.78 2.05 0 2.83L4 21.41c.39.39.9.59 1.41.59.51 0 1.02-.2 1.41-.59l7.78-7.78 2.81-2.81c.8-.78.8-2.07 0-2.86zM5.41 20L4 18.59l7.72-7.72 1.47 1.35L5.41 20z\"/>\n",
              "  </svg>\n",
              "      </button>\n",
              "      \n",
              "  <style>\n",
              "    .colab-df-container {\n",
              "      display:flex;\n",
              "      flex-wrap:wrap;\n",
              "      gap: 12px;\n",
              "    }\n",
              "\n",
              "    .colab-df-convert {\n",
              "      background-color: #E8F0FE;\n",
              "      border: none;\n",
              "      border-radius: 50%;\n",
              "      cursor: pointer;\n",
              "      display: none;\n",
              "      fill: #1967D2;\n",
              "      height: 32px;\n",
              "      padding: 0 0 0 0;\n",
              "      width: 32px;\n",
              "    }\n",
              "\n",
              "    .colab-df-convert:hover {\n",
              "      background-color: #E2EBFA;\n",
              "      box-shadow: 0px 1px 2px rgba(60, 64, 67, 0.3), 0px 1px 3px 1px rgba(60, 64, 67, 0.15);\n",
              "      fill: #174EA6;\n",
              "    }\n",
              "\n",
              "    [theme=dark] .colab-df-convert {\n",
              "      background-color: #3B4455;\n",
              "      fill: #D2E3FC;\n",
              "    }\n",
              "\n",
              "    [theme=dark] .colab-df-convert:hover {\n",
              "      background-color: #434B5C;\n",
              "      box-shadow: 0px 1px 3px 1px rgba(0, 0, 0, 0.15);\n",
              "      filter: drop-shadow(0px 1px 2px rgba(0, 0, 0, 0.3));\n",
              "      fill: #FFFFFF;\n",
              "    }\n",
              "  </style>\n",
              "\n",
              "      <script>\n",
              "        const buttonEl =\n",
              "          document.querySelector('#df-424fca42-82c8-4426-a915-6a48b299990b button.colab-df-convert');\n",
              "        buttonEl.style.display =\n",
              "          google.colab.kernel.accessAllowed ? 'block' : 'none';\n",
              "\n",
              "        async function convertToInteractive(key) {\n",
              "          const element = document.querySelector('#df-424fca42-82c8-4426-a915-6a48b299990b');\n",
              "          const dataTable =\n",
              "            await google.colab.kernel.invokeFunction('convertToInteractive',\n",
              "                                                     [key], {});\n",
              "          if (!dataTable) return;\n",
              "\n",
              "          const docLinkHtml = 'Like what you see? Visit the ' +\n",
              "            '<a target=\"_blank\" href=https://colab.research.google.com/notebooks/data_table.ipynb>data table notebook</a>'\n",
              "            + ' to learn more about interactive tables.';\n",
              "          element.innerHTML = '';\n",
              "          dataTable['output_type'] = 'display_data';\n",
              "          await google.colab.output.renderOutput(dataTable, element);\n",
              "          const docLink = document.createElement('div');\n",
              "          docLink.innerHTML = docLinkHtml;\n",
              "          element.appendChild(docLink);\n",
              "        }\n",
              "      </script>\n",
              "    </div>\n",
              "  </div>\n",
              "  "
            ]
          },
          "metadata": {},
          "execution_count": 3
        }
      ]
    },
    {
      "cell_type": "markdown",
      "source": [
        "The data contain 26 features. We will create a binary target variable called 'high price' which will show 1 for cars above $15,000 and 0 otherwise."
      ],
      "metadata": {
        "id": "DGxZCqfLirwR"
      }
    },
    {
      "cell_type": "code",
      "source": [
        "# Create binary target variable\n",
        "auto['high_price'] = auto['high_price'].apply(lambda x:  1 if x > 15000 else 0 )\n",
        "auto.drop('price', axis = 1, inplace = True)"
      ],
      "metadata": {
        "id": "aM4pi19lltn4"
      },
      "execution_count": null,
      "outputs": []
    },
    {
      "cell_type": "code",
      "source": [
        "auto['high_price'].value_counts()"
      ],
      "metadata": {
        "id": "S_lLaLdrpvAb",
        "colab": {
          "base_uri": "https://localhost:8080/"
        },
        "outputId": "d1035899-9c98-408f-a706-a2e72ad903c3"
      },
      "execution_count": null,
      "outputs": [
        {
          "output_type": "execute_result",
          "data": {
            "text/plain": [
              "0    119\n",
              "1     40\n",
              "Name: high_price, dtype: int64"
            ]
          },
          "metadata": {},
          "execution_count": 6
        }
      ]
    },
    {
      "cell_type": "code",
      "source": [
        "auto.info()"
      ],
      "metadata": {
        "id": "V_MW6Cdqi7Iv",
        "colab": {
          "base_uri": "https://localhost:8080/"
        },
        "outputId": "4f7609a8-72fa-4441-fb97-0a8865706768"
      },
      "execution_count": null,
      "outputs": [
        {
          "output_type": "stream",
          "name": "stdout",
          "text": [
            "<class 'pandas.core.frame.DataFrame'>\n",
            "RangeIndex: 159 entries, 0 to 158\n",
            "Data columns (total 26 columns):\n",
            " #   Column             Non-Null Count  Dtype  \n",
            "---  ------             --------------  -----  \n",
            " 0   symboling          159 non-null    int64  \n",
            " 1   normalized_losses  159 non-null    int64  \n",
            " 2   make               159 non-null    object \n",
            " 3   fuel_type          159 non-null    object \n",
            " 4   aspiration         159 non-null    object \n",
            " 5   num_of_doors       159 non-null    object \n",
            " 6   body_style         159 non-null    object \n",
            " 7   drive_wheels       159 non-null    object \n",
            " 8   engine_location    159 non-null    object \n",
            " 9   wheel_base         159 non-null    float64\n",
            " 10  length             159 non-null    float64\n",
            " 11  width              159 non-null    float64\n",
            " 12  height             159 non-null    float64\n",
            " 13  curb_weight        159 non-null    int64  \n",
            " 14  engine_type        159 non-null    object \n",
            " 15  num_of_cylinders   159 non-null    object \n",
            " 16  engine_size        159 non-null    int64  \n",
            " 17  fuel_system        159 non-null    object \n",
            " 18  bore               159 non-null    float64\n",
            " 19  stroke             159 non-null    float64\n",
            " 20  compression_ratio  159 non-null    float64\n",
            " 21  horsepower         159 non-null    int64  \n",
            " 22  peak_rpm           159 non-null    int64  \n",
            " 23  city_mpg           159 non-null    int64  \n",
            " 24  highway_mpg        159 non-null    int64  \n",
            " 25  high_price         159 non-null    int64  \n",
            "dtypes: float64(7), int64(9), object(10)\n",
            "memory usage: 32.4+ KB\n"
          ]
        }
      ]
    },
    {
      "cell_type": "markdown",
      "source": [
        "There are no missing values but many of the features are non-numeric and would need to be transformed for machine learning. Since we will focus on the mathematical concepts rather than model building in this lesson, we will leave it as it is."
      ],
      "metadata": {
        "id": "IydqYISJi9AW"
      }
    },
    {
      "cell_type": "code",
      "source": [
        "# Check statistics\n",
        "auto.describe()"
      ],
      "metadata": {
        "id": "1Sfa6VwrjNW9",
        "colab": {
          "base_uri": "https://localhost:8080/",
          "height": 300
        },
        "outputId": "9b001dfe-f49a-4b12-b2c5-465f187109a3"
      },
      "execution_count": null,
      "outputs": [
        {
          "output_type": "execute_result",
          "data": {
            "text/plain": [
              "        symboling  normalized_losses  wheel_base      length       width  \\\n",
              "count  159.000000         159.000000  159.000000  159.000000  159.000000   \n",
              "mean     0.735849         121.132075   98.264151  172.413836   65.607547   \n",
              "std      1.193086          35.651285    5.167416   11.523177    1.947883   \n",
              "min     -2.000000          65.000000   86.600000  141.100000   60.300000   \n",
              "25%      0.000000          94.000000   94.500000  165.650000   64.000000   \n",
              "50%      1.000000         113.000000   96.900000  172.400000   65.400000   \n",
              "75%      2.000000         148.000000  100.800000  177.800000   66.500000   \n",
              "max      3.000000         256.000000  115.600000  202.600000   71.700000   \n",
              "\n",
              "           height  curb_weight  engine_size        bore      stroke  \\\n",
              "count  159.000000   159.000000   159.000000  159.000000  159.000000   \n",
              "mean    53.899371  2461.138365   119.226415    3.300126    3.236352   \n",
              "std      2.268761   481.941321    30.460791    0.267336    0.294888   \n",
              "min     49.400000  1488.000000    61.000000    2.540000    2.070000   \n",
              "25%     52.250000  2065.500000    97.000000    3.050000    3.105000   \n",
              "50%     54.100000  2340.000000   110.000000    3.270000    3.270000   \n",
              "75%     55.500000  2809.500000   135.000000    3.560000    3.410000   \n",
              "max     59.800000  4066.000000   258.000000    3.940000    4.170000   \n",
              "\n",
              "       compression_ratio  horsepower     peak_rpm    city_mpg  highway_mpg  \\\n",
              "count         159.000000  159.000000   159.000000  159.000000   159.000000   \n",
              "mean           10.161132   95.836478  5113.836478   26.522013    32.081761   \n",
              "std             3.889475   30.718583   465.754864    6.097142     6.459189   \n",
              "min             7.000000   48.000000  4150.000000   15.000000    18.000000   \n",
              "25%             8.700000   69.000000  4800.000000   23.000000    28.000000   \n",
              "50%             9.000000   88.000000  5200.000000   26.000000    32.000000   \n",
              "75%             9.400000  114.000000  5500.000000   31.000000    37.000000   \n",
              "max            23.000000  200.000000  6600.000000   49.000000    54.000000   \n",
              "\n",
              "       high_price  \n",
              "count  159.000000  \n",
              "mean     0.251572  \n",
              "std      0.435288  \n",
              "min      0.000000  \n",
              "25%      0.000000  \n",
              "50%      0.000000  \n",
              "75%      0.500000  \n",
              "max      1.000000  "
            ],
            "text/html": [
              "\n",
              "  <div id=\"df-c9cd49cc-4fbd-44a4-9a73-ebe46cf49560\">\n",
              "    <div class=\"colab-df-container\">\n",
              "      <div>\n",
              "<style scoped>\n",
              "    .dataframe tbody tr th:only-of-type {\n",
              "        vertical-align: middle;\n",
              "    }\n",
              "\n",
              "    .dataframe tbody tr th {\n",
              "        vertical-align: top;\n",
              "    }\n",
              "\n",
              "    .dataframe thead th {\n",
              "        text-align: right;\n",
              "    }\n",
              "</style>\n",
              "<table border=\"1\" class=\"dataframe\">\n",
              "  <thead>\n",
              "    <tr style=\"text-align: right;\">\n",
              "      <th></th>\n",
              "      <th>symboling</th>\n",
              "      <th>normalized_losses</th>\n",
              "      <th>wheel_base</th>\n",
              "      <th>length</th>\n",
              "      <th>width</th>\n",
              "      <th>height</th>\n",
              "      <th>curb_weight</th>\n",
              "      <th>engine_size</th>\n",
              "      <th>bore</th>\n",
              "      <th>stroke</th>\n",
              "      <th>compression_ratio</th>\n",
              "      <th>horsepower</th>\n",
              "      <th>peak_rpm</th>\n",
              "      <th>city_mpg</th>\n",
              "      <th>highway_mpg</th>\n",
              "      <th>high_price</th>\n",
              "    </tr>\n",
              "  </thead>\n",
              "  <tbody>\n",
              "    <tr>\n",
              "      <th>count</th>\n",
              "      <td>159.000000</td>\n",
              "      <td>159.000000</td>\n",
              "      <td>159.000000</td>\n",
              "      <td>159.000000</td>\n",
              "      <td>159.000000</td>\n",
              "      <td>159.000000</td>\n",
              "      <td>159.000000</td>\n",
              "      <td>159.000000</td>\n",
              "      <td>159.000000</td>\n",
              "      <td>159.000000</td>\n",
              "      <td>159.000000</td>\n",
              "      <td>159.000000</td>\n",
              "      <td>159.000000</td>\n",
              "      <td>159.000000</td>\n",
              "      <td>159.000000</td>\n",
              "      <td>159.000000</td>\n",
              "    </tr>\n",
              "    <tr>\n",
              "      <th>mean</th>\n",
              "      <td>0.735849</td>\n",
              "      <td>121.132075</td>\n",
              "      <td>98.264151</td>\n",
              "      <td>172.413836</td>\n",
              "      <td>65.607547</td>\n",
              "      <td>53.899371</td>\n",
              "      <td>2461.138365</td>\n",
              "      <td>119.226415</td>\n",
              "      <td>3.300126</td>\n",
              "      <td>3.236352</td>\n",
              "      <td>10.161132</td>\n",
              "      <td>95.836478</td>\n",
              "      <td>5113.836478</td>\n",
              "      <td>26.522013</td>\n",
              "      <td>32.081761</td>\n",
              "      <td>0.251572</td>\n",
              "    </tr>\n",
              "    <tr>\n",
              "      <th>std</th>\n",
              "      <td>1.193086</td>\n",
              "      <td>35.651285</td>\n",
              "      <td>5.167416</td>\n",
              "      <td>11.523177</td>\n",
              "      <td>1.947883</td>\n",
              "      <td>2.268761</td>\n",
              "      <td>481.941321</td>\n",
              "      <td>30.460791</td>\n",
              "      <td>0.267336</td>\n",
              "      <td>0.294888</td>\n",
              "      <td>3.889475</td>\n",
              "      <td>30.718583</td>\n",
              "      <td>465.754864</td>\n",
              "      <td>6.097142</td>\n",
              "      <td>6.459189</td>\n",
              "      <td>0.435288</td>\n",
              "    </tr>\n",
              "    <tr>\n",
              "      <th>min</th>\n",
              "      <td>-2.000000</td>\n",
              "      <td>65.000000</td>\n",
              "      <td>86.600000</td>\n",
              "      <td>141.100000</td>\n",
              "      <td>60.300000</td>\n",
              "      <td>49.400000</td>\n",
              "      <td>1488.000000</td>\n",
              "      <td>61.000000</td>\n",
              "      <td>2.540000</td>\n",
              "      <td>2.070000</td>\n",
              "      <td>7.000000</td>\n",
              "      <td>48.000000</td>\n",
              "      <td>4150.000000</td>\n",
              "      <td>15.000000</td>\n",
              "      <td>18.000000</td>\n",
              "      <td>0.000000</td>\n",
              "    </tr>\n",
              "    <tr>\n",
              "      <th>25%</th>\n",
              "      <td>0.000000</td>\n",
              "      <td>94.000000</td>\n",
              "      <td>94.500000</td>\n",
              "      <td>165.650000</td>\n",
              "      <td>64.000000</td>\n",
              "      <td>52.250000</td>\n",
              "      <td>2065.500000</td>\n",
              "      <td>97.000000</td>\n",
              "      <td>3.050000</td>\n",
              "      <td>3.105000</td>\n",
              "      <td>8.700000</td>\n",
              "      <td>69.000000</td>\n",
              "      <td>4800.000000</td>\n",
              "      <td>23.000000</td>\n",
              "      <td>28.000000</td>\n",
              "      <td>0.000000</td>\n",
              "    </tr>\n",
              "    <tr>\n",
              "      <th>50%</th>\n",
              "      <td>1.000000</td>\n",
              "      <td>113.000000</td>\n",
              "      <td>96.900000</td>\n",
              "      <td>172.400000</td>\n",
              "      <td>65.400000</td>\n",
              "      <td>54.100000</td>\n",
              "      <td>2340.000000</td>\n",
              "      <td>110.000000</td>\n",
              "      <td>3.270000</td>\n",
              "      <td>3.270000</td>\n",
              "      <td>9.000000</td>\n",
              "      <td>88.000000</td>\n",
              "      <td>5200.000000</td>\n",
              "      <td>26.000000</td>\n",
              "      <td>32.000000</td>\n",
              "      <td>0.000000</td>\n",
              "    </tr>\n",
              "    <tr>\n",
              "      <th>75%</th>\n",
              "      <td>2.000000</td>\n",
              "      <td>148.000000</td>\n",
              "      <td>100.800000</td>\n",
              "      <td>177.800000</td>\n",
              "      <td>66.500000</td>\n",
              "      <td>55.500000</td>\n",
              "      <td>2809.500000</td>\n",
              "      <td>135.000000</td>\n",
              "      <td>3.560000</td>\n",
              "      <td>3.410000</td>\n",
              "      <td>9.400000</td>\n",
              "      <td>114.000000</td>\n",
              "      <td>5500.000000</td>\n",
              "      <td>31.000000</td>\n",
              "      <td>37.000000</td>\n",
              "      <td>0.500000</td>\n",
              "    </tr>\n",
              "    <tr>\n",
              "      <th>max</th>\n",
              "      <td>3.000000</td>\n",
              "      <td>256.000000</td>\n",
              "      <td>115.600000</td>\n",
              "      <td>202.600000</td>\n",
              "      <td>71.700000</td>\n",
              "      <td>59.800000</td>\n",
              "      <td>4066.000000</td>\n",
              "      <td>258.000000</td>\n",
              "      <td>3.940000</td>\n",
              "      <td>4.170000</td>\n",
              "      <td>23.000000</td>\n",
              "      <td>200.000000</td>\n",
              "      <td>6600.000000</td>\n",
              "      <td>49.000000</td>\n",
              "      <td>54.000000</td>\n",
              "      <td>1.000000</td>\n",
              "    </tr>\n",
              "  </tbody>\n",
              "</table>\n",
              "</div>\n",
              "      <button class=\"colab-df-convert\" onclick=\"convertToInteractive('df-c9cd49cc-4fbd-44a4-9a73-ebe46cf49560')\"\n",
              "              title=\"Convert this dataframe to an interactive table.\"\n",
              "              style=\"display:none;\">\n",
              "        \n",
              "  <svg xmlns=\"http://www.w3.org/2000/svg\" height=\"24px\"viewBox=\"0 0 24 24\"\n",
              "       width=\"24px\">\n",
              "    <path d=\"M0 0h24v24H0V0z\" fill=\"none\"/>\n",
              "    <path d=\"M18.56 5.44l.94 2.06.94-2.06 2.06-.94-2.06-.94-.94-2.06-.94 2.06-2.06.94zm-11 1L8.5 8.5l.94-2.06 2.06-.94-2.06-.94L8.5 2.5l-.94 2.06-2.06.94zm10 10l.94 2.06.94-2.06 2.06-.94-2.06-.94-.94-2.06-.94 2.06-2.06.94z\"/><path d=\"M17.41 7.96l-1.37-1.37c-.4-.4-.92-.59-1.43-.59-.52 0-1.04.2-1.43.59L10.3 9.45l-7.72 7.72c-.78.78-.78 2.05 0 2.83L4 21.41c.39.39.9.59 1.41.59.51 0 1.02-.2 1.41-.59l7.78-7.78 2.81-2.81c.8-.78.8-2.07 0-2.86zM5.41 20L4 18.59l7.72-7.72 1.47 1.35L5.41 20z\"/>\n",
              "  </svg>\n",
              "      </button>\n",
              "      \n",
              "  <style>\n",
              "    .colab-df-container {\n",
              "      display:flex;\n",
              "      flex-wrap:wrap;\n",
              "      gap: 12px;\n",
              "    }\n",
              "\n",
              "    .colab-df-convert {\n",
              "      background-color: #E8F0FE;\n",
              "      border: none;\n",
              "      border-radius: 50%;\n",
              "      cursor: pointer;\n",
              "      display: none;\n",
              "      fill: #1967D2;\n",
              "      height: 32px;\n",
              "      padding: 0 0 0 0;\n",
              "      width: 32px;\n",
              "    }\n",
              "\n",
              "    .colab-df-convert:hover {\n",
              "      background-color: #E2EBFA;\n",
              "      box-shadow: 0px 1px 2px rgba(60, 64, 67, 0.3), 0px 1px 3px 1px rgba(60, 64, 67, 0.15);\n",
              "      fill: #174EA6;\n",
              "    }\n",
              "\n",
              "    [theme=dark] .colab-df-convert {\n",
              "      background-color: #3B4455;\n",
              "      fill: #D2E3FC;\n",
              "    }\n",
              "\n",
              "    [theme=dark] .colab-df-convert:hover {\n",
              "      background-color: #434B5C;\n",
              "      box-shadow: 0px 1px 3px 1px rgba(0, 0, 0, 0.15);\n",
              "      filter: drop-shadow(0px 1px 2px rgba(0, 0, 0, 0.3));\n",
              "      fill: #FFFFFF;\n",
              "    }\n",
              "  </style>\n",
              "\n",
              "      <script>\n",
              "        const buttonEl =\n",
              "          document.querySelector('#df-c9cd49cc-4fbd-44a4-9a73-ebe46cf49560 button.colab-df-convert');\n",
              "        buttonEl.style.display =\n",
              "          google.colab.kernel.accessAllowed ? 'block' : 'none';\n",
              "\n",
              "        async function convertToInteractive(key) {\n",
              "          const element = document.querySelector('#df-c9cd49cc-4fbd-44a4-9a73-ebe46cf49560');\n",
              "          const dataTable =\n",
              "            await google.colab.kernel.invokeFunction('convertToInteractive',\n",
              "                                                     [key], {});\n",
              "          if (!dataTable) return;\n",
              "\n",
              "          const docLinkHtml = 'Like what you see? Visit the ' +\n",
              "            '<a target=\"_blank\" href=https://colab.research.google.com/notebooks/data_table.ipynb>data table notebook</a>'\n",
              "            + ' to learn more about interactive tables.';\n",
              "          element.innerHTML = '';\n",
              "          dataTable['output_type'] = 'display_data';\n",
              "          await google.colab.output.renderOutput(dataTable, element);\n",
              "          const docLink = document.createElement('div');\n",
              "          docLink.innerHTML = docLinkHtml;\n",
              "          element.appendChild(docLink);\n",
              "        }\n",
              "      </script>\n",
              "    </div>\n",
              "  </div>\n",
              "  "
            ]
          },
          "metadata": {},
          "execution_count": 8
        }
      ]
    },
    {
      "cell_type": "markdown",
      "source": [
        "The data seems clean enough for our purposes in this lesson. \n",
        "\n",
        "## Building a classifier"
      ],
      "metadata": {
        "id": "ShDhyZJnjkx7"
      }
    },
    {
      "cell_type": "code",
      "source": [
        "# Split the data into features and target\n",
        "X = auto.drop('high_price', axis = 1)\n",
        "y = auto['high_price']"
      ],
      "metadata": {
        "id": "gMyKLbmKkJtx"
      },
      "execution_count": null,
      "outputs": []
    },
    {
      "cell_type": "code",
      "source": [
        "# Split train and test sets\n",
        "X_train, X_test, y_train, y_test = train_test_split(X, y, test_size = 0.2, random_state = 731, stratify = y)"
      ],
      "metadata": {
        "id": "STsKzeBBnrpk"
      },
      "execution_count": null,
      "outputs": []
    },
    {
      "cell_type": "code",
      "source": [
        "y_train.value_counts()"
      ],
      "metadata": {
        "id": "HzfAZwskn-6s",
        "colab": {
          "base_uri": "https://localhost:8080/"
        },
        "outputId": "2ffbaf6c-134a-4a9a-d62b-1ccda4164ae1"
      },
      "execution_count": null,
      "outputs": [
        {
          "output_type": "execute_result",
          "data": {
            "text/plain": [
              "0    95\n",
              "1    32\n",
              "Name: high_price, dtype: int64"
            ]
          },
          "metadata": {},
          "execution_count": 11
        }
      ]
    },
    {
      "cell_type": "code",
      "source": [
        "y_test.value_counts()"
      ],
      "metadata": {
        "id": "KoV1d1PxpPfU",
        "colab": {
          "base_uri": "https://localhost:8080/"
        },
        "outputId": "d5ce8abf-d8f7-47c5-981c-43fa5f37e238"
      },
      "execution_count": null,
      "outputs": [
        {
          "output_type": "execute_result",
          "data": {
            "text/plain": [
              "0    24\n",
              "1     8\n",
              "Name: high_price, dtype: int64"
            ]
          },
          "metadata": {},
          "execution_count": 12
        }
      ]
    },
    {
      "cell_type": "markdown",
      "source": [
        "By turning on the stratify on the target variable of train_test_split, we keep the same proportions on the train and test sets. That helps to reduce bias when building a model by keeping the samples (train and test) as good representatives of the population ( train + test in this case).\n",
        "\n",
        "## Understanding the logistic regression\n",
        "\n",
        "The logistic regression is a model build by the following mathematical equation:\n",
        "$$\n",
        "EY = h(Z)\n",
        "$$\n",
        "where,\n",
        "$$\n",
        "Z = \\alpha + \\beta X.\n",
        "$$\n",
        "We need a function $h$ to connect the independent variable $X$ to the predictors $EY$ (predictors are the predictions for the real outcomes $y$).This is a way to map a classification problem, which is binary, into a linear regression kind of problem, which deals with real numbers (keep reading to see how it is done).\n",
        "\n",
        "To illustrate this point, let's build a visualization. Let's check how the horsepower of an engine is related to the target variable high_price:"
      ],
      "metadata": {
        "id": "WjBGvieOpbSZ"
      }
    },
    {
      "cell_type": "code",
      "source": [
        "sns.scatterplot(data = auto, x = 'horsepower', y = 'high_price')\n",
        "plt.show()"
      ],
      "metadata": {
        "id": "8hRh766YrNk5",
        "colab": {
          "base_uri": "https://localhost:8080/",
          "height": 279
        },
        "outputId": "e115ba26-e2b8-409e-ef75-00f9a24c0223"
      },
      "execution_count": null,
      "outputs": [
        {
          "output_type": "display_data",
          "data": {
            "text/plain": [
              "<Figure size 432x288 with 1 Axes>"
            ],
            "image/png": "[encoded data removed]"
          },
          "metadata": {
            "needs_background": "light"
          }
        }
      ]
    },
    {
      "cell_type": "markdown",
      "source": [
        "There is no clear linear relation here, but the intuition to what we see in the graph above is similar to a linear relationship between two variables, i.e., cars with more powerful engines are *more likely* to be more expensive.\n",
        "\n",
        "The simplicity of a linear regression model relies on its **assumption** that there is a linear relationship between the features and the target variable. The predictions for this model are made by fitting the line that minimize the distance between all data points of a sample to this hypothetical line. Assuming a linear relationship for the data above would be naive, since there is no evident linear relationship between both variables (despite the intuition we presented above).\n",
        "\n",
        "The logistic regression model follows a similar idea to the linear regression model, but it assumes a more complicated function instead. That's the function $h$, called **logistic** or sigmoid function. Its definition is given by:\n",
        "$$\n",
        "h(X) = \\frac{1}{1 + e^{-(\\alpha + \\beta X)}}.\n",
        "$$\n",
        "\n",
        "Let's visualize the sigmoid curve on the plot above, by choosing some random values for the parameters $\\alpha$ and $\\beta$:\n"
      ],
      "metadata": {
        "id": "lm3cSZwDuHF1"
      }
    },
    {
      "cell_type": "code",
      "source": [
        "# Defining variables to visualize how the logistic function acts on the data\n",
        "Z = -7 + 0.05*auto['horsepower']\n",
        "hZ = 1/(1+np.exp(-Z))\n",
        "# Save EY in a column for the horsepower\n",
        "auto['EY_horsepower'] =  1/(1+np.exp(-(-7 + 0.05*auto['horsepower']))) "
      ],
      "metadata": {
        "id": "7cWZyMe5voc6"
      },
      "execution_count": null,
      "outputs": []
    },
    {
      "cell_type": "code",
      "source": [
        "sns.scatterplot(data = auto, x = Z, y = hZ)\n",
        "plt.ylabel('EY')\n",
        "plt.show()"
      ],
      "metadata": {
        "id": "z39o5QezyTKD",
        "colab": {
          "base_uri": "https://localhost:8080/",
          "height": 279
        },
        "outputId": "f9244a4f-7583-4395-9015-ecdeedbc5c0e"
      },
      "execution_count": null,
      "outputs": [
        {
          "output_type": "display_data",
          "data": {
            "text/plain": [
              "<Figure size 432x288 with 1 Axes>"
            ],
            "image/png": "[encoded data removed]"
          },
          "metadata": {
            "needs_background": "light"
          }
        }
      ]
    },
    {
      "cell_type": "markdown",
      "source": [
        "Note that, given some feature of the dataset, the logistic function returns a value $EY$ between 0 and 1. The target variable values $y$ are either 0 or 1, but not something in between. The interpretation given to the result of the logistic transformation is the probability of obtaining a positive value for the target."
      ],
      "metadata": {
        "id": "rrrz1loPOVWd"
      }
    },
    {
      "cell_type": "markdown",
      "source": [
        "## Probability, odds and log-odds\n",
        "\n",
        "So we know how to calculate the predictors $EY$ using the non-trivial logistic function once we have the independent variables $X$. However, in order to interpret the logistic regression model more clearly it is useful to find the inverse problem, *i.e.*, how the predictors influence the variables $X$. In other words, we want to find a function:\n",
        "$$\n",
        "X = f(EY).\n",
        "$$\n",
        "\n",
        "Let's do the maths starting with the logistic regression model:\n",
        "$$ \n",
        "EY = h(Z),\\\\\n",
        "Z = \\alpha + \\beta*X\n",
        "$$\n",
        "by taking the inverse of the $h$ function we obtain:\n",
        "$$\n",
        "h^{-1}(EY) = Z.\n",
        "$$\n",
        "Since we know that,\n",
        "$$\n",
        "EY = h(Z) = \\frac{1}{1 + e^{-Z}}\\\\\n",
        "1 + e^{-Z} = \\frac{1}{EY}\\\\\n",
        "Z = log(\\frac{EY}{1-EY}).\n",
        "$$\n",
        "Thus,\n",
        "$$\n",
        "log(\\frac{EY}{1-EY}) = \\alpha + \\beta*X.\n",
        "$$\n",
        "\n",
        "Compare it to the linear regression model\n",
        "$$\n",
        "Y = \\alpha + \\beta*X.\n",
        "$$\n",
        "\n",
        "In the linear regression model the coefficients $\\alpha$ and $\\beta$ are chosen to minimize the distance from the line to all dataset points, that is not the same in the logistic regression model.\n",
        "\n",
        "The difference is that the linear relation is not between the features and the outcomes, but an explicitly function of the probability of obtaining a positive result for the target. This function is very important in machine learning and is named **logit function**. It tells how the predictors $EY$ influence the features (just isolate $X$ on the last equation and you have $X$ in function of $EY$). Because it 'links' a function of the predictor with a linear model, it is commonly said that the logit function is the link function for the logistic regression model.\n",
        "\n",
        "As we saw above, $EY$ returns a value between 0 and 1. It is interpreted as the probability of obtaining the value 1 given a feature of of a dataset. In our example, it gives the probability of a value of a car to be above $15,000.\n",
        "\n",
        "Since it is easier to work with linear models, it is tempting **not** to use the $EY$ values and the sigmoid function but the linear model that is linked to the logit function. The argument of the logit function also has a well known meaning, it is called the odds. In mathematical terms, the odds are defined by:\n",
        "$$\n",
        "odds = \\frac{EY}{1-EY},\n",
        "$$\n",
        "It measures the likelyhood of obtaining a particular outcome. Instead of varying in the interval [0,1], it varies from [0, $\\infty$]. \n",
        "\n",
        "Another name for the logit function is then log-odds. It is a function varying from [-$\\infty$, $\\infty$] and since it is connect to the linear model, we know that the straight line on the linear version of the logistic regression also varies from -$\\infty$ to $\\infty$.\n",
        "\n",
        "Let's visualize that afirmation in the auto dataset:\n",
        "\n"
      ],
      "metadata": {
        "id": "uEMhJ1luyigd"
      }
    },
    {
      "cell_type": "code",
      "source": [
        "# Create a log-odds column\n",
        "auto['log-odds_horsepower'] = np.log(auto['EY_horsepower']/(1-auto['EY_horsepower']))\n",
        "\n",
        "# Plot log-odds versus horsepower (what kind of relation would you expect to see?)\n",
        "sns.scatterplot(data = auto, x = 'horsepower', y = 'log-odds_horsepower').set(title = 'Linearization of the sigmoid curve')\n",
        "plt.show()\n"
      ],
      "metadata": {
        "id": "bP8FL2vmPXAh",
        "colab": {
          "base_uri": "https://localhost:8080/",
          "height": 295
        },
        "outputId": "59f86d18-3b09-428d-d9af-4e1b564228ce"
      },
      "execution_count": null,
      "outputs": [
        {
          "output_type": "display_data",
          "data": {
            "text/plain": [
              "<Figure size 432x288 with 1 Axes>"
            ],
            "image/png": "[encoded data removed]"
          },
          "metadata": {
            "needs_background": "light"
          }
        }
      ]
    },
    {
      "cell_type": "markdown",
      "source": [
        "As expected, the relationship between the horsepower and the log-odds of the this feature is linear.\n",
        "\n",
        "The question now is, what is the meaning of the coefficients of the linear relationship and how do we calculate the best set of parameters?"
      ],
      "metadata": {
        "id": "l3rnz2ZiwrUB"
      }
    },
    {
      "cell_type": "markdown",
      "source": [
        "\n",
        "## Logistic cost function\n",
        "\n",
        "We  will focus on the second question in this lesson: How do we choose the best coefficients for a logistic regression model?\n",
        "\n",
        "First, we must say there is no closed form for the solution of this problem. This means there is no mathematical formula that we can always use to calculate the coefficients.\n",
        "\n",
        "For the linear regression, one can minimize the sum of the squared errors which leads to a closed form mathematical equation for the coefficients:\n",
        "$$\n",
        "\\beta_{linreg} = (X^TX)^{-1}X^TY \n",
        "$$\n",
        "There is no such expression for the logistic regression.\n",
        "\n",
        "The way around it is to use a log-loss cost function. For a binary classification problem it is defined by:\n",
        "$$\n",
        "L_{logreg}(\\alpha,\\beta) = \n",
        "\\begin{cases}\n",
        "  -\\log(h(\\alpha + \\beta*X)), \\hspace{1cm} \\text{if} \\hspace{1cm}  y= 1, \\\\\n",
        " -\\log(1 - h(\\alpha + \\beta*X)), \\hspace{1cm} \\text{if} \\hspace{1cm}  y= 0.\n",
        "\\end{cases}\n",
        "$$\n",
        "Since $EY = h(X)$ we know that the argument of the logarithm functions above varies from [0,1]. This implies the log of the argument varies from $[\\infty, 0]$ for $y = 1$, *i.e.*, the loss tends to infinity when the probability of predicting 1 is low for a car that is known to have a high price  (in other words, loss goes to infinity when probability of predicting 1 goes to 0 when y = 1). That is just a way to let us know the model is doing badly. On the contrary, the loss function goes to zero when the probability of predicting 1 is high for a car that is known to have a high. \n",
        "\n",
        "Same idea when y = 0. However, the values vary from $[0,\\infty]$, i.e., the loss tends to zero when the probability of predicting 1 is low for a car that is known to have low price. The model is doing well in this case. On the other side, the loss tend to infinity when the probability of predicting 1 is high for a car that is known to have a low price. The model is doing badly in this case.\n",
        "\n",
        "\n",
        "Let's visualize this functions using the EY_horsepower feature we created above:"
      ],
      "metadata": {
        "id": "ZXuud_llfT4o"
      }
    },
    {
      "cell_type": "code",
      "source": [
        "# Creating variable for the log-loss cost functions\n",
        "auto['L'] = 0\n",
        "auto.loc[auto['high_price'] == 0,  'L'] = -np.log(1 - auto['EY_horsepower'])\n",
        "auto.loc[auto['high_price'] == 1, 'L'] = -np.log(auto['EY_horsepower'])"
      ],
      "metadata": {
        "id": "-YwiWL7R3xI2"
      },
      "execution_count": null,
      "outputs": []
    },
    {
      "cell_type": "code",
      "source": [
        "# visualizing log-loss cost functions for a binary target \n",
        "sns.scatterplot(data = auto, x = 'EY_horsepower', y = 'L')\n",
        "plt.show()"
      ],
      "metadata": {
        "colab": {
          "base_uri": "https://localhost:8080/",
          "height": 280
        },
        "id": "gjzvL6Ul6JRP",
        "outputId": "a8c895a0-20c9-4f02-d326-a7f19d1f5ef6"
      },
      "execution_count": null,
      "outputs": [
        {
          "output_type": "display_data",
          "data": {
            "text/plain": [
              "<Figure size 432x288 with 1 Axes>"
            ],
            "image/png": "[encoded data removed]"
          },
          "metadata": {
            "needs_background": "light"
          }
        }
      ]
    },
    {
      "cell_type": "markdown",
      "source": [
        "We can see the two behaviors described above. A monotonically increasing function when $y = 0$ and a monotonically decreasing function when $y= 1$. The model is doing well for some of the data and badly for others. But how do we select the best model?\n",
        "\n",
        "## Gradient descent\n",
        "\n",
        "The rigorous mathematical calculation to find the optimal model is done by using gradient descent. Let's do a quick reminder of how it works.\n",
        "\n",
        "Suppose we want to find the minimum value $x = x_0$ for a function $f(x)$. The way linear gradient descent approach this problem is to start with a random choice for the initial value of the argument, $x=x_1$, and iterativaly update it through the following equation:\n",
        "$$\n",
        "\\begin{aligned}\n",
        "x_n = x_{n-1} -  \\vec{\\lambda} \\cdot \\nabla  f(x_{n-1}).\n",
        "\\end{aligned}\n",
        "$$\n",
        "Here $x_n$ is the next value, $\\vec{\\lambda}$ is called the learning ratio and $\\nabla f(x_{n-1})$ is the gradient operator acting on the function at $x_{n-1}$.\n",
        "\n",
        "A few important comments:\n",
        "\n",
        "- Choosing the learning ratio wisely is important. If it is too small, the algorithm can reach the maximum amount of steps without finding the minimum. If it is too big, it can bypass the minimum and never get close to it.\n",
        "\n",
        "- The minus sign represents the fact that we want to find the minimum, so the  steps are towards a smaller value of $x$. To find the maximum of a function one would just change it to a plus sign.\n",
        "\n",
        "- The gradient finds a direction at the function's hypersurface where it grows more quickly. By subtracting its value (multiplied by the learning rate) we are making sure we are trying to approach the minimum more quickly.\n",
        "\n",
        "That's how linear GD generally works. A more detailed explanation can be found [here](https://towardsdatascience.com/gradient-descent-algorithm-a-deep-dive-cf04e8115f21).\n",
        "\n",
        "## Grandient descent and the loss function\n",
        "\n",
        "The mean of the total log-loss function is given by:\n",
        "$$\n",
        "L^{avg}_{logreg}(\\alpha, \\beta) = \\frac{1}{n}\\bigg[\\sum_{i=1}^{n}\\big(- y_i*\\log(h(\\alpha + \\beta X_i)) - (1-y_i)*\\log(1 - h(\\alpha + \\beta X_i))\\big)\\bigg],\n",
        "$$\n",
        "where $i$ runs over every single observation. It is easy to see that it recovers the two different expressions given a value for $y$. This is the function we want to minimize in order to obtain the best values for the coefficients $\\alpha$ and $\\beta$.\n",
        "\n",
        "Comment:\n",
        "\n",
        "- Every single observation $(X_i,y_i)$ leads to a single loss **function** of the parameters $(\\alpha,\\beta)$. Minimizing one function would mean minimizing the loss for only one observation, however, we want the best **model** so we need to find a way to include all possible observations and find the values of the parameters $\\alpha$ and $\\beta$ that better represents all observations. That's why one chooses the average of the total loss here. \n",
        "\n",
        "Since \n",
        "$$\n",
        "\\nabla L(\\alpha, \\beta) = \\frac{\\partial L}{\\partial \\alpha} \\hat{\\alpha} +\\frac{\\partial L}{\\partial \\beta} \\hat{\\beta},\n",
        "$$\n",
        "we start by calculating the partial derivatives for the log-loss function:\n",
        "$$\n",
        "\\begin{aligned}\n",
        "\\frac{\\partial L}{\\partial \\alpha} &= \\frac{1}{n}\\bigg( \\sum_{i=1}^{n} \\bigg[y_i \\frac{1}{h(X_i)} + (1-y_i) \\frac{1}{(1 - h(X_i))}\\bigg]\\frac{\\partial h}{\\partial \\alpha} \\bigg)&\\\\\n",
        "&= \\frac{1}{n}\\bigg( \\sum_{i=1}^{n} \\bigg[\\frac{y_i(1 - h(X_i)) - (1- y_i)h(X_i) }{h(X_i)(1 - h(X_i))} \\bigg]\\frac{\\partial h}{\\partial \\alpha} \\bigg)&\\\\\n",
        " &= \\frac{1}{n}\\bigg( \\sum_{i=1}^{n} \\bigg[\\frac{h(X_i) - y_i  }{h(X_i)(1 - h(X_i))} \\bigg]\\frac{\\partial h}{\\partial \\alpha}\\bigg)&.\n",
        "\\end{aligned}\n",
        "$$\n",
        "It is not hard to show that\n",
        "$$\n",
        "\\frac{\\partial h}{\\partial \\alpha} = h^2 e^{-(\\alpha + \\beta X_i)}\n",
        "$$ \n",
        "and\n",
        "$$\n",
        "1 - h(X_i) = h(X_i) e^{-(\\alpha + \\beta X_i)}\n",
        "$$\n",
        "So, we finally have\n",
        "$$\n",
        "\\frac{\\partial L}{\\partial \\alpha} = \\frac{1}{n}\\sum_{i=1}^{n}(h(\\alpha + \\beta X_i) - y_i).\n",
        "$$\n",
        "Similar calculations lead to:\n",
        "$$\n",
        "\\frac{\\partial L}{\\partial \\beta} = \\frac{1}{n}\\sum_{i=1}^{n}X_i (h(\\alpha + \\beta X_i) - y_i).\n",
        "$$\n",
        "\n",
        "\n",
        "\n",
        "\n",
        "\n",
        "\n",
        "\n",
        "\n",
        "\n",
        "\n",
        "\n",
        "\n",
        "\n",
        "\n",
        "\n",
        "\n",
        "\n",
        "\n",
        "\n",
        "\n",
        "\n",
        " \n"
      ],
      "metadata": {
        "id": "yB4KpP24ECxC"
      }
    },
    {
      "cell_type": "markdown",
      "source": [
        "## Gradient descent implementation\n",
        "\n",
        "Let's apply this theory in the dataset we have in hands. First let's define the gradient descent function. It will take six parameters:\n",
        "\n",
        "- x: an array of values representing the independent variables (features) that will be used in the logistic regression,\n",
        "\n",
        "- outcomes: an array of values reprenting the outcomes associated to the x.\n",
        "\n",
        "- init: an array containing two values for our initial guess for the parameters we want to minimize,\n",
        "\n",
        "- iterations: the number of iterations the algorithm should take. We will set a default number of 1000.\n",
        "\n",
        "- learning_rate: a number representing the value of each step. The default will be 0.0001.\n",
        "\n",
        "- stopping_threshold: a number representing the maximum difference between the estimated parameters. The default is 1e-6. \n"
      ],
      "metadata": {
        "id": "kzuJHAphMa_L"
      }
    },
    {
      "cell_type": "code",
      "source": [
        "def gradient_descent(x, outcomes, init = np.array([0,0]), iterations = 1000, learning_rate = 0.0001, stopping_threshold = 1e-6):\n",
        "  \n",
        "  previous_cost = None\n",
        "  alpha0 = init[0]\n",
        "  beta0 = init[1]\n",
        "\n",
        "  # Perform iterations\n",
        "  for i in range(iterations):\n",
        "    # Calculate predictors EY = hz (here it is a vector containing the predictors for all values o X)\n",
        "    hz = 1/(1+np.exp(-(alpha0+beta0*x)))\n",
        "    # Calculate the cost function (it is also a vector)\n",
        "    cost = -outcomes*np.log(hz) - (1-outcomes)*np.log(1-hz)\n",
        "\n",
        "    if previous_cost and (abs(previous_cost) - cost <= stopping_threshold):\n",
        "      break\n",
        "    \n",
        "    alpha0 = alpha0 - learning_rate*np.mean(hz - outcomes)\n",
        "    beta0 = beta0 - learning_rate*np.mean(x*(hz - outcomes))\n",
        "    \n",
        "\n",
        "  return np.array([alpha0,beta0])"
      ],
      "metadata": {
        "id": "Yd2r6UbddyVI"
      },
      "execution_count": null,
      "outputs": []
    },
    {
      "cell_type": "code",
      "source": [
        "# Test GD algorithm in the auto dataset\n",
        "alpha, beta = gradient_descent(auto['horsepower'],auto['high_price'])"
      ],
      "metadata": {
        "id": "N03myD6JRDVR"
      },
      "execution_count": null,
      "outputs": []
    },
    {
      "cell_type": "code",
      "source": [
        "print(f'The best values for the coefficients for the logistic model, according to gradient_descent function, was: alpha = {alpha:.6f} and beta = {beta:.6f}')"
      ],
      "metadata": {
        "colab": {
          "base_uri": "https://localhost:8080/"
        },
        "id": "iFVDFUY_SOKq",
        "outputId": "6d7968dd-2979-423c-a84a-b0d6f9c5ad7e"
      },
      "execution_count": null,
      "outputs": [
        {
          "output_type": "stream",
          "name": "stdout",
          "text": [
            "The best values for the coefficients for the logistic model, according to gradient_descent function, was: alpha = -0.010700 and beta = -0.006042\n"
          ]
        }
      ]
    },
    {
      "cell_type": "markdown",
      "source": [
        "The function above exemplifies how gradient descent could be performed in practice. However, there is room for improvement here. \n",
        "\n",
        "One can see that if the number of iterations is too low, the minimum value for the cost function could not be reached. If the learning rate is too small or too big, the minimum could also not be reached.\n",
        "\n",
        "One way to improve the function above is to print the number of iterations that took for the algorithm to end. If the maximum amount of iterations is reached, it is a good sign that the number of iterations and/or the number of learning rate should be slightly increased.\n",
        "\n",
        "One could also change the initial conditions, but we have no guidance to check how we should change it to make the algorithm better.\n",
        "\n",
        "Let's print how many iterations the algorithm takes for a given values of the initial conditions and experiment with it to prove this point:"
      ],
      "metadata": {
        "id": "FThhK_NcPfgw"
      }
    },
    {
      "cell_type": "code",
      "source": [
        "def gradient_descent(x, outcomes, init = np.array([0,0]), iterations = 1000, learning_rate = 0.0001, stopping_threshold = 1e-6):\n",
        "  \n",
        "  previous_cost = None\n",
        "  alpha0 = init[0]\n",
        "  beta0 = init[1]\n",
        "\n",
        "\n",
        "  # Perform iterations\n",
        "  for i in range(iterations):\n",
        "    # Calculate predictors EY = hz (here it is a vector containing the predictors for all values o X)\n",
        "    hz = 1/(1+np.exp(-(alpha0+beta0*x)))\n",
        "    # Calculate the cost function (it is also a vector)\n",
        "    cost = -outcomes*np.log(hz) - (1-outcomes)*np.log(1-hz)\n",
        "\n",
        "    number_iterations = i + 1 \n",
        "\n",
        "    if previous_cost and (abs(previous_cost) - cost <= stopping_threshold):\n",
        "      break\n",
        "    \n",
        "    alpha0 = alpha0 - learning_rate*np.mean(hz - outcomes)\n",
        "    beta0 = beta0 - learning_rate*np.mean(x*(hz - outcomes))\n",
        "    \n",
        "\n",
        "  return np.array([alpha0,beta0, int(number_iterations)])"
      ],
      "metadata": {
        "id": "cP90PSenWeTL"
      },
      "execution_count": null,
      "outputs": []
    },
    {
      "cell_type": "markdown",
      "source": [
        "First test with initial conditions $\\alpha = -7$ and $\\beta = 0.01$."
      ],
      "metadata": {
        "id": "vHbjQXtSX9I9"
      }
    },
    {
      "cell_type": "code",
      "source": [
        "# Test GD algorithm in the auto dataset alpha0 = -7, beta0 = 0.01\n",
        "alpha, beta, iterations = gradient_descent(auto['horsepower'],auto['high_price'], init = np.array([-7,0.01]))"
      ],
      "metadata": {
        "id": "Si6K5d44WeTM"
      },
      "execution_count": null,
      "outputs": []
    },
    {
      "cell_type": "code",
      "source": [
        "print(f'Initial conditions alpha = -7 and beta = 0.01 implies {iterations} iterations and best coefficients alpha = {alpha:.6f} and beta = {beta:.6f}')"
      ],
      "metadata": {
        "colab": {
          "base_uri": "https://localhost:8080/"
        },
        "outputId": "702d4e41-4d36-4dc6-e613-4e41a10fceb5",
        "id": "AxMBFTbNWeTM"
      },
      "execution_count": null,
      "outputs": [
        {
          "output_type": "stream",
          "name": "stdout",
          "text": [
            "Initial conditions alpha = -7 and beta = 0.01 implies 999.0 and best coefficients alpha = -7.000367 and beta = 0.057514\n"
          ]
        }
      ]
    },
    {
      "cell_type": "markdown",
      "source": [
        "Second test with initial conditions $\\alpha = 0$ and $\\beta = 0$."
      ],
      "metadata": {
        "id": "ddKlexWcYME_"
      }
    },
    {
      "cell_type": "code",
      "source": [
        "# Test GD algorithm in the auto dataset alpha0 = 0, beta0 = 0\n",
        "alpha, beta, iterations = gradient_descent(auto['horsepower'],auto['high_price'], init = np.array([0,0]))"
      ],
      "metadata": {
        "id": "Df7DqWSdXFW9"
      },
      "execution_count": null,
      "outputs": []
    },
    {
      "cell_type": "code",
      "source": [
        "print(f'Initial conditions alpha = -7 and beta = 0.01 implies {iterations} iterations and best coefficients alpha = {alpha:.6f} and beta = {beta:.6f}')"
      ],
      "metadata": {
        "colab": {
          "base_uri": "https://localhost:8080/"
        },
        "id": "2TIxflquX0oT",
        "outputId": "d3763227-1c4c-44d3-ce54-69ea39ba4a75"
      },
      "execution_count": null,
      "outputs": [
        {
          "output_type": "stream",
          "name": "stdout",
          "text": [
            "Initial conditions alpha = -7 and beta = 0.01 implies 999.0 and best coefficients alpha = -0.010700 and beta = -0.006042\n"
          ]
        }
      ]
    },
    {
      "cell_type": "markdown",
      "source": [
        "Third test with initial conditions $\\alpha = -4$ and $\\beta = 3$."
      ],
      "metadata": {
        "id": "n71oiTMwX3gk"
      }
    },
    {
      "cell_type": "code",
      "source": [
        "# Test GD algorithm in the auto dataset alpha0 = -4, beta0 = 3\n",
        "alpha, beta, iterations = gradient_descent(auto['horsepower'],auto['high_price'], init = np.array([-4,0.1]))"
      ],
      "metadata": {
        "id": "h6mT7iQOYXWE"
      },
      "execution_count": null,
      "outputs": []
    },
    {
      "cell_type": "code",
      "source": [
        "print(f'Initial conditions alpha = -7 and beta = 0.01 implies {iterations} and best iterations coefficients alpha = {alpha:.6f} and beta = {beta:.6f}')"
      ],
      "metadata": {
        "colab": {
          "base_uri": "https://localhost:8080/"
        },
        "outputId": "c5390e76-6fd8-439c-f1b6-02d2ef12c2bc",
        "id": "2DxR3D4LYXWF"
      },
      "execution_count": null,
      "outputs": [
        {
          "output_type": "stream",
          "name": "stdout",
          "text": [
            "Initial conditions alpha = -7 and beta = 0.01 implies 999.0 and best coefficients alpha = -4.004111 and beta = 0.030750\n"
          ]
        }
      ]
    },
    {
      "cell_type": "markdown",
      "source": [
        "All tries achieved the maximum number of iterations and didn't move too far from the original values for the parameters and are far from each other. It suggests that we should increase the learning rate or the number of iterations of the algorithm as we pointed out above."
      ],
      "metadata": {
        "id": "LZl654InYgyX"
      }
    },
    {
      "cell_type": "markdown",
      "source": [
        "# Summary\n",
        "\n",
        "In this lessor we learned:\n",
        "\n",
        "- The logistic regression is used for classification problems.\n",
        "- How it differs from the linear regression.\n",
        "- How the logit function links the probability of an outcome to a linear model.\n",
        "- There is no closed form to find the best parameters for the algorithm.\n",
        "- How the log-loss cost function is used to find the best parameters for the model.\n",
        "- How gradient descent allows one to find the optimal parameters for a logistic regression model."
      ],
      "metadata": {
        "id": "V93Sl_lVY_iX"
      }
    },
    {
      "cell_type": "code",
      "source": [],
      "metadata": {
        "id": "t2x76HEOawr2"
      },
      "execution_count": null,
      "outputs": []
    }
  ]
}