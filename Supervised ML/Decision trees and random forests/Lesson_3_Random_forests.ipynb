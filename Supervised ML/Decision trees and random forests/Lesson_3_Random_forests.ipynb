{
  "nbformat": 4,
  "nbformat_minor": 0,
  "metadata": {
    "colab": {
      "provenance": [],
      "authorship_tag": "ABX9TyPcPYMLQNnXf8zHlTNKtgmJ",
      "include_colab_link": true
    },
    "kernelspec": {
      "name": "python3",
      "display_name": "Python 3"
    },
    "language_info": {
      "name": "python"
    }
  },
  "cells": [
    {
      "cell_type": "markdown",
      "metadata": {
        "id": "view-in-github",
        "colab_type": "text"
      },
      "source": [
        "<a href=\"https://colab.research.google.com/github/RenatodaCostaSantos/Machine_learning_lessons/blob/main/Supervised%20ML/Decision%20trees%20and%20random%20forests/Lesson_3_Random_forests.ipynb\" target=\"_parent\"><img src=\"https://colab.research.google.com/assets/colab-badge.svg\" alt=\"Open In Colab\"/></a>"
      ]
    },
    {
      "cell_type": "markdown",
      "source": [
        "# Introduction to random forests\n",
        "\n",
        "In the previous lesson, we learned how to build a decision tree model and the main metrics and parameters one can use to evaluate and optimize the model. In this lesson, we will learn about cross-validation and ensemble techniques to improve our confidence in the model's performance once new data is available.\n",
        "\n",
        "We will load the modified version of the [Portuguese student's performance dataset](https://archive.ics.uci.edu/ml/datasets/student+performance) to apply the theory learned throughout this lesson. The modifications were done in [lesson 2](https://colab.research.google.com/drive/1K1jVJ974iTxw1-bfdoSd8zDfxRHMcBkK#scrollTo=xqQcz4UJrRKo) when we prepared it for machine learning. Let's read it:\n"
      ],
      "metadata": {
        "id": "FpG02KTGV1aj"
      }
    },
    {
      "cell_type": "code",
      "source": [
        "import pandas as pd\n",
        "import numpy as np\n",
        "\n",
        "  from google.colab import drive\n",
        "\n",
        "  drive.mount('/content/drive/')"
      ],
      "metadata": {
        "colab": {
          "base_uri": "https://localhost:8080/"
        },
        "id": "RTgN50DIbFbd",
        "outputId": "68f8bca8-935a-46f1-d3b2-b4e59c4fc841"
      },
      "execution_count": null,
      "outputs": [
        {
          "output_type": "stream",
          "name": "stdout",
          "text": [
            "Drive already mounted at /content/drive/; to attempt to forcibly remount, call drive.mount(\"/content/drive/\", force_remount=True).\n"
          ]
        }
      ]
    },
    {
      "cell_type": "code",
      "source": [
        "grades = pd.read_csv('/content/drive/MyDrive/Colab Notebooks/Decision trees/grades_categorical.csv')"
      ],
      "metadata": {
        "id": "3vhcluSdcW_l"
      },
      "execution_count": null,
      "outputs": []
    },
    {
      "cell_type": "code",
      "source": [
        "grades.head()"
      ],
      "metadata": {
        "colab": {
          "base_uri": "https://localhost:8080/",
          "height": 270
        },
        "id": "to8qJZbbcwiT",
        "outputId": "f3c273cb-a891-4009-bef6-1e19c8a7c42c"
      },
      "execution_count": null,
      "outputs": [
        {
          "output_type": "execute_result",
          "data": {
            "text/plain": [
              "   absences  health  sex_fem  internet  Pstatus_together  famrel  Mjob_health  \\\n",
              "0         4     2.0        1         0                 0     3.0            0   \n",
              "1         2     2.0        1         1                 1     4.0            0   \n",
              "2         6     2.0        1         1                 1     3.0            0   \n",
              "3         0     4.0        1         1                 1     2.0            1   \n",
              "4         0     4.0        1         0                 1     3.0            0   \n",
              "\n",
              "   Mjob_other  Mjob_services  Mjob_teacher  Fjob_health  Fjob_other  \\\n",
              "0           0              0             0            0           0   \n",
              "1           0              0             0            0           1   \n",
              "2           0              0             0            0           1   \n",
              "3           0              0             0            0           0   \n",
              "4           1              0             0            0           1   \n",
              "\n",
              "   Fjob_services  Fjob_teacher  guardian_mother  guardian_other  grades_cat  \n",
              "0              0             1                1               0  Sufficient  \n",
              "1              0             0                0               0  Sufficient  \n",
              "2              0             0                1               0  Sufficient  \n",
              "3              1             0                1               0        Good  \n",
              "4              0             0                0               0  Sufficient  "
            ],
            "text/html": [
              "\n",
              "  <div id=\"df-80030164-4e94-402c-b91d-3ecb548679e8\">\n",
              "    <div class=\"colab-df-container\">\n",
              "      <div>\n",
              "<style scoped>\n",
              "    .dataframe tbody tr th:only-of-type {\n",
              "        vertical-align: middle;\n",
              "    }\n",
              "\n",
              "    .dataframe tbody tr th {\n",
              "        vertical-align: top;\n",
              "    }\n",
              "\n",
              "    .dataframe thead th {\n",
              "        text-align: right;\n",
              "    }\n",
              "</style>\n",
              "<table border=\"1\" class=\"dataframe\">\n",
              "  <thead>\n",
              "    <tr style=\"text-align: right;\">\n",
              "      <th></th>\n",
              "      <th>absences</th>\n",
              "      <th>health</th>\n",
              "      <th>sex_fem</th>\n",
              "      <th>internet</th>\n",
              "      <th>Pstatus_together</th>\n",
              "      <th>famrel</th>\n",
              "      <th>Mjob_health</th>\n",
              "      <th>Mjob_other</th>\n",
              "      <th>Mjob_services</th>\n",
              "      <th>Mjob_teacher</th>\n",
              "      <th>Fjob_health</th>\n",
              "      <th>Fjob_other</th>\n",
              "      <th>Fjob_services</th>\n",
              "      <th>Fjob_teacher</th>\n",
              "      <th>guardian_mother</th>\n",
              "      <th>guardian_other</th>\n",
              "      <th>grades_cat</th>\n",
              "    </tr>\n",
              "  </thead>\n",
              "  <tbody>\n",
              "    <tr>\n",
              "      <th>0</th>\n",
              "      <td>4</td>\n",
              "      <td>2.0</td>\n",
              "      <td>1</td>\n",
              "      <td>0</td>\n",
              "      <td>0</td>\n",
              "      <td>3.0</td>\n",
              "      <td>0</td>\n",
              "      <td>0</td>\n",
              "      <td>0</td>\n",
              "      <td>0</td>\n",
              "      <td>0</td>\n",
              "      <td>0</td>\n",
              "      <td>0</td>\n",
              "      <td>1</td>\n",
              "      <td>1</td>\n",
              "      <td>0</td>\n",
              "      <td>Sufficient</td>\n",
              "    </tr>\n",
              "    <tr>\n",
              "      <th>1</th>\n",
              "      <td>2</td>\n",
              "      <td>2.0</td>\n",
              "      <td>1</td>\n",
              "      <td>1</td>\n",
              "      <td>1</td>\n",
              "      <td>4.0</td>\n",
              "      <td>0</td>\n",
              "      <td>0</td>\n",
              "      <td>0</td>\n",
              "      <td>0</td>\n",
              "      <td>0</td>\n",
              "      <td>1</td>\n",
              "      <td>0</td>\n",
              "      <td>0</td>\n",
              "      <td>0</td>\n",
              "      <td>0</td>\n",
              "      <td>Sufficient</td>\n",
              "    </tr>\n",
              "    <tr>\n",
              "      <th>2</th>\n",
              "      <td>6</td>\n",
              "      <td>2.0</td>\n",
              "      <td>1</td>\n",
              "      <td>1</td>\n",
              "      <td>1</td>\n",
              "      <td>3.0</td>\n",
              "      <td>0</td>\n",
              "      <td>0</td>\n",
              "      <td>0</td>\n",
              "      <td>0</td>\n",
              "      <td>0</td>\n",
              "      <td>1</td>\n",
              "      <td>0</td>\n",
              "      <td>0</td>\n",
              "      <td>1</td>\n",
              "      <td>0</td>\n",
              "      <td>Sufficient</td>\n",
              "    </tr>\n",
              "    <tr>\n",
              "      <th>3</th>\n",
              "      <td>0</td>\n",
              "      <td>4.0</td>\n",
              "      <td>1</td>\n",
              "      <td>1</td>\n",
              "      <td>1</td>\n",
              "      <td>2.0</td>\n",
              "      <td>1</td>\n",
              "      <td>0</td>\n",
              "      <td>0</td>\n",
              "      <td>0</td>\n",
              "      <td>0</td>\n",
              "      <td>0</td>\n",
              "      <td>1</td>\n",
              "      <td>0</td>\n",
              "      <td>1</td>\n",
              "      <td>0</td>\n",
              "      <td>Good</td>\n",
              "    </tr>\n",
              "    <tr>\n",
              "      <th>4</th>\n",
              "      <td>0</td>\n",
              "      <td>4.0</td>\n",
              "      <td>1</td>\n",
              "      <td>0</td>\n",
              "      <td>1</td>\n",
              "      <td>3.0</td>\n",
              "      <td>0</td>\n",
              "      <td>1</td>\n",
              "      <td>0</td>\n",
              "      <td>0</td>\n",
              "      <td>0</td>\n",
              "      <td>1</td>\n",
              "      <td>0</td>\n",
              "      <td>0</td>\n",
              "      <td>0</td>\n",
              "      <td>0</td>\n",
              "      <td>Sufficient</td>\n",
              "    </tr>\n",
              "  </tbody>\n",
              "</table>\n",
              "</div>\n",
              "      <button class=\"colab-df-convert\" onclick=\"convertToInteractive('df-80030164-4e94-402c-b91d-3ecb548679e8')\"\n",
              "              title=\"Convert this dataframe to an interactive table.\"\n",
              "              style=\"display:none;\">\n",
              "        \n",
              "  <svg xmlns=\"http://www.w3.org/2000/svg\" height=\"24px\"viewBox=\"0 0 24 24\"\n",
              "       width=\"24px\">\n",
              "    <path d=\"M0 0h24v24H0V0z\" fill=\"none\"/>\n",
              "    <path d=\"M18.56 5.44l.94 2.06.94-2.06 2.06-.94-2.06-.94-.94-2.06-.94 2.06-2.06.94zm-11 1L8.5 8.5l.94-2.06 2.06-.94-2.06-.94L8.5 2.5l-.94 2.06-2.06.94zm10 10l.94 2.06.94-2.06 2.06-.94-2.06-.94-.94-2.06-.94 2.06-2.06.94z\"/><path d=\"M17.41 7.96l-1.37-1.37c-.4-.4-.92-.59-1.43-.59-.52 0-1.04.2-1.43.59L10.3 9.45l-7.72 7.72c-.78.78-.78 2.05 0 2.83L4 21.41c.39.39.9.59 1.41.59.51 0 1.02-.2 1.41-.59l7.78-7.78 2.81-2.81c.8-.78.8-2.07 0-2.86zM5.41 20L4 18.59l7.72-7.72 1.47 1.35L5.41 20z\"/>\n",
              "  </svg>\n",
              "      </button>\n",
              "      \n",
              "  <style>\n",
              "    .colab-df-container {\n",
              "      display:flex;\n",
              "      flex-wrap:wrap;\n",
              "      gap: 12px;\n",
              "    }\n",
              "\n",
              "    .colab-df-convert {\n",
              "      background-color: #E8F0FE;\n",
              "      border: none;\n",
              "      border-radius: 50%;\n",
              "      cursor: pointer;\n",
              "      display: none;\n",
              "      fill: #1967D2;\n",
              "      height: 32px;\n",
              "      padding: 0 0 0 0;\n",
              "      width: 32px;\n",
              "    }\n",
              "\n",
              "    .colab-df-convert:hover {\n",
              "      background-color: #E2EBFA;\n",
              "      box-shadow: 0px 1px 2px rgba(60, 64, 67, 0.3), 0px 1px 3px 1px rgba(60, 64, 67, 0.15);\n",
              "      fill: #174EA6;\n",
              "    }\n",
              "\n",
              "    [theme=dark] .colab-df-convert {\n",
              "      background-color: #3B4455;\n",
              "      fill: #D2E3FC;\n",
              "    }\n",
              "\n",
              "    [theme=dark] .colab-df-convert:hover {\n",
              "      background-color: #434B5C;\n",
              "      box-shadow: 0px 1px 3px 1px rgba(0, 0, 0, 0.15);\n",
              "      filter: drop-shadow(0px 1px 2px rgba(0, 0, 0, 0.3));\n",
              "      fill: #FFFFFF;\n",
              "    }\n",
              "  </style>\n",
              "\n",
              "      <script>\n",
              "        const buttonEl =\n",
              "          document.querySelector('#df-80030164-4e94-402c-b91d-3ecb548679e8 button.colab-df-convert');\n",
              "        buttonEl.style.display =\n",
              "          google.colab.kernel.accessAllowed ? 'block' : 'none';\n",
              "\n",
              "        async function convertToInteractive(key) {\n",
              "          const element = document.querySelector('#df-80030164-4e94-402c-b91d-3ecb548679e8');\n",
              "          const dataTable =\n",
              "            await google.colab.kernel.invokeFunction('convertToInteractive',\n",
              "                                                     [key], {});\n",
              "          if (!dataTable) return;\n",
              "\n",
              "          const docLinkHtml = 'Like what you see? Visit the ' +\n",
              "            '<a target=\"_blank\" href=https://colab.research.google.com/notebooks/data_table.ipynb>data table notebook</a>'\n",
              "            + ' to learn more about interactive tables.';\n",
              "          element.innerHTML = '';\n",
              "          dataTable['output_type'] = 'display_data';\n",
              "          await google.colab.output.renderOutput(dataTable, element);\n",
              "          const docLink = document.createElement('div');\n",
              "          docLink.innerHTML = docLinkHtml;\n",
              "          element.appendChild(docLink);\n",
              "        }\n",
              "      </script>\n",
              "    </div>\n",
              "  </div>\n",
              "  "
            ]
          },
          "metadata": {},
          "execution_count": 26
        }
      ]
    },
    {
      "cell_type": "markdown",
      "source": [
        "# Cross-validation\n",
        "\n",
        "To understand how cross-validation works, consider a toy dataframe containing 10 observations. When we use the train_test_split() function and choose the parameter test_size = 0.2, it will select 20% of the observations as part of the test set, and 80% as part of the training set. In our toy example, it would mean 2 observations in the test set and 8 in the training set. The choice of observations that belong to the training and test sets is random, and a different selection of observations for the training and test sets would impact the model's performance. In practice, this is precisely what happens.\n",
        "\n",
        "Now, imagine that instead of performing only one random division of the observations into training and test sets, we performed many different ones in the same dataset. How? Well, we could follow the steps below:\n",
        "\n",
        "- First, we shuffle the observations. \n",
        "\n",
        "- Then, we label them with numbers ranging from 1 to 10. \n",
        "\n",
        "- Next, we consider a test set containing only observations 1 and 2 and use the rest as a training set. In statistics, this step is called a **fold**.\n",
        "\n",
        "- We train a model and evaluate it. Instead of claiming the metric's value as the model's performance, we save the result in a list.\n",
        "\n",
        "- We repeat the procedure above using observations 3 and 4 as the test set and the remaining observations as a training set.\n",
        "\n",
        "- Next, calculate the model's performance once again, and save the value in a list. \n",
        "\n",
        "- Follow this procedure until all observations belong to the test set once. We will end up with a list containing different scores for the model's performance. \n",
        "\n",
        "- Finally, we average the score values and claim that this average is the correct score for the model. That is how **K-Fold cross-validation** works. The letter **K** counts the number of folds used in the cross-validation.\n",
        "\n",
        "Let's instantiate and train a decision tree and perform cross-validation using sci-kit-learn to see how to implement it in a real scenario. We will use the [cross_val_score](https://scikit-learn.org/stable/modules/generated/sklearn.model_selection.cross_val_score.html) method from sci-kit-learn. This method does not require an explicit dataset split into training and test sets."
      ],
      "metadata": {
        "id": "yTYNOcFtcxss"
      }
    },
    {
      "cell_type": "code",
      "source": [
        "# Separate features from target\n",
        "X = grades.drop('grades_cat',axis = 1)\n",
        "y = grades['grades_cat']"
      ],
      "metadata": {
        "id": "4aEuVt6ouQfV"
      },
      "execution_count": null,
      "outputs": []
    },
    {
      "cell_type": "markdown",
      "source": [
        "Next, we instantiate a regression tree, and use the cross_val_score to find the model's performance."
      ],
      "metadata": {
        "id": "2SaEnR2TvKw5"
      }
    },
    {
      "cell_type": "code",
      "source": [
        "from sklearn.tree import DecisionTreeClassifier\n",
        "from sklearn.model_selection import cross_val_score\n",
        "# Instantiate a classification tree\n",
        "class_tree = DecisionTreeClassifier(criterion = 'gini', max_depth = 3, random_state = 34)\n",
        "\n",
        "# Fit and evaluate the model with cross-validation\n",
        "scores_list = cross_val_score(class_tree,X,y, cv = 5, n_jobs = -1)\n",
        "print(scores_list)"
      ],
      "metadata": {
        "id": "BKsB457qv1os",
        "colab": {
          "base_uri": "https://localhost:8080/"
        },
        "outputId": "3c165237-b0ae-4a2e-9e1f-985311a8acd8"
      },
      "execution_count": null,
      "outputs": [
        {
          "output_type": "stream",
          "name": "stdout",
          "text": [
            "[0.5        0.56923077 0.51538462 0.53076923 0.5503876 ]\n"
          ]
        }
      ]
    },
    {
      "cell_type": "markdown",
      "source": [
        "Some important notes are:\n",
        "\n",
        "- As we described above, each fold provides a different score. The list above contains the scores using accuracy, the default metric for a classification tree.\n",
        "\n",
        "- We used the default value for the cross-validation parameter cv. It states the number of folds, which in this case was 5 (that's why we have a list containing five different scores).\n",
        "\n",
        "- n_jobs = -1 use all available processors to perform cross-validation.\n",
        "\n",
        "The last step is to compute the mean value for the list of scores."
      ],
      "metadata": {
        "id": "eat63lOuqqXc"
      }
    },
    {
      "cell_type": "code",
      "source": [
        "# Compute the mean score\n",
        "print(scores_list.mean())"
      ],
      "metadata": {
        "colab": {
          "base_uri": "https://localhost:8080/"
        },
        "id": "nordYzmvBrmF",
        "outputId": "04f93977-912b-4ae5-cb50-298f86d7c608"
      },
      "execution_count": null,
      "outputs": [
        {
          "output_type": "stream",
          "name": "stdout",
          "text": [
            "0.533154442456768\n"
          ]
        }
      ]
    },
    {
      "cell_type": "markdown",
      "source": [
        "There are other cross-validation methods, but we will focus on the K-fold cross-validation in this lesson.\n",
        "\n",
        "# Cross-validate tool\n",
        "\n",
        "If we need to change the metric used to compute the score, we can change it by using the *scoring* parameter from the cross_val_score method. A list of metrics can be found on the [sci-kit-learn page](https://scikit-learn.org/stable/modules/model_evaluation.html). \n",
        "\n",
        "Let's practice with it and compute the recall_macro metric for the tree we built."
      ],
      "metadata": {
        "id": "pMOafBUMB7qJ"
      }
    },
    {
      "cell_type": "code",
      "source": [
        "# Fit and evaluate the model with cross-validation using the recall_macro metric\n",
        "scores_list = cross_val_score(class_tree,X,y, cv = 5, n_jobs = -1, scoring = 'recall_macro')\n",
        "print(scores_list)\n",
        "mean_macro = scores_list.mean()\n",
        "print(f'The mean value for the recall_macro score was {mean_macro*100:.2f}%.')"
      ],
      "metadata": {
        "id": "34IZuzHGHQ60",
        "colab": {
          "base_uri": "https://localhost:8080/"
        },
        "outputId": "c3c1bb49-bd05-4676-f68a-aae480384f68"
      },
      "execution_count": null,
      "outputs": [
        {
          "output_type": "stream",
          "name": "stdout",
          "text": [
            "[0.18943242 0.20281563 0.157277   0.16720017 0.16666667]\n",
            "The mean value for the recall_macro score was 17.67%.\n"
          ]
        }
      ]
    },
    {
      "cell_type": "markdown",
      "source": [
        "We see that the model's sensitivity, or recall, is not strong. We will look into other optimization tools later to try to improve these outcomes.\n",
        "\n",
        "Sci-kit-learn also contains the cross_validate method that allows one to use multiple metrics as input for the *scoring* parameter and obtain an array of scores for each metric. Let's practice with it."
      ],
      "metadata": {
        "id": "WdpOCMW4FYwn"
      }
    },
    {
      "cell_type": "code",
      "source": [
        "from sklearn.model_selection import cross_validate\n",
        "# Fit and evaluate the model with cross-validation using the recall_macro and weighted f1 metrics\n",
        "multiple_scores_list = cross_validate(class_tree,X,y, cv = 10, n_jobs = -1, scoring = ('recall_macro','f1_weighted'))\n",
        "\n",
        "print(multiple_scores_list)"
      ],
      "metadata": {
        "colab": {
          "base_uri": "https://localhost:8080/"
        },
        "id": "DEFt9i-IHUTu",
        "outputId": "2c6030ea-479c-4b72-c377-82eaeb73ffae"
      },
      "execution_count": null,
      "outputs": [
        {
          "output_type": "stream",
          "name": "stdout",
          "text": [
            "{'fit_time': array([0.00557804, 0.00759363, 0.00521326, 0.00805235, 0.00519872,\n",
            "       0.00498486, 0.00530887, 0.00520611, 0.00536227, 0.00368977]), 'score_time': array([0.00552416, 0.00801897, 0.00554323, 0.00547934, 0.00542212,\n",
            "       0.0052619 , 0.00743246, 0.00591421, 0.00550389, 0.00330544]), 'test_recall_macro': array([0.17361111, 0.16203704, 0.21759259, 0.16666667, 0.16203704,\n",
            "       0.2037037 , 0.17579365, 0.16666667, 0.18181818, 0.18181818]), 'test_f1_weighted': array([0.4041942 , 0.38769231, 0.46348178, 0.40690738, 0.3956044 ,\n",
            "       0.43496503, 0.4       , 0.38073038, 0.41275632, 0.42520533])}\n"
          ]
        }
      ]
    },
    {
      "cell_type": "markdown",
      "source": [
        "It provides a dictionary that also includes the time needed to fit an estimator (the model) and the time it took to compute the score on the test set. \n",
        "\n",
        "If we want to check just the recall_macro scores, for example, we can call it explicitly:"
      ],
      "metadata": {
        "id": "Ak5CBxCXJOW8"
      }
    },
    {
      "cell_type": "code",
      "source": [
        "# Print scores only for the recall_macro metric\n",
        "scores_recall = multiple_scores_list['test_recall_macro']\n",
        "print(multiple_scores_list['test_recall_macro'])\n",
        "\n",
        "# Compute the mean for the recall_macro scores\n",
        "mean_recall = scores_recall.mean()\n",
        "print(f'The mean value for the recall_macro score was {mean_recall:.2f}.')"
      ],
      "metadata": {
        "colab": {
          "base_uri": "https://localhost:8080/"
        },
        "id": "agN3n5BiKCbX",
        "outputId": "2029cd5e-79cc-4fbb-e242-445d076f8a55"
      },
      "execution_count": null,
      "outputs": [
        {
          "output_type": "stream",
          "name": "stdout",
          "text": [
            "[0.17361111 0.16203704 0.21759259 0.16666667 0.16203704 0.2037037\n",
            " 0.17579365 0.16666667 0.18181818 0.18181818]\n",
            "The mean value for the recall_macro score was 0.18.\n"
          ]
        }
      ]
    },
    {
      "cell_type": "markdown",
      "source": [
        "# Make scorer tool\n",
        "\n",
        "Sometimes the metric we want to evaluate a model will not be available in the sci-kit-learn library. In these situations, it is possible to define your scorer (or tweak existing ones) with the [make_scorer](https://scikit-learn.org/stable/modules/generated/sklearn.metrics.make_scorer.html) tool.\n",
        "\n",
        "If you look at the list of possible metrics, you will find that the popular RMSE metric is not available. Let's use the make_scorer tool to create it."
      ],
      "metadata": {
        "id": "NSOw45k7KGae"
      }
    },
    {
      "cell_type": "code",
      "source": [
        "from sklearn.metrics import make_scorer\n",
        "from sklearn.metrics import mean_squared_error\n",
        "\n",
        "# Tweaking the mean squared error metric\n",
        "RMSE = make_scorer(mean_squared_error, squared = False, greater_is_better= False)"
      ],
      "metadata": {
        "id": "6qPdI55pP9oR"
      },
      "execution_count": null,
      "outputs": []
    },
    {
      "cell_type": "markdown",
      "source": [
        "Some notes about the code above:\n",
        "\n",
        "- The make_scorer function takes the metric we want to customize as a parameter. Extra parameters, associated with the chosen metric, are separated by commas. In this case, we want to customize the root mean squared error metric, so we entered the mean_squared_error metric and set the parameter squared to False.\n",
        "\n",
        "- A large value for most metrics usually implies a strong model. For example, a large accuracy value usually (not always) implies the model is good at making predictions. However, the RMSE metric does not follow that criterion. It is an error. If the error is large, it will return a large value. That's why we set the greater_is_better parameter to False. It basically forces the RMSE values to follow the same logic as most metrics by multiplying its value by -1. That implies larger numbers (near zero) will be associated with good models, while smaller values (much smaller than 0) will be associated with weaker models.\n",
        "\n",
        "Let's create a regression tree and compute the RMSE value using the cross_val_scorer method."
      ],
      "metadata": {
        "id": "-tr7HQyHQvts"
      }
    },
    {
      "cell_type": "code",
      "source": [
        "# Read the file with grades suitable for regression\n",
        "grades_reg = pd.read_csv('/content/drive/MyDrive/Colab Notebooks/Decision trees/grades_reg.csv')"
      ],
      "metadata": {
        "id": "hUtcH800VGxO"
      },
      "execution_count": null,
      "outputs": []
    },
    {
      "cell_type": "code",
      "source": [
        "grades_reg.head()"
      ],
      "metadata": {
        "colab": {
          "base_uri": "https://localhost:8080/",
          "height": 270
        },
        "id": "XcrkUT9JWT0x",
        "outputId": "0e15af28-7ca0-44c6-c7ec-e83204b97601"
      },
      "execution_count": null,
      "outputs": [
        {
          "output_type": "execute_result",
          "data": {
            "text/plain": [
              "   absences  health  sex_fem  internet  Pstatus_together  famrel  G3  \\\n",
              "0         4     2.0        1         0                 0     3.0  11   \n",
              "1         2     2.0        1         1                 1     4.0  11   \n",
              "2         6     2.0        1         1                 1     3.0  12   \n",
              "3         0     4.0        1         1                 1     2.0  14   \n",
              "4         0     4.0        1         0                 1     3.0  13   \n",
              "\n",
              "   Mjob_health  Mjob_other  Mjob_services  Mjob_teacher  Fjob_health  \\\n",
              "0            0           0              0             0            0   \n",
              "1            0           0              0             0            0   \n",
              "2            0           0              0             0            0   \n",
              "3            1           0              0             0            0   \n",
              "4            0           1              0             0            0   \n",
              "\n",
              "   Fjob_other  Fjob_services  Fjob_teacher  guardian_mother  guardian_other  \n",
              "0           0              0             1                1               0  \n",
              "1           1              0             0                0               0  \n",
              "2           1              0             0                1               0  \n",
              "3           0              1             0                1               0  \n",
              "4           1              0             0                0               0  "
            ],
            "text/html": [
              "\n",
              "  <div id=\"df-435af9d0-a5c2-40fb-a28f-9d62deccdd2b\">\n",
              "    <div class=\"colab-df-container\">\n",
              "      <div>\n",
              "<style scoped>\n",
              "    .dataframe tbody tr th:only-of-type {\n",
              "        vertical-align: middle;\n",
              "    }\n",
              "\n",
              "    .dataframe tbody tr th {\n",
              "        vertical-align: top;\n",
              "    }\n",
              "\n",
              "    .dataframe thead th {\n",
              "        text-align: right;\n",
              "    }\n",
              "</style>\n",
              "<table border=\"1\" class=\"dataframe\">\n",
              "  <thead>\n",
              "    <tr style=\"text-align: right;\">\n",
              "      <th></th>\n",
              "      <th>absences</th>\n",
              "      <th>health</th>\n",
              "      <th>sex_fem</th>\n",
              "      <th>internet</th>\n",
              "      <th>Pstatus_together</th>\n",
              "      <th>famrel</th>\n",
              "      <th>G3</th>\n",
              "      <th>Mjob_health</th>\n",
              "      <th>Mjob_other</th>\n",
              "      <th>Mjob_services</th>\n",
              "      <th>Mjob_teacher</th>\n",
              "      <th>Fjob_health</th>\n",
              "      <th>Fjob_other</th>\n",
              "      <th>Fjob_services</th>\n",
              "      <th>Fjob_teacher</th>\n",
              "      <th>guardian_mother</th>\n",
              "      <th>guardian_other</th>\n",
              "    </tr>\n",
              "  </thead>\n",
              "  <tbody>\n",
              "    <tr>\n",
              "      <th>0</th>\n",
              "      <td>4</td>\n",
              "      <td>2.0</td>\n",
              "      <td>1</td>\n",
              "      <td>0</td>\n",
              "      <td>0</td>\n",
              "      <td>3.0</td>\n",
              "      <td>11</td>\n",
              "      <td>0</td>\n",
              "      <td>0</td>\n",
              "      <td>0</td>\n",
              "      <td>0</td>\n",
              "      <td>0</td>\n",
              "      <td>0</td>\n",
              "      <td>0</td>\n",
              "      <td>1</td>\n",
              "      <td>1</td>\n",
              "      <td>0</td>\n",
              "    </tr>\n",
              "    <tr>\n",
              "      <th>1</th>\n",
              "      <td>2</td>\n",
              "      <td>2.0</td>\n",
              "      <td>1</td>\n",
              "      <td>1</td>\n",
              "      <td>1</td>\n",
              "      <td>4.0</td>\n",
              "      <td>11</td>\n",
              "      <td>0</td>\n",
              "      <td>0</td>\n",
              "      <td>0</td>\n",
              "      <td>0</td>\n",
              "      <td>0</td>\n",
              "      <td>1</td>\n",
              "      <td>0</td>\n",
              "      <td>0</td>\n",
              "      <td>0</td>\n",
              "      <td>0</td>\n",
              "    </tr>\n",
              "    <tr>\n",
              "      <th>2</th>\n",
              "      <td>6</td>\n",
              "      <td>2.0</td>\n",
              "      <td>1</td>\n",
              "      <td>1</td>\n",
              "      <td>1</td>\n",
              "      <td>3.0</td>\n",
              "      <td>12</td>\n",
              "      <td>0</td>\n",
              "      <td>0</td>\n",
              "      <td>0</td>\n",
              "      <td>0</td>\n",
              "      <td>0</td>\n",
              "      <td>1</td>\n",
              "      <td>0</td>\n",
              "      <td>0</td>\n",
              "      <td>1</td>\n",
              "      <td>0</td>\n",
              "    </tr>\n",
              "    <tr>\n",
              "      <th>3</th>\n",
              "      <td>0</td>\n",
              "      <td>4.0</td>\n",
              "      <td>1</td>\n",
              "      <td>1</td>\n",
              "      <td>1</td>\n",
              "      <td>2.0</td>\n",
              "      <td>14</td>\n",
              "      <td>1</td>\n",
              "      <td>0</td>\n",
              "      <td>0</td>\n",
              "      <td>0</td>\n",
              "      <td>0</td>\n",
              "      <td>0</td>\n",
              "      <td>1</td>\n",
              "      <td>0</td>\n",
              "      <td>1</td>\n",
              "      <td>0</td>\n",
              "    </tr>\n",
              "    <tr>\n",
              "      <th>4</th>\n",
              "      <td>0</td>\n",
              "      <td>4.0</td>\n",
              "      <td>1</td>\n",
              "      <td>0</td>\n",
              "      <td>1</td>\n",
              "      <td>3.0</td>\n",
              "      <td>13</td>\n",
              "      <td>0</td>\n",
              "      <td>1</td>\n",
              "      <td>0</td>\n",
              "      <td>0</td>\n",
              "      <td>0</td>\n",
              "      <td>1</td>\n",
              "      <td>0</td>\n",
              "      <td>0</td>\n",
              "      <td>0</td>\n",
              "      <td>0</td>\n",
              "    </tr>\n",
              "  </tbody>\n",
              "</table>\n",
              "</div>\n",
              "      <button class=\"colab-df-convert\" onclick=\"convertToInteractive('df-435af9d0-a5c2-40fb-a28f-9d62deccdd2b')\"\n",
              "              title=\"Convert this dataframe to an interactive table.\"\n",
              "              style=\"display:none;\">\n",
              "        \n",
              "  <svg xmlns=\"http://www.w3.org/2000/svg\" height=\"24px\"viewBox=\"0 0 24 24\"\n",
              "       width=\"24px\">\n",
              "    <path d=\"M0 0h24v24H0V0z\" fill=\"none\"/>\n",
              "    <path d=\"M18.56 5.44l.94 2.06.94-2.06 2.06-.94-2.06-.94-.94-2.06-.94 2.06-2.06.94zm-11 1L8.5 8.5l.94-2.06 2.06-.94-2.06-.94L8.5 2.5l-.94 2.06-2.06.94zm10 10l.94 2.06.94-2.06 2.06-.94-2.06-.94-.94-2.06-.94 2.06-2.06.94z\"/><path d=\"M17.41 7.96l-1.37-1.37c-.4-.4-.92-.59-1.43-.59-.52 0-1.04.2-1.43.59L10.3 9.45l-7.72 7.72c-.78.78-.78 2.05 0 2.83L4 21.41c.39.39.9.59 1.41.59.51 0 1.02-.2 1.41-.59l7.78-7.78 2.81-2.81c.8-.78.8-2.07 0-2.86zM5.41 20L4 18.59l7.72-7.72 1.47 1.35L5.41 20z\"/>\n",
              "  </svg>\n",
              "      </button>\n",
              "      \n",
              "  <style>\n",
              "    .colab-df-container {\n",
              "      display:flex;\n",
              "      flex-wrap:wrap;\n",
              "      gap: 12px;\n",
              "    }\n",
              "\n",
              "    .colab-df-convert {\n",
              "      background-color: #E8F0FE;\n",
              "      border: none;\n",
              "      border-radius: 50%;\n",
              "      cursor: pointer;\n",
              "      display: none;\n",
              "      fill: #1967D2;\n",
              "      height: 32px;\n",
              "      padding: 0 0 0 0;\n",
              "      width: 32px;\n",
              "    }\n",
              "\n",
              "    .colab-df-convert:hover {\n",
              "      background-color: #E2EBFA;\n",
              "      box-shadow: 0px 1px 2px rgba(60, 64, 67, 0.3), 0px 1px 3px 1px rgba(60, 64, 67, 0.15);\n",
              "      fill: #174EA6;\n",
              "    }\n",
              "\n",
              "    [theme=dark] .colab-df-convert {\n",
              "      background-color: #3B4455;\n",
              "      fill: #D2E3FC;\n",
              "    }\n",
              "\n",
              "    [theme=dark] .colab-df-convert:hover {\n",
              "      background-color: #434B5C;\n",
              "      box-shadow: 0px 1px 3px 1px rgba(0, 0, 0, 0.15);\n",
              "      filter: drop-shadow(0px 1px 2px rgba(0, 0, 0, 0.3));\n",
              "      fill: #FFFFFF;\n",
              "    }\n",
              "  </style>\n",
              "\n",
              "      <script>\n",
              "        const buttonEl =\n",
              "          document.querySelector('#df-435af9d0-a5c2-40fb-a28f-9d62deccdd2b button.colab-df-convert');\n",
              "        buttonEl.style.display =\n",
              "          google.colab.kernel.accessAllowed ? 'block' : 'none';\n",
              "\n",
              "        async function convertToInteractive(key) {\n",
              "          const element = document.querySelector('#df-435af9d0-a5c2-40fb-a28f-9d62deccdd2b');\n",
              "          const dataTable =\n",
              "            await google.colab.kernel.invokeFunction('convertToInteractive',\n",
              "                                                     [key], {});\n",
              "          if (!dataTable) return;\n",
              "\n",
              "          const docLinkHtml = 'Like what you see? Visit the ' +\n",
              "            '<a target=\"_blank\" href=https://colab.research.google.com/notebooks/data_table.ipynb>data table notebook</a>'\n",
              "            + ' to learn more about interactive tables.';\n",
              "          element.innerHTML = '';\n",
              "          dataTable['output_type'] = 'display_data';\n",
              "          await google.colab.output.renderOutput(dataTable, element);\n",
              "          const docLink = document.createElement('div');\n",
              "          docLink.innerHTML = docLinkHtml;\n",
              "          element.appendChild(docLink);\n",
              "        }\n",
              "      </script>\n",
              "    </div>\n",
              "  </div>\n",
              "  "
            ]
          },
          "metadata": {},
          "execution_count": 35
        }
      ]
    },
    {
      "cell_type": "code",
      "source": [
        "# Separate features from target\n",
        "X = grades_reg.drop(['G3'], axis = 1)\n",
        "y = grades_reg['G3']"
      ],
      "metadata": {
        "id": "v6L9KiwYYFqv"
      },
      "execution_count": null,
      "outputs": []
    },
    {
      "cell_type": "code",
      "source": [
        "from sklearn.tree import DecisionTreeRegressor\n",
        "# Instantiate a regression tree\n",
        "regression_tree_mse = DecisionTreeRegressor(criterion = 'squared_error', max_depth = 3, random_state = 34)\n",
        "\n",
        "# Fit and evaluate the model with the RMSE and cross-validation\n",
        "scores_list_RMSE = cross_val_score(regression_tree_mse, X, y, cv = 5, scoring = RMSE, n_jobs = -1)\n",
        "print(scores_list)\n",
        "\n",
        "# Calculate the mean score\n",
        "mean_score_RMSE = scores_list_RMSE.mean()\n",
        "\n",
        "print(f'The mean score using the RMSE scorer to evaluate the regression tree was, {mean_score_RMSE:.2f}.')"
      ],
      "metadata": {
        "colab": {
          "base_uri": "https://localhost:8080/"
        },
        "id": "FkerToAfXS1N",
        "outputId": "4c426bad-3cf6-4452-8cd0-97da877d1fc5"
      },
      "execution_count": null,
      "outputs": [
        {
          "output_type": "stream",
          "name": "stdout",
          "text": [
            "[0.18943242 0.20281563 0.157277   0.16720017 0.16666667]\n",
            "The mean score using the RMSE scorer to evaluate the regression tree was, -3.25.\n"
          ]
        }
      ]
    },
    {
      "cell_type": "markdown",
      "source": [
        "# Grid search and randomized search\n",
        "\n",
        "We just learned about K-fold cross-validation and how it improves the model's score. Previously, we also saw that different values for the parameters and their arguments influence the score value for the model. Sci-kit-learn contains the [GridSearchCV](https://scikit-learn.org/stable/modules/generated/sklearn.model_selection.GridSearchCV.html) tool, which provides a way to automate both steps. It will be computationally expensive, given that it can exhaustively try all possible combinations stored in a list made by the user. However, if computational power is not an issue, this is an excellent way to optimize the machine learning workflow.\n",
        "\n",
        "In practice, we need to instantiate the GridSearchCV and use a dictionary containing the parameters we want to explore and the range of values for the arguments. Let's practice with it."
      ],
      "metadata": {
        "id": "98MOOI7qZPaH"
      }
    },
    {
      "cell_type": "code",
      "source": [
        "from sklearn.model_selection import GridSearchCV\n",
        "\n",
        "# Create a grid of parameters\n",
        "parameters = {'criterion': ['gini', 'entropy'],\n",
        "              'class_weight': [None, 'balanced'],\n",
        "              'min_samples_split': [12, 30, 48],\n",
        "              'max_depth': list(range(3,7)),\n",
        "              'min_samples_leaf': list(range(9,19,3))\n",
        "              }\n",
        "\n",
        "# Instantiate a model\n",
        "tree = DecisionTreeClassifier(random_state = 34)\n",
        "\n",
        "# Instantiate a grid search\n",
        "gridSearch = GridSearchCV(tree, param_grid = parameters, cv = 5, scoring = 'recall_macro', n_jobs= -1)\n",
        "            "
      ],
      "metadata": {
        "id": "EmNtv6xIiuDo"
      },
      "execution_count": null,
      "outputs": []
    },
    {
      "cell_type": "markdown",
      "source": [
        "We have created a GridSearch instance. Next, we can fit the data we are interested in and search for the best model."
      ],
      "metadata": {
        "id": "N3HlFHFGkn0k"
      }
    },
    {
      "cell_type": "code",
      "source": [
        "# Separate features and target\n",
        "X = grades.drop('grades_cat', axis = 1)\n",
        "y = grades['grades_cat']"
      ],
      "metadata": {
        "id": "n4_dvWB-k9LJ"
      },
      "execution_count": null,
      "outputs": []
    },
    {
      "cell_type": "code",
      "source": [
        "# Fit the data and search for the best model of the grid\n",
        "gridSearch.fit(X,y)"
      ],
      "metadata": {
        "colab": {
          "base_uri": "https://localhost:8080/"
        },
        "id": "UtFmGxM5lOhr",
        "outputId": "3b0ee3ab-e39e-4f3c-aa00-6b34e8a2f756"
      },
      "execution_count": null,
      "outputs": [
        {
          "output_type": "execute_result",
          "data": {
            "text/plain": [
              "GridSearchCV(cv=5, estimator=DecisionTreeClassifier(random_state=34), n_jobs=-1,\n",
              "             param_grid={'class_weight': [None, 'balanced'],\n",
              "                         'criterion': ['gini', 'entropy'],\n",
              "                         'max_depth': [3, 4, 5, 6],\n",
              "                         'min_samples_leaf': [9, 12, 15, 18],\n",
              "                         'min_samples_split': [12, 30, 48]},\n",
              "             scoring='recall_macro')"
            ]
          },
          "metadata": {},
          "execution_count": 40
        }
      ]
    },
    {
      "cell_type": "markdown",
      "source": [
        "We can get the best set of parameters, score, and estimator using the best_parms, best_score_, and best_estimator_ attributes. Let's check them out."
      ],
      "metadata": {
        "id": "in4h6LgglZBc"
      }
    },
    {
      "cell_type": "code",
      "source": [
        "# Printing best parameters, score and estimator\n",
        "best_parameters = gridSearch.best_params_\n",
        "best_score = gridSearch.best_score_\n",
        "best_estimator = gridSearch.best_estimator_\n",
        "\n",
        "print(f'The best set of parameters was {best_parameters}.')\n",
        "print(f'The best score was a recall_macro of {best_score*100:.2f}%.')\n",
        "print(f'The best estimator was {best_estimator}.')"
      ],
      "metadata": {
        "colab": {
          "base_uri": "https://localhost:8080/"
        },
        "id": "bsSa1kQvoC3b",
        "outputId": "e9261b2f-8f97-4c8f-8a5b-a6193eea21c7"
      },
      "execution_count": null,
      "outputs": [
        {
          "output_type": "stream",
          "name": "stdout",
          "text": [
            "The best set of parameters was {'class_weight': 'balanced', 'criterion': 'gini', 'max_depth': 4, 'min_samples_leaf': 15, 'min_samples_split': 48}.\n",
            "The best score was a recall_macro of 30.13%.\n",
            "The best estimator was DecisionTreeClassifier(class_weight='balanced', max_depth=4,\n",
            "                       min_samples_leaf=15, min_samples_split=48,\n",
            "                       random_state=34).\n"
          ]
        }
      ]
    },
    {
      "cell_type": "markdown",
      "source": [
        "Previously in this lesson, we found the mean value for the recall_macro metric using only cross-validation, finding a score of 17%. GridSearchCV improved it considerably to ~30%.\n",
        "\n",
        "An alternative to GridSearchCV when computational power or time is important, and the optimal value for the metric is not an issue, the [RandomizedSearchCV](https://scikit-learn.org/stable/modules/generated/sklearn.model_selection.RandomizedSearchCV.html) is a good option. It works similarly to GridSearchCV, but only chooses a random set of parameters from the grid at each fold. \n",
        "\n",
        "# Introduction to random forests\n",
        "\n",
        "One common and powerful technique used to improve the performance of a model is given by the **random forest** algorithm. This method will use the same data to create a series of random decision trees by using different features and observations to train each of them. As we saw in the first decision tree lesson, every tree is highly sensitive to the variable and threshold used to split a given node. The random forest technique thus generates a large number of decision trees (forest) that are different from each other. The more diverse they are, the better. Some will underperform, and some will overfit the data. This ensemble technique is very efficient at mitigating the biggest downsize of decision trees; their tendency to overfit.\n",
        "\n",
        "One important question is: How does the algorithm choose the random selection of features and observations for each tree?\n",
        "\n",
        "There are two specific approaches adopted by random forests:\n",
        "\n",
        "1 - **Bagging** (also known as Bootstrapping and AGGregatING). In this case, random forests create a series of decision trees using a subset of the available data. The random choice is made *with replacement*, which means some observations can be selected more than once for a given subset. Each subtree contains the same features as the original dataset.\n",
        "\n",
        "![bagging](https://raw.githubusercontent.com/RenatodaCostaSantos/Machine-Learning---Lessons/main/Supervised%20ML/Decision%20trees%20and%20random%20forests/images/Bagging.png)\n",
        "\n",
        "2 - **Random subspace** (also known as Feature Bagging or Attribute Bagging). Here, each subtree will contain a subset of the original features. It also uses subsampling with replacement for each subtree. \n",
        "\n",
        "![random subspaces](https://raw.githubusercontent.com/RenatodaCostaSantos/Machine-Learning---Lessons/main/Supervised%20ML/Decision%20trees%20and%20random%20forests/images/random_subspaces.png)\n",
        "\n",
        "These two approaches can be applied to the same tree, separated or combined. When combined, they are referred to as **random patches**.\n",
        "\n",
        "Sci-kit-learn includes the [RandomForestClassifier](https://scikit-learn.org/stable/modules/generated/sklearn.ensemble.RandomForestClassifier.html) and [RandomForestRegressor](https://scikit-learn.org/stable/modules/generated/sklearn.ensemble.RandomForestRegressor.html) instantiators. Let's practice importing, instantiating, and evaluating a model using sci-kit-learn.\n",
        "\n",
        "\n"
      ],
      "metadata": {
        "id": "qrDgXL-uoqZ9"
      }
    },
    {
      "cell_type": "code",
      "source": [
        "# Split features and target\n",
        "X_reg = grades_reg.drop('G3', axis = 1)\n",
        "y_reg = grades_reg['G3']"
      ],
      "metadata": {
        "id": "wYR0lctHd93h"
      },
      "execution_count": null,
      "outputs": []
    },
    {
      "cell_type": "code",
      "source": [
        "from sklearn.model_selection import train_test_split\n",
        "\n",
        "# Split the data into training and test sets\n",
        "X_train, X_test, y_train, y_test = train_test_split(X_reg, y_reg, test_size= 0.3, random_state = 34)"
      ],
      "metadata": {
        "id": "V-Jr0kn3sDTB"
      },
      "execution_count": null,
      "outputs": []
    },
    {
      "cell_type": "code",
      "source": [
        "from sklearn.ensemble import RandomForestRegressor\n",
        "\n",
        "# Instantiate a random forest\n",
        "random_forest = RandomForestRegressor(max_depth= 3, n_jobs= -1, random_state= 34)\n",
        "\n",
        "# Fit the data\n",
        "random_forest.fit(X_train,y_train)\n",
        "\n",
        "# Compute the score\n",
        "score = random_forest.score(X_test,y_test)\n",
        "\n",
        "print(score)"
      ],
      "metadata": {
        "colab": {
          "base_uri": "https://localhost:8080/"
        },
        "id": "mfrIgIhDeezR",
        "outputId": "3d6cd0e6-ecbc-4afd-d588-c647fbd4a5d0"
      },
      "execution_count": null,
      "outputs": [
        {
          "output_type": "stream",
          "name": "stdout",
          "text": [
            "0.02978221160334593\n"
          ]
        }
      ]
    },
    {
      "cell_type": "markdown",
      "source": [
        "The default metrics for random forests are the same as for decision trees, i.e., $R^2$ for regression forests and the accuracy for classification forests. However, there are some subtleties in how they are calculated:\n",
        "\n",
        "- For regression forests, it uses the mean of all predictions made by each tree. \n",
        "\n",
        "- For classification, sci-kit-learn computes the probability for each class at every tree. Then, it averages these probabilities and returns the class with the highest average probability. *This procedure is different from the standard implementation of a random forest where every tree predicts a class, and the highest number of predictions (mode) is chosen*.\n",
        "\n",
        "Therefore, the model we instantiate above is not performing well with an $R^2 = 0.030$. The predictions are able to explain only 3% of the variance shown in the target variable.\n",
        "\n",
        "# Random forests: Parameters\n",
        "\n",
        "Random forest classifier and regression share the same parameters as their decision trees counterparts: 'criterion', 'max_depth', 'min_samples_leaf', 'min_weight_fraction_leaf', 'max_features', 'max_leaf_nodes', 'min_impurity_decrease', 'random_state', 'ccp_alpha' and, for classifiers only, 'class_weight'. However, there are a few extra parameters exclusive to random forests:\n",
        "\n",
        "- n_estimators: The number of trees that will be generated by the random forest. The default value is 100.\n",
        "\n",
        "- bootstrap: When set to False, the whole dataset will be used to generate each tree. Otherwise, it follows the bagging scheme we described above.\n",
        "\n",
        "- n_jobs: The number of processing jobs that run in parallel. When set to -1, it uses all available processors.\n",
        "\n",
        "- verbose: print logs describing the algorithm operations at each step. Higher integer numbers will provide more detailed logs. The default value is 0, where no logs are printed.\n",
        "\n",
        "- warm_start: It takes a boolean as an argument. If set to True, it uses previous information, saving computational time. For example, if we set 'n_estimators': [100,200], it will train 100 trees first and save that information. Before it starts the next 200 trees, it will use the information about the first 100 and then train the extra 100.\n",
        "\n",
        "- max_samples: Only works if bootstrap = True. This parameter limits the number of observations used to train each tree.\n",
        "\n",
        "- oob_score: It takes a boolean as an argument and represents the out-of-the-bag score. This is an alternative metric that uses the observations that were left out during the bagging procedure as a validation set. It only works when bootstrap = True. We can obtain its value using the oob_score_ attribute. The scores obtained through this attribute are the $R^2$ for regression forests and the accuracy for classification forests.\n",
        "\n",
        "Let's practice with some of these parameters and obtain the out-of-the-bag score for a random forest.\n",
        "\n",
        "\n"
      ],
      "metadata": {
        "id": "brPmX51PfaoU"
      }
    },
    {
      "cell_type": "code",
      "source": [
        "from sklearn.ensemble import RandomForestClassifier\n",
        "\n",
        "# Instantiate a classification forest \n",
        "random_forest_classif = RandomForestClassifier(max_depth=3, n_jobs=-1, random_state = 34, n_estimators= 20, oob_score= True)\n",
        "\n",
        "# Fit the forest\n",
        "random_forest_classif.fit(X,y)\n",
        "\n",
        "# Get oob_score\n",
        "oob_score = random_forest_classif.oob_score_\n",
        "\n",
        "print(f'The accuracy for the out-of-the-bag set in this classification forest was, {oob_score*100:.2f}%.')\n"
      ],
      "metadata": {
        "colab": {
          "base_uri": "https://localhost:8080/"
        },
        "id": "Juaf_EmGkJk8",
        "outputId": "44231684-862c-422f-971c-7302e8019a84"
      },
      "execution_count": null,
      "outputs": [
        {
          "output_type": "stream",
          "name": "stdout",
          "text": [
            "The accuracy for the out-of-the-bag set in this classification forest was, 54.39%.\n"
          ]
        }
      ]
    },
    {
      "cell_type": "markdown",
      "source": [
        "# Out-of-bag (OOB) score - Regression forests\n",
        "\n",
        "For the regression forest, once we set the oob_score parameter to True, sci-kit-learn will create a subtree with a subset of the data and another subtree with the observations that were left out. Next, it will make predictions in both subtrees and compute the score for both trees. This is the first of many trees and steps the random forest regressor will create. The computation of the OOB $R^2$ score is then straightforward and follows the same steps as for the subtree used in the training set. \n",
        "\n",
        "# Out-of-bag (OOB) score - Classification forests\n",
        "\n",
        "We already explained above how to compute the score for a classification forest. Let's work all the steps in an exercise using sci-kit-learn to make it explicit. We will use the random_forest_classif instance we created above.\n",
        "\n"
      ],
      "metadata": {
        "id": "CrZf-lK_GPJ0"
      }
    },
    {
      "cell_type": "code",
      "source": [
        "from sklearn.metrics import accuracy_score\n",
        "\n",
        "# Get and store oob predictions\n",
        "oob_predictions_class = random_forest_classif.oob_decision_function_\n",
        "\n",
        "print(oob_predictions_class)"
      ],
      "metadata": {
        "colab": {
          "base_uri": "https://localhost:8080/"
        },
        "id": "UjpN9UTur5Cp",
        "outputId": "4e85c989-46de-4225-a16f-67d2cf04a2fe"
      },
      "execution_count": null,
      "outputs": [
        {
          "output_type": "stream",
          "name": "stdout",
          "text": [
            "[[0.0233713  0.27526908 0.01850346 0.45696319 0.09955674 0.12633623]\n",
            " [0.01779383 0.18483143 0.02089541 0.55071356 0.07718143 0.14858434]\n",
            " [0.01868363 0.16519849 0.01697206 0.59238432 0.0899006  0.11686089]\n",
            " ...\n",
            " [0.01573107 0.1437328  0.01390058 0.5697899  0.06066863 0.196177  ]\n",
            " [0.01515793 0.15689882 0.01343504 0.59142343 0.08734163 0.13574314]\n",
            " [0.02296422 0.15850608 0.02035826 0.57905424 0.09005771 0.12905949]]\n"
          ]
        }
      ]
    },
    {
      "cell_type": "markdown",
      "source": [
        "It returns a list of lists. Every list contains the probability associated with each class. Let's get the classes names:\n"
      ],
      "metadata": {
        "id": "1w9nxP8Msfny"
      }
    },
    {
      "cell_type": "code",
      "source": [
        "# Get classes names in the order of the predictions above\n",
        "classes = random_forest_classif.classes_\n",
        "print(classes)"
      ],
      "metadata": {
        "colab": {
          "base_uri": "https://localhost:8080/"
        },
        "id": "25-YTjbWtGzn",
        "outputId": "68abc749-3878-48d9-9d2e-0ce3e6b8a8cc"
      },
      "execution_count": null,
      "outputs": [
        {
          "output_type": "stream",
          "name": "stdout",
          "text": [
            "['Excellent' 'Good' 'Poor' 'Sufficient' 'Very Good' 'Weak']\n"
          ]
        }
      ]
    },
    {
      "cell_type": "markdown",
      "source": [
        "Let's build a dataframe to make it easier to visualize the results."
      ],
      "metadata": {
        "id": "OCmespUItZDp"
      }
    },
    {
      "cell_type": "code",
      "source": [
        "# Create a dataframe from the observations and classes names\n",
        "probabilities_oob = pd.DataFrame(oob_predictions_class, columns =  classes )"
      ],
      "metadata": {
        "id": "lCVo9hDytotU"
      },
      "execution_count": null,
      "outputs": []
    },
    {
      "cell_type": "code",
      "source": [
        "probabilities_oob.head()"
      ],
      "metadata": {
        "colab": {
          "base_uri": "https://localhost:8080/",
          "height": 206
        },
        "id": "LIKz3a60vBkF",
        "outputId": "94034521-02d5-46cd-bafd-cc040824d366"
      },
      "execution_count": null,
      "outputs": [
        {
          "output_type": "execute_result",
          "data": {
            "text/plain": [
              "   Excellent      Good      Poor  Sufficient  Very Good      Weak\n",
              "0   0.023371  0.275269  0.018503    0.456963   0.099557  0.126336\n",
              "1   0.017794  0.184831  0.020895    0.550714   0.077181  0.148584\n",
              "2   0.018684  0.165198  0.016972    0.592384   0.089901  0.116861\n",
              "3   0.030575  0.142464  0.023845    0.553891   0.104219  0.145007\n",
              "4   0.034802  0.193078  0.035141    0.525376   0.095001  0.116602"
            ],
            "text/html": [
              "\n",
              "  <div id=\"df-f1069e35-353e-46fd-8e0c-62daabfb545b\">\n",
              "    <div class=\"colab-df-container\">\n",
              "      <div>\n",
              "<style scoped>\n",
              "    .dataframe tbody tr th:only-of-type {\n",
              "        vertical-align: middle;\n",
              "    }\n",
              "\n",
              "    .dataframe tbody tr th {\n",
              "        vertical-align: top;\n",
              "    }\n",
              "\n",
              "    .dataframe thead th {\n",
              "        text-align: right;\n",
              "    }\n",
              "</style>\n",
              "<table border=\"1\" class=\"dataframe\">\n",
              "  <thead>\n",
              "    <tr style=\"text-align: right;\">\n",
              "      <th></th>\n",
              "      <th>Excellent</th>\n",
              "      <th>Good</th>\n",
              "      <th>Poor</th>\n",
              "      <th>Sufficient</th>\n",
              "      <th>Very Good</th>\n",
              "      <th>Weak</th>\n",
              "    </tr>\n",
              "  </thead>\n",
              "  <tbody>\n",
              "    <tr>\n",
              "      <th>0</th>\n",
              "      <td>0.023371</td>\n",
              "      <td>0.275269</td>\n",
              "      <td>0.018503</td>\n",
              "      <td>0.456963</td>\n",
              "      <td>0.099557</td>\n",
              "      <td>0.126336</td>\n",
              "    </tr>\n",
              "    <tr>\n",
              "      <th>1</th>\n",
              "      <td>0.017794</td>\n",
              "      <td>0.184831</td>\n",
              "      <td>0.020895</td>\n",
              "      <td>0.550714</td>\n",
              "      <td>0.077181</td>\n",
              "      <td>0.148584</td>\n",
              "    </tr>\n",
              "    <tr>\n",
              "      <th>2</th>\n",
              "      <td>0.018684</td>\n",
              "      <td>0.165198</td>\n",
              "      <td>0.016972</td>\n",
              "      <td>0.592384</td>\n",
              "      <td>0.089901</td>\n",
              "      <td>0.116861</td>\n",
              "    </tr>\n",
              "    <tr>\n",
              "      <th>3</th>\n",
              "      <td>0.030575</td>\n",
              "      <td>0.142464</td>\n",
              "      <td>0.023845</td>\n",
              "      <td>0.553891</td>\n",
              "      <td>0.104219</td>\n",
              "      <td>0.145007</td>\n",
              "    </tr>\n",
              "    <tr>\n",
              "      <th>4</th>\n",
              "      <td>0.034802</td>\n",
              "      <td>0.193078</td>\n",
              "      <td>0.035141</td>\n",
              "      <td>0.525376</td>\n",
              "      <td>0.095001</td>\n",
              "      <td>0.116602</td>\n",
              "    </tr>\n",
              "  </tbody>\n",
              "</table>\n",
              "</div>\n",
              "      <button class=\"colab-df-convert\" onclick=\"convertToInteractive('df-f1069e35-353e-46fd-8e0c-62daabfb545b')\"\n",
              "              title=\"Convert this dataframe to an interactive table.\"\n",
              "              style=\"display:none;\">\n",
              "        \n",
              "  <svg xmlns=\"http://www.w3.org/2000/svg\" height=\"24px\"viewBox=\"0 0 24 24\"\n",
              "       width=\"24px\">\n",
              "    <path d=\"M0 0h24v24H0V0z\" fill=\"none\"/>\n",
              "    <path d=\"M18.56 5.44l.94 2.06.94-2.06 2.06-.94-2.06-.94-.94-2.06-.94 2.06-2.06.94zm-11 1L8.5 8.5l.94-2.06 2.06-.94-2.06-.94L8.5 2.5l-.94 2.06-2.06.94zm10 10l.94 2.06.94-2.06 2.06-.94-2.06-.94-.94-2.06-.94 2.06-2.06.94z\"/><path d=\"M17.41 7.96l-1.37-1.37c-.4-.4-.92-.59-1.43-.59-.52 0-1.04.2-1.43.59L10.3 9.45l-7.72 7.72c-.78.78-.78 2.05 0 2.83L4 21.41c.39.39.9.59 1.41.59.51 0 1.02-.2 1.41-.59l7.78-7.78 2.81-2.81c.8-.78.8-2.07 0-2.86zM5.41 20L4 18.59l7.72-7.72 1.47 1.35L5.41 20z\"/>\n",
              "  </svg>\n",
              "      </button>\n",
              "      \n",
              "  <style>\n",
              "    .colab-df-container {\n",
              "      display:flex;\n",
              "      flex-wrap:wrap;\n",
              "      gap: 12px;\n",
              "    }\n",
              "\n",
              "    .colab-df-convert {\n",
              "      background-color: #E8F0FE;\n",
              "      border: none;\n",
              "      border-radius: 50%;\n",
              "      cursor: pointer;\n",
              "      display: none;\n",
              "      fill: #1967D2;\n",
              "      height: 32px;\n",
              "      padding: 0 0 0 0;\n",
              "      width: 32px;\n",
              "    }\n",
              "\n",
              "    .colab-df-convert:hover {\n",
              "      background-color: #E2EBFA;\n",
              "      box-shadow: 0px 1px 2px rgba(60, 64, 67, 0.3), 0px 1px 3px 1px rgba(60, 64, 67, 0.15);\n",
              "      fill: #174EA6;\n",
              "    }\n",
              "\n",
              "    [theme=dark] .colab-df-convert {\n",
              "      background-color: #3B4455;\n",
              "      fill: #D2E3FC;\n",
              "    }\n",
              "\n",
              "    [theme=dark] .colab-df-convert:hover {\n",
              "      background-color: #434B5C;\n",
              "      box-shadow: 0px 1px 3px 1px rgba(0, 0, 0, 0.15);\n",
              "      filter: drop-shadow(0px 1px 2px rgba(0, 0, 0, 0.3));\n",
              "      fill: #FFFFFF;\n",
              "    }\n",
              "  </style>\n",
              "\n",
              "      <script>\n",
              "        const buttonEl =\n",
              "          document.querySelector('#df-f1069e35-353e-46fd-8e0c-62daabfb545b button.colab-df-convert');\n",
              "        buttonEl.style.display =\n",
              "          google.colab.kernel.accessAllowed ? 'block' : 'none';\n",
              "\n",
              "        async function convertToInteractive(key) {\n",
              "          const element = document.querySelector('#df-f1069e35-353e-46fd-8e0c-62daabfb545b');\n",
              "          const dataTable =\n",
              "            await google.colab.kernel.invokeFunction('convertToInteractive',\n",
              "                                                     [key], {});\n",
              "          if (!dataTable) return;\n",
              "\n",
              "          const docLinkHtml = 'Like what you see? Visit the ' +\n",
              "            '<a target=\"_blank\" href=https://colab.research.google.com/notebooks/data_table.ipynb>data table notebook</a>'\n",
              "            + ' to learn more about interactive tables.';\n",
              "          element.innerHTML = '';\n",
              "          dataTable['output_type'] = 'display_data';\n",
              "          await google.colab.output.renderOutput(dataTable, element);\n",
              "          const docLink = document.createElement('div');\n",
              "          docLink.innerHTML = docLinkHtml;\n",
              "          element.appendChild(docLink);\n",
              "        }\n",
              "      </script>\n",
              "    </div>\n",
              "  </div>\n",
              "  "
            ]
          },
          "metadata": {},
          "execution_count": 53
        }
      ]
    },
    {
      "cell_type": "markdown",
      "source": [
        "Every observation will have a class prediction associated with it. We will create another column called y_pred and use the [idxmax()](https://pandas.pydata.org/docs/reference/api/pandas.DataFrame.idxmax.html) method from pandas to get the column associated with the highest probability for each observation. Next, we will add the correct outcomes in another column."
      ],
      "metadata": {
        "id": "eAzej2JxvIDh"
      }
    },
    {
      "cell_type": "code",
      "source": [
        "# Create a new column with the predicted classes\n",
        "probabilities_oob['y_pred'] = probabilities_oob.idxmax(axis = 1)"
      ],
      "metadata": {
        "id": "79m0G-9pwJWd"
      },
      "execution_count": null,
      "outputs": []
    },
    {
      "cell_type": "code",
      "source": [
        "probabilities_oob.head()"
      ],
      "metadata": {
        "colab": {
          "base_uri": "https://localhost:8080/",
          "height": 206
        },
        "id": "u35iIHj6wo4a",
        "outputId": "a9311b34-80f2-442c-d01c-beec861974c0"
      },
      "execution_count": null,
      "outputs": [
        {
          "output_type": "execute_result",
          "data": {
            "text/plain": [
              "   Excellent      Good      Poor  Sufficient  Very Good      Weak      y_pred\n",
              "0   0.023371  0.275269  0.018503    0.456963   0.099557  0.126336  Sufficient\n",
              "1   0.017794  0.184831  0.020895    0.550714   0.077181  0.148584  Sufficient\n",
              "2   0.018684  0.165198  0.016972    0.592384   0.089901  0.116861  Sufficient\n",
              "3   0.030575  0.142464  0.023845    0.553891   0.104219  0.145007  Sufficient\n",
              "4   0.034802  0.193078  0.035141    0.525376   0.095001  0.116602  Sufficient"
            ],
            "text/html": [
              "\n",
              "  <div id=\"df-d5efc927-a355-4759-b2fa-2af83800cc66\">\n",
              "    <div class=\"colab-df-container\">\n",
              "      <div>\n",
              "<style scoped>\n",
              "    .dataframe tbody tr th:only-of-type {\n",
              "        vertical-align: middle;\n",
              "    }\n",
              "\n",
              "    .dataframe tbody tr th {\n",
              "        vertical-align: top;\n",
              "    }\n",
              "\n",
              "    .dataframe thead th {\n",
              "        text-align: right;\n",
              "    }\n",
              "</style>\n",
              "<table border=\"1\" class=\"dataframe\">\n",
              "  <thead>\n",
              "    <tr style=\"text-align: right;\">\n",
              "      <th></th>\n",
              "      <th>Excellent</th>\n",
              "      <th>Good</th>\n",
              "      <th>Poor</th>\n",
              "      <th>Sufficient</th>\n",
              "      <th>Very Good</th>\n",
              "      <th>Weak</th>\n",
              "      <th>y_pred</th>\n",
              "    </tr>\n",
              "  </thead>\n",
              "  <tbody>\n",
              "    <tr>\n",
              "      <th>0</th>\n",
              "      <td>0.023371</td>\n",
              "      <td>0.275269</td>\n",
              "      <td>0.018503</td>\n",
              "      <td>0.456963</td>\n",
              "      <td>0.099557</td>\n",
              "      <td>0.126336</td>\n",
              "      <td>Sufficient</td>\n",
              "    </tr>\n",
              "    <tr>\n",
              "      <th>1</th>\n",
              "      <td>0.017794</td>\n",
              "      <td>0.184831</td>\n",
              "      <td>0.020895</td>\n",
              "      <td>0.550714</td>\n",
              "      <td>0.077181</td>\n",
              "      <td>0.148584</td>\n",
              "      <td>Sufficient</td>\n",
              "    </tr>\n",
              "    <tr>\n",
              "      <th>2</th>\n",
              "      <td>0.018684</td>\n",
              "      <td>0.165198</td>\n",
              "      <td>0.016972</td>\n",
              "      <td>0.592384</td>\n",
              "      <td>0.089901</td>\n",
              "      <td>0.116861</td>\n",
              "      <td>Sufficient</td>\n",
              "    </tr>\n",
              "    <tr>\n",
              "      <th>3</th>\n",
              "      <td>0.030575</td>\n",
              "      <td>0.142464</td>\n",
              "      <td>0.023845</td>\n",
              "      <td>0.553891</td>\n",
              "      <td>0.104219</td>\n",
              "      <td>0.145007</td>\n",
              "      <td>Sufficient</td>\n",
              "    </tr>\n",
              "    <tr>\n",
              "      <th>4</th>\n",
              "      <td>0.034802</td>\n",
              "      <td>0.193078</td>\n",
              "      <td>0.035141</td>\n",
              "      <td>0.525376</td>\n",
              "      <td>0.095001</td>\n",
              "      <td>0.116602</td>\n",
              "      <td>Sufficient</td>\n",
              "    </tr>\n",
              "  </tbody>\n",
              "</table>\n",
              "</div>\n",
              "      <button class=\"colab-df-convert\" onclick=\"convertToInteractive('df-d5efc927-a355-4759-b2fa-2af83800cc66')\"\n",
              "              title=\"Convert this dataframe to an interactive table.\"\n",
              "              style=\"display:none;\">\n",
              "        \n",
              "  <svg xmlns=\"http://www.w3.org/2000/svg\" height=\"24px\"viewBox=\"0 0 24 24\"\n",
              "       width=\"24px\">\n",
              "    <path d=\"M0 0h24v24H0V0z\" fill=\"none\"/>\n",
              "    <path d=\"M18.56 5.44l.94 2.06.94-2.06 2.06-.94-2.06-.94-.94-2.06-.94 2.06-2.06.94zm-11 1L8.5 8.5l.94-2.06 2.06-.94-2.06-.94L8.5 2.5l-.94 2.06-2.06.94zm10 10l.94 2.06.94-2.06 2.06-.94-2.06-.94-.94-2.06-.94 2.06-2.06.94z\"/><path d=\"M17.41 7.96l-1.37-1.37c-.4-.4-.92-.59-1.43-.59-.52 0-1.04.2-1.43.59L10.3 9.45l-7.72 7.72c-.78.78-.78 2.05 0 2.83L4 21.41c.39.39.9.59 1.41.59.51 0 1.02-.2 1.41-.59l7.78-7.78 2.81-2.81c.8-.78.8-2.07 0-2.86zM5.41 20L4 18.59l7.72-7.72 1.47 1.35L5.41 20z\"/>\n",
              "  </svg>\n",
              "      </button>\n",
              "      \n",
              "  <style>\n",
              "    .colab-df-container {\n",
              "      display:flex;\n",
              "      flex-wrap:wrap;\n",
              "      gap: 12px;\n",
              "    }\n",
              "\n",
              "    .colab-df-convert {\n",
              "      background-color: #E8F0FE;\n",
              "      border: none;\n",
              "      border-radius: 50%;\n",
              "      cursor: pointer;\n",
              "      display: none;\n",
              "      fill: #1967D2;\n",
              "      height: 32px;\n",
              "      padding: 0 0 0 0;\n",
              "      width: 32px;\n",
              "    }\n",
              "\n",
              "    .colab-df-convert:hover {\n",
              "      background-color: #E2EBFA;\n",
              "      box-shadow: 0px 1px 2px rgba(60, 64, 67, 0.3), 0px 1px 3px 1px rgba(60, 64, 67, 0.15);\n",
              "      fill: #174EA6;\n",
              "    }\n",
              "\n",
              "    [theme=dark] .colab-df-convert {\n",
              "      background-color: #3B4455;\n",
              "      fill: #D2E3FC;\n",
              "    }\n",
              "\n",
              "    [theme=dark] .colab-df-convert:hover {\n",
              "      background-color: #434B5C;\n",
              "      box-shadow: 0px 1px 3px 1px rgba(0, 0, 0, 0.15);\n",
              "      filter: drop-shadow(0px 1px 2px rgba(0, 0, 0, 0.3));\n",
              "      fill: #FFFFFF;\n",
              "    }\n",
              "  </style>\n",
              "\n",
              "      <script>\n",
              "        const buttonEl =\n",
              "          document.querySelector('#df-d5efc927-a355-4759-b2fa-2af83800cc66 button.colab-df-convert');\n",
              "        buttonEl.style.display =\n",
              "          google.colab.kernel.accessAllowed ? 'block' : 'none';\n",
              "\n",
              "        async function convertToInteractive(key) {\n",
              "          const element = document.querySelector('#df-d5efc927-a355-4759-b2fa-2af83800cc66');\n",
              "          const dataTable =\n",
              "            await google.colab.kernel.invokeFunction('convertToInteractive',\n",
              "                                                     [key], {});\n",
              "          if (!dataTable) return;\n",
              "\n",
              "          const docLinkHtml = 'Like what you see? Visit the ' +\n",
              "            '<a target=\"_blank\" href=https://colab.research.google.com/notebooks/data_table.ipynb>data table notebook</a>'\n",
              "            + ' to learn more about interactive tables.';\n",
              "          element.innerHTML = '';\n",
              "          dataTable['output_type'] = 'display_data';\n",
              "          await google.colab.output.renderOutput(dataTable, element);\n",
              "          const docLink = document.createElement('div');\n",
              "          docLink.innerHTML = docLinkHtml;\n",
              "          element.appendChild(docLink);\n",
              "        }\n",
              "      </script>\n",
              "    </div>\n",
              "  </div>\n",
              "  "
            ]
          },
          "metadata": {},
          "execution_count": 59
        }
      ]
    },
    {
      "cell_type": "markdown",
      "source": [
        "Next, we add the correct outcomes in another column."
      ],
      "metadata": {
        "id": "ZG9QpXyBwqkA"
      }
    },
    {
      "cell_type": "code",
      "source": [
        "# Create a new column with the outcomes\n",
        "probabilities_oob['y_test'] = y"
      ],
      "metadata": {
        "id": "o4Zc-Nz5xdsL"
      },
      "execution_count": null,
      "outputs": []
    },
    {
      "cell_type": "code",
      "source": [
        "probabilities_oob.head()"
      ],
      "metadata": {
        "colab": {
          "base_uri": "https://localhost:8080/",
          "height": 206
        },
        "id": "qsQ45Hyexm-d",
        "outputId": "bd960a63-5697-46f1-ae79-a6d9ba033b21"
      },
      "execution_count": null,
      "outputs": [
        {
          "output_type": "execute_result",
          "data": {
            "text/plain": [
              "   Excellent      Good      Poor  Sufficient  Very Good      Weak      y_pred  \\\n",
              "0   0.023371  0.275269  0.018503    0.456963   0.099557  0.126336  Sufficient   \n",
              "1   0.017794  0.184831  0.020895    0.550714   0.077181  0.148584  Sufficient   \n",
              "2   0.018684  0.165198  0.016972    0.592384   0.089901  0.116861  Sufficient   \n",
              "3   0.030575  0.142464  0.023845    0.553891   0.104219  0.145007  Sufficient   \n",
              "4   0.034802  0.193078  0.035141    0.525376   0.095001  0.116602  Sufficient   \n",
              "\n",
              "       y_test  \n",
              "0  Sufficient  \n",
              "1  Sufficient  \n",
              "2  Sufficient  \n",
              "3        Good  \n",
              "4  Sufficient  "
            ],
            "text/html": [
              "\n",
              "  <div id=\"df-35d5dbf3-91ac-4790-9a63-2d9e2735d950\">\n",
              "    <div class=\"colab-df-container\">\n",
              "      <div>\n",
              "<style scoped>\n",
              "    .dataframe tbody tr th:only-of-type {\n",
              "        vertical-align: middle;\n",
              "    }\n",
              "\n",
              "    .dataframe tbody tr th {\n",
              "        vertical-align: top;\n",
              "    }\n",
              "\n",
              "    .dataframe thead th {\n",
              "        text-align: right;\n",
              "    }\n",
              "</style>\n",
              "<table border=\"1\" class=\"dataframe\">\n",
              "  <thead>\n",
              "    <tr style=\"text-align: right;\">\n",
              "      <th></th>\n",
              "      <th>Excellent</th>\n",
              "      <th>Good</th>\n",
              "      <th>Poor</th>\n",
              "      <th>Sufficient</th>\n",
              "      <th>Very Good</th>\n",
              "      <th>Weak</th>\n",
              "      <th>y_pred</th>\n",
              "      <th>y_test</th>\n",
              "    </tr>\n",
              "  </thead>\n",
              "  <tbody>\n",
              "    <tr>\n",
              "      <th>0</th>\n",
              "      <td>0.023371</td>\n",
              "      <td>0.275269</td>\n",
              "      <td>0.018503</td>\n",
              "      <td>0.456963</td>\n",
              "      <td>0.099557</td>\n",
              "      <td>0.126336</td>\n",
              "      <td>Sufficient</td>\n",
              "      <td>Sufficient</td>\n",
              "    </tr>\n",
              "    <tr>\n",
              "      <th>1</th>\n",
              "      <td>0.017794</td>\n",
              "      <td>0.184831</td>\n",
              "      <td>0.020895</td>\n",
              "      <td>0.550714</td>\n",
              "      <td>0.077181</td>\n",
              "      <td>0.148584</td>\n",
              "      <td>Sufficient</td>\n",
              "      <td>Sufficient</td>\n",
              "    </tr>\n",
              "    <tr>\n",
              "      <th>2</th>\n",
              "      <td>0.018684</td>\n",
              "      <td>0.165198</td>\n",
              "      <td>0.016972</td>\n",
              "      <td>0.592384</td>\n",
              "      <td>0.089901</td>\n",
              "      <td>0.116861</td>\n",
              "      <td>Sufficient</td>\n",
              "      <td>Sufficient</td>\n",
              "    </tr>\n",
              "    <tr>\n",
              "      <th>3</th>\n",
              "      <td>0.030575</td>\n",
              "      <td>0.142464</td>\n",
              "      <td>0.023845</td>\n",
              "      <td>0.553891</td>\n",
              "      <td>0.104219</td>\n",
              "      <td>0.145007</td>\n",
              "      <td>Sufficient</td>\n",
              "      <td>Good</td>\n",
              "    </tr>\n",
              "    <tr>\n",
              "      <th>4</th>\n",
              "      <td>0.034802</td>\n",
              "      <td>0.193078</td>\n",
              "      <td>0.035141</td>\n",
              "      <td>0.525376</td>\n",
              "      <td>0.095001</td>\n",
              "      <td>0.116602</td>\n",
              "      <td>Sufficient</td>\n",
              "      <td>Sufficient</td>\n",
              "    </tr>\n",
              "  </tbody>\n",
              "</table>\n",
              "</div>\n",
              "      <button class=\"colab-df-convert\" onclick=\"convertToInteractive('df-35d5dbf3-91ac-4790-9a63-2d9e2735d950')\"\n",
              "              title=\"Convert this dataframe to an interactive table.\"\n",
              "              style=\"display:none;\">\n",
              "        \n",
              "  <svg xmlns=\"http://www.w3.org/2000/svg\" height=\"24px\"viewBox=\"0 0 24 24\"\n",
              "       width=\"24px\">\n",
              "    <path d=\"M0 0h24v24H0V0z\" fill=\"none\"/>\n",
              "    <path d=\"M18.56 5.44l.94 2.06.94-2.06 2.06-.94-2.06-.94-.94-2.06-.94 2.06-2.06.94zm-11 1L8.5 8.5l.94-2.06 2.06-.94-2.06-.94L8.5 2.5l-.94 2.06-2.06.94zm10 10l.94 2.06.94-2.06 2.06-.94-2.06-.94-.94-2.06-.94 2.06-2.06.94z\"/><path d=\"M17.41 7.96l-1.37-1.37c-.4-.4-.92-.59-1.43-.59-.52 0-1.04.2-1.43.59L10.3 9.45l-7.72 7.72c-.78.78-.78 2.05 0 2.83L4 21.41c.39.39.9.59 1.41.59.51 0 1.02-.2 1.41-.59l7.78-7.78 2.81-2.81c.8-.78.8-2.07 0-2.86zM5.41 20L4 18.59l7.72-7.72 1.47 1.35L5.41 20z\"/>\n",
              "  </svg>\n",
              "      </button>\n",
              "      \n",
              "  <style>\n",
              "    .colab-df-container {\n",
              "      display:flex;\n",
              "      flex-wrap:wrap;\n",
              "      gap: 12px;\n",
              "    }\n",
              "\n",
              "    .colab-df-convert {\n",
              "      background-color: #E8F0FE;\n",
              "      border: none;\n",
              "      border-radius: 50%;\n",
              "      cursor: pointer;\n",
              "      display: none;\n",
              "      fill: #1967D2;\n",
              "      height: 32px;\n",
              "      padding: 0 0 0 0;\n",
              "      width: 32px;\n",
              "    }\n",
              "\n",
              "    .colab-df-convert:hover {\n",
              "      background-color: #E2EBFA;\n",
              "      box-shadow: 0px 1px 2px rgba(60, 64, 67, 0.3), 0px 1px 3px 1px rgba(60, 64, 67, 0.15);\n",
              "      fill: #174EA6;\n",
              "    }\n",
              "\n",
              "    [theme=dark] .colab-df-convert {\n",
              "      background-color: #3B4455;\n",
              "      fill: #D2E3FC;\n",
              "    }\n",
              "\n",
              "    [theme=dark] .colab-df-convert:hover {\n",
              "      background-color: #434B5C;\n",
              "      box-shadow: 0px 1px 3px 1px rgba(0, 0, 0, 0.15);\n",
              "      filter: drop-shadow(0px 1px 2px rgba(0, 0, 0, 0.3));\n",
              "      fill: #FFFFFF;\n",
              "    }\n",
              "  </style>\n",
              "\n",
              "      <script>\n",
              "        const buttonEl =\n",
              "          document.querySelector('#df-35d5dbf3-91ac-4790-9a63-2d9e2735d950 button.colab-df-convert');\n",
              "        buttonEl.style.display =\n",
              "          google.colab.kernel.accessAllowed ? 'block' : 'none';\n",
              "\n",
              "        async function convertToInteractive(key) {\n",
              "          const element = document.querySelector('#df-35d5dbf3-91ac-4790-9a63-2d9e2735d950');\n",
              "          const dataTable =\n",
              "            await google.colab.kernel.invokeFunction('convertToInteractive',\n",
              "                                                     [key], {});\n",
              "          if (!dataTable) return;\n",
              "\n",
              "          const docLinkHtml = 'Like what you see? Visit the ' +\n",
              "            '<a target=\"_blank\" href=https://colab.research.google.com/notebooks/data_table.ipynb>data table notebook</a>'\n",
              "            + ' to learn more about interactive tables.';\n",
              "          element.innerHTML = '';\n",
              "          dataTable['output_type'] = 'display_data';\n",
              "          await google.colab.output.renderOutput(dataTable, element);\n",
              "          const docLink = document.createElement('div');\n",
              "          docLink.innerHTML = docLinkHtml;\n",
              "          element.appendChild(docLink);\n",
              "        }\n",
              "      </script>\n",
              "    </div>\n",
              "  </div>\n",
              "  "
            ]
          },
          "metadata": {},
          "execution_count": 61
        }
      ]
    },
    {
      "cell_type": "markdown",
      "source": [
        "We are ready to compute the accuracy by hand and learn how to obtain the accuracy score. Let's compute it.\n"
      ],
      "metadata": {
        "id": "4s4bBCCsxosN"
      }
    },
    {
      "cell_type": "code",
      "source": [
        "# Compute the accuracy score by hand\n",
        "correct_predictions = probabilities_oob[(probabilities_oob['y_pred'] == probabilities_oob['y_test'])].shape[0]\n",
        "total_numb_obs = probabilities_oob.shape[0]\n",
        "\n",
        "accuracy = correct_predictions/total_numb_obs\n",
        "\n",
        "print(f'The accuracy computed by hand was {accuracy*100:.2f}%.')"
      ],
      "metadata": {
        "colab": {
          "base_uri": "https://localhost:8080/"
        },
        "id": "-iFK1VvCyCsr",
        "outputId": "d031e089-ca45-46e2-dc7c-3b50195a1383"
      },
      "execution_count": null,
      "outputs": [
        {
          "output_type": "stream",
          "name": "stdout",
          "text": [
            "The accuracy computed by hand was 54.39%.\n"
          ]
        }
      ]
    },
    {
      "cell_type": "markdown",
      "source": [
        "As expected, this is precisely the value obtained by sci-kit-learn using the oob_score_ attribute.\n",
        "\n",
        "# Extremely randomized trees\n",
        "\n",
        "There is a lesser-known type of random forest; **extra trees** (short for extremely randomized trees). It shares most of the same parameters as a random forest algorithm, but also includes two fundamental differences that aim to increase the level of randomness of the trees:\n",
        "\n",
        "- Every tree uses the entire dataset. In other words, it does not use **bagging**, and the OOB set is not available.\n",
        "\n",
        "- It does use a random selection of the columns, however, the thresholds at the nodes are chosen at random. The optimal threshold of this random choice is selected to split the data. \n",
        "\n",
        "The code steps to instantiate, fit and compute the score of an extra tree are very similar to the ones we used for random forests. However, due to the lack of the OOB set, we need to separate the data into training and test sets.\n",
        "\n",
        "Let's practice with it."
      ],
      "metadata": {
        "id": "s_-WTzeoy6ud"
      }
    },
    {
      "cell_type": "code",
      "source": [
        "from sklearn.ensemble import ExtraTreesRegressor\n",
        "\n",
        "# Instantiate an extra tree regressor\n",
        "extra_tree_reg = ExtraTreesRegressor(max_depth = 9, n_estimators = 200, random_state = 34)\n",
        "\n",
        "# Perform cross-validation \n",
        "extra_trees_crossvalidation = cross_val_score(extra_tree_reg, X_reg, y_reg, cv = 8, n_jobs= -1)\n",
        "\n",
        "# Calculate the mean of the accuracy\n",
        "cross_val_mean = extra_trees_crossvalidation.mean()"
      ],
      "metadata": {
        "id": "p8h0mH6Wzmto"
      },
      "execution_count": null,
      "outputs": []
    },
    {
      "cell_type": "code",
      "source": [
        "print(f'The mean value for the R^2 value, using the extra trees instance and cross-validation, was {cross_val_mean:.4f}.')"
      ],
      "metadata": {
        "colab": {
          "base_uri": "https://localhost:8080/"
        },
        "id": "Byn56wf88HLt",
        "outputId": "d63711f8-ebbb-4457-9a10-9be2950221b5"
      },
      "execution_count": null,
      "outputs": [
        {
          "output_type": "stream",
          "name": "stdout",
          "text": [
            "The mean value for the R^2 value, using the extra trees instance and cross validation, was -0.3357.\n"
          ]
        }
      ]
    },
    {
      "cell_type": "markdown",
      "source": [
        "The $R^2$ value for this model was negative. In a real-life scenario, we would have to rethink the data and model selection. \n",
        "\n",
        "# Wrapping up\n",
        "\n",
        "Decision tree advantages are:\n",
        "\n",
        "- They are easier to understand compared to other machine learning models.\n",
        "\n",
        "- They work for classification and regression problems.\n",
        "\n",
        "- They are easy to visualize and display, making them easy to share with a non-technical audience.\n",
        "\n",
        "- They don't require underlining assumptions about the data. It simply divides the data into homogenous groups.\n",
        "\n",
        "The disadvantages of decision trees are:\n",
        "\n",
        "- They don't stop dividing the data until achieving a homogeneous group. For that reason, it tends to overfit the data.\n",
        "\n",
        "- It requires extra work to prune it and tweak the hyperparameters in order to avoid overfitting.\n",
        "\n",
        "- Decision trees are extremely sensitive to small changes in the data. The threshold values at a split can change drastically with a small variation in the observations. However, we learned that random forests and extra trees mitigate this issue.\n",
        "\n",
        "- Trees tend to be time-consuming and computationally expensive.\n",
        "\n",
        "- Although they seem easy to grasp, the details of the computations become complex and repetitive.\n",
        "\n",
        "Despite their limitations, decision trees and random forests are widely used and are two of the most important machine learning algorithms in use today.\n",
        "\n",
        "# Summary\n",
        "\n",
        "In this lesson we've learned:\n",
        "\n",
        "- How to perform cross-validation using the K-Fold cross-validation method.\n",
        "\n",
        "- The cross_val_score and cross_validate tool from sci-kit-learn and how to implement them in a real dataset.\n",
        "\n",
        "- How to create a score with the make_scorer method.\n",
        "\n",
        "- How grid search operates and how to implement it using the GridSearchCV class from sci-kit-learn.\n",
        "\n",
        "- The importance of random forests to mitigate the tendency of decision trees to overfit.\n",
        "\n",
        "- How random forests achieve it and how to implement them using sci-kit-learn."
      ],
      "metadata": {
        "id": "ynUUSZus8S1F"
      }
    }
  ]
}